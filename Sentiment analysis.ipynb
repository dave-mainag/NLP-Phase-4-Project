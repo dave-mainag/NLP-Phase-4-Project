{
 "cells": [
  {
   "cell_type": "markdown",
   "id": "a65e6f13",
   "metadata": {},
   "source": [
    "# Sentiment Analysis for Product Stocking: NLP Insights for Best Buy"
   ]
  },
  {
   "cell_type": "markdown",
   "id": "7ee91ae2",
   "metadata": {},
   "source": [
    "![Sentiment Analysis](Customer-survey-feedback.jpg)"
   ]
  },
  {
   "cell_type": "markdown",
   "id": "58d47781",
   "metadata": {},
   "source": [
    "## Overview"
   ]
  },
  {
   "cell_type": "markdown",
   "id": "f508ec97",
   "metadata": {},
   "source": [
    "Best Buy, a prominent reseller of iPhone and Google products, seeks to optimize its stocking decisions by understanding user sentiments towards these products. This data science project focuses on leveraging Twitter sentiment analysis to gain insights into customer opinions and preferences regarding iPhone and Google products. By analyzing user sentiments, Best Buy aims to make informed stocking decisions that align with customer demand and enhance overall customer satisfaction. The project involves collecting Twitter data related to discussions, reviews, and mentions of iPhone and Google products, followed by preprocessing and sentiment analysis. The insights derived from this analysis will guide Best Buy in optimizing its product assortment and ensuring a strategic alignment with customer preferences."
   ]
  },
  {
   "cell_type": "markdown",
   "id": "dea87b2d",
   "metadata": {},
   "source": [
    "# Problem Statement \n",
    "\n",
    "Best Buy, a leading reseller of iPhone and Google products, faces the challenge of stocking its inventory to match customer preferences. The absence of a systematic approach to analyze user sentiments on platforms like Twitter hinders data-driven stocking decisions. This project aims to leverage Twitter sentiment analysis to understand customer opinions better. By gaining insights into user sentiments, Best Buy seeks to improve stocking decisions, ensuring availability of products aligned with customer preferences and enhancing overall satisfaction and loyalty"
   ]
  },
  {
   "cell_type": "markdown",
   "id": "8c10f6fb",
   "metadata": {},
   "source": [
    "## Business Value"
   ]
  },
  {
   "cell_type": "markdown",
   "id": "2ca6ba17",
   "metadata": {},
   "source": [
    "By leveraging Twitter sentiment analysis to understand customer opinions, Best Buy will be able to make more informed stocking decisions leading to better allocation of resources, improved product assortment, enhanced customer satisfaction and profitability. By staying ahead of trends and understanding customer sentiments better than competitors, Best Buy can position itself as a preferred destination for purchasing iPhone and Google products."
   ]
  },
  {
   "cell_type": "markdown",
   "id": "98fbf8a9",
   "metadata": {},
   "source": [
    "## Objectives"
   ]
  },
  {
   "cell_type": "markdown",
   "id": "feb654c9",
   "metadata": {},
   "source": [
    "The goal of this project is to analyse customer sentiments on Twitter to inform Best Buy's stocking decisions for iPhone and Google products. By analyzing customer opinions, the aim is to improve resource allocation, optimize product assortment, enhance customer satisfaction, and ultimately increase profitability."
   ]
  },
  {
   "cell_type": "markdown",
   "id": "997cf313",
   "metadata": {},
   "source": [
    "## Research Questions"
   ]
  },
  {
   "cell_type": "markdown",
   "id": "63858504",
   "metadata": {},
   "source": [
    "1. What are the predominant sentiments expressed by customers on Twitter regarding iPhone and Google products?\n",
    "\n",
    "2. What factors influence the polarity of tweets related to iPhone and Google products on Twitter?\n",
    "\n",
    "3. Which specific features of iPhone and Google products are most frequently praised or criticized by users on Twitter?\n",
    "\n",
    "4. Which machine learning model is most effective in sentiment analysis?"
   ]
  },
  {
   "cell_type": "code",
   "execution_count": 91,
   "id": "e11b17d6",
   "metadata": {},
   "outputs": [],
   "source": [
    "#Import libraries\n",
    "import pandas as pd\n",
    "import numpy as np\n",
    "import matplotlib.pyplot as plt\n",
    "plt.style.use('ggplot')\n",
    "%matplotlib inline\n",
    "\n",
    "import re\n",
    "from string import punctuation\n",
    "\n",
    "#scipy\n",
    "from scipy.sparse import csr_matrix\n",
    "\n",
    "#sklearn\n",
    "from sklearn.feature_extraction.text import TfidfVectorizer\n",
    "from sklearn.model_selection import train_test_split, cross_validate\n",
    "from sklearn.metrics import classification_report, f1_score, accuracy_score, precision_score, recall_score\n",
    "from sklearn.pipeline import Pipeline\n",
    "from sklearn.model_selection import GridSearchCV\n",
    "from sklearn.compose import ColumnTransformer\n",
    "from imblearn.over_sampling import SMOTE\n",
    "from sklearn.naive_bayes import MultinomialNB\n",
    "from sklearn.tree import DecisionTreeClassifier\n",
    "from sklearn.ensemble import RandomForestClassifier\n",
    "from sklearn.preprocessing import OrdinalEncoder, LabelEncoder, OneHotEncoder, StandardScaler\n",
    "from sklearn.preprocessing import StandardScaler, MinMaxScaler\n",
    "from sklearn.svm import SVC\n",
    "\n",
    "#xgboost\n",
    "import xgboost as xgb\n",
    "\n",
    "#nlkt\n",
    "from nltk import FreqDist\n",
    "from nltk.stem import PorterStemmer\n",
    "from nltk.stem import WordNetLemmatizer\n",
    "from nltk.tokenize import word_tokenize, RegexpTokenizer\n",
    "from nltk.corpus import stopwords\n",
    "from wordcloud import WordCloud\n",
    "\n",
    "import joblib"
   ]
  },
  {
   "cell_type": "code",
   "execution_count": 2,
   "id": "8cbaa9ac",
   "metadata": {},
   "outputs": [],
   "source": [
    "# Define color map for plots\n",
    "# Import color map\n",
    "import matplotlib.cm as cm\n",
    "# Choose a predefined colormap\n",
    "colormap = cm.coolwarm  # Choose a diverging colormap like 'coolwarm', 'RdBu', 'seismic', etc.\n",
    "\n",
    "# Create a color array with a range of colors from the chosen colormap\n",
    "color_array = [colormap(i) for i in range(20)]  # Choose 20 colors from the palette\n",
    "\n",
    "# Set the default color cycle to the color array\n",
    "plt.rcParams['axes.prop_cycle'] = plt.cycler(color=color_array)"
   ]
  },
  {
   "cell_type": "code",
   "execution_count": 3,
   "id": "8f5741d8",
   "metadata": {},
   "outputs": [
    {
     "data": {
      "text/html": [
       "<div>\n",
       "<style scoped>\n",
       "    .dataframe tbody tr th:only-of-type {\n",
       "        vertical-align: middle;\n",
       "    }\n",
       "\n",
       "    .dataframe tbody tr th {\n",
       "        vertical-align: top;\n",
       "    }\n",
       "\n",
       "    .dataframe thead th {\n",
       "        text-align: right;\n",
       "    }\n",
       "</style>\n",
       "<table border=\"1\" class=\"dataframe\">\n",
       "  <thead>\n",
       "    <tr style=\"text-align: right;\">\n",
       "      <th></th>\n",
       "      <th>tweet_text</th>\n",
       "      <th>emotion_in_tweet_is_directed_at</th>\n",
       "      <th>is_there_an_emotion_directed_at_a_brand_or_product</th>\n",
       "    </tr>\n",
       "  </thead>\n",
       "  <tbody>\n",
       "    <tr>\n",
       "      <th>0</th>\n",
       "      <td>.@wesley83 I have a 3G iPhone. After 3 hrs twe...</td>\n",
       "      <td>iPhone</td>\n",
       "      <td>Negative emotion</td>\n",
       "    </tr>\n",
       "    <tr>\n",
       "      <th>1</th>\n",
       "      <td>@jessedee Know about @fludapp ? Awesome iPad/i...</td>\n",
       "      <td>iPad or iPhone App</td>\n",
       "      <td>Positive emotion</td>\n",
       "    </tr>\n",
       "    <tr>\n",
       "      <th>2</th>\n",
       "      <td>@swonderlin Can not wait for #iPad 2 also. The...</td>\n",
       "      <td>iPad</td>\n",
       "      <td>Positive emotion</td>\n",
       "    </tr>\n",
       "    <tr>\n",
       "      <th>3</th>\n",
       "      <td>@sxsw I hope this year's festival isn't as cra...</td>\n",
       "      <td>iPad or iPhone App</td>\n",
       "      <td>Negative emotion</td>\n",
       "    </tr>\n",
       "    <tr>\n",
       "      <th>4</th>\n",
       "      <td>@sxtxstate great stuff on Fri #SXSW: Marissa M...</td>\n",
       "      <td>Google</td>\n",
       "      <td>Positive emotion</td>\n",
       "    </tr>\n",
       "    <tr>\n",
       "      <th>...</th>\n",
       "      <td>...</td>\n",
       "      <td>...</td>\n",
       "      <td>...</td>\n",
       "    </tr>\n",
       "    <tr>\n",
       "      <th>8716</th>\n",
       "      <td>Ipad everywhere. #SXSW {link}</td>\n",
       "      <td>iPad</td>\n",
       "      <td>Positive emotion</td>\n",
       "    </tr>\n",
       "    <tr>\n",
       "      <th>8717</th>\n",
       "      <td>Wave, buzz... RT @mention We interrupt your re...</td>\n",
       "      <td>NaN</td>\n",
       "      <td>No emotion toward brand or product</td>\n",
       "    </tr>\n",
       "    <tr>\n",
       "      <th>8718</th>\n",
       "      <td>Google's Zeiger, a physician never reported po...</td>\n",
       "      <td>NaN</td>\n",
       "      <td>No emotion toward brand or product</td>\n",
       "    </tr>\n",
       "    <tr>\n",
       "      <th>8719</th>\n",
       "      <td>Some Verizon iPhone customers complained their...</td>\n",
       "      <td>NaN</td>\n",
       "      <td>No emotion toward brand or product</td>\n",
       "    </tr>\n",
       "    <tr>\n",
       "      <th>8720</th>\n",
       "      <td>�ϡ�����_��ʋ�΋�ҋ�������⋁_��������_���RT @mentio...</td>\n",
       "      <td>NaN</td>\n",
       "      <td>No emotion toward brand or product</td>\n",
       "    </tr>\n",
       "  </tbody>\n",
       "</table>\n",
       "<p>8721 rows × 3 columns</p>\n",
       "</div>"
      ],
      "text/plain": [
       "                                             tweet_text  \\\n",
       "0     .@wesley83 I have a 3G iPhone. After 3 hrs twe...   \n",
       "1     @jessedee Know about @fludapp ? Awesome iPad/i...   \n",
       "2     @swonderlin Can not wait for #iPad 2 also. The...   \n",
       "3     @sxsw I hope this year's festival isn't as cra...   \n",
       "4     @sxtxstate great stuff on Fri #SXSW: Marissa M...   \n",
       "...                                                 ...   \n",
       "8716                      Ipad everywhere. #SXSW {link}   \n",
       "8717  Wave, buzz... RT @mention We interrupt your re...   \n",
       "8718  Google's Zeiger, a physician never reported po...   \n",
       "8719  Some Verizon iPhone customers complained their...   \n",
       "8720  �ϡ�����_��ʋ�΋�ҋ�������⋁_��������_���RT @mentio...   \n",
       "\n",
       "     emotion_in_tweet_is_directed_at  \\\n",
       "0                             iPhone   \n",
       "1                 iPad or iPhone App   \n",
       "2                               iPad   \n",
       "3                 iPad or iPhone App   \n",
       "4                             Google   \n",
       "...                              ...   \n",
       "8716                            iPad   \n",
       "8717                             NaN   \n",
       "8718                             NaN   \n",
       "8719                             NaN   \n",
       "8720                             NaN   \n",
       "\n",
       "     is_there_an_emotion_directed_at_a_brand_or_product  \n",
       "0                                      Negative emotion  \n",
       "1                                      Positive emotion  \n",
       "2                                      Positive emotion  \n",
       "3                                      Negative emotion  \n",
       "4                                      Positive emotion  \n",
       "...                                                 ...  \n",
       "8716                                   Positive emotion  \n",
       "8717                 No emotion toward brand or product  \n",
       "8718                 No emotion toward brand or product  \n",
       "8719                 No emotion toward brand or product  \n",
       "8720                 No emotion toward brand or product  \n",
       "\n",
       "[8721 rows x 3 columns]"
      ]
     },
     "execution_count": 3,
     "metadata": {},
     "output_type": "execute_result"
    }
   ],
   "source": [
    "# Load data and check structure \n",
    "data = pd.read_csv('data/judge_1377884607_tweet_product_company.csv')\n",
    "data"
   ]
  },
  {
   "cell_type": "code",
   "execution_count": 4,
   "id": "6c57b231",
   "metadata": {},
   "outputs": [
    {
     "name": "stdout",
     "output_type": "stream",
     "text": [
      "<class 'pandas.core.frame.DataFrame'>\n",
      "RangeIndex: 8721 entries, 0 to 8720\n",
      "Data columns (total 3 columns):\n",
      " #   Column                                              Non-Null Count  Dtype \n",
      "---  ------                                              --------------  ----- \n",
      " 0   tweet_text                                          8720 non-null   object\n",
      " 1   emotion_in_tweet_is_directed_at                     3169 non-null   object\n",
      " 2   is_there_an_emotion_directed_at_a_brand_or_product  8721 non-null   object\n",
      "dtypes: object(3)\n",
      "memory usage: 204.5+ KB\n"
     ]
    }
   ],
   "source": [
    "# Checking data structure\n",
    "data.info()"
   ]
  },
  {
   "cell_type": "markdown",
   "id": "f167310e",
   "metadata": {},
   "source": [
    "# Data Cleaning"
   ]
  },
  {
   "cell_type": "code",
   "execution_count": 5,
   "id": "8d6da773",
   "metadata": {},
   "outputs": [
    {
     "data": {
      "text/plain": [
       "tweet_text                                               1\n",
       "emotion_in_tweet_is_directed_at                       5552\n",
       "is_there_an_emotion_directed_at_a_brand_or_product       0\n",
       "dtype: int64"
      ]
     },
     "execution_count": 5,
     "metadata": {},
     "output_type": "execute_result"
    }
   ],
   "source": [
    "# Check missing values\n",
    "data.isna().sum()"
   ]
  },
  {
   "cell_type": "code",
   "execution_count": 6,
   "id": "b99ced9a",
   "metadata": {},
   "outputs": [
    {
     "data": {
      "text/plain": [
       "Index([6], dtype='int64')"
      ]
     },
     "execution_count": 6,
     "metadata": {},
     "output_type": "execute_result"
    }
   ],
   "source": [
    "# Checking index of missing value in tweet column\n",
    "data[data['tweet_text'].isna()].index"
   ]
  },
  {
   "cell_type": "code",
   "execution_count": 7,
   "id": "65915e0d",
   "metadata": {},
   "outputs": [],
   "source": [
    "# Dropping the row above with missing value in tweet_text\n",
    "data.drop(index=data[data['tweet_text'].isna()].index, inplace= True)"
   ]
  },
  {
   "cell_type": "code",
   "execution_count": 8,
   "id": "1ffa6a56",
   "metadata": {},
   "outputs": [],
   "source": [
    "# Shorten column names\n",
    "data.columns = ['tweet', 'brand_product', 'emotion']"
   ]
  },
  {
   "cell_type": "code",
   "execution_count": 9,
   "id": "62d86918",
   "metadata": {},
   "outputs": [],
   "source": [
    "# Change emotions to 'Positive', 'Negative', and 'Neutral'\n",
    "data.loc[data['emotion'] == 'No emotion toward brand or product', 'emotion'] = 'Neutral'\n",
    "data.loc[data['emotion'] == 'Positive emotion', 'emotion'] = 'Positive'\n",
    "data.loc[data['emotion'] == 'Negative emotion', 'emotion'] = 'Negative'"
   ]
  },
  {
   "cell_type": "code",
   "execution_count": 10,
   "id": "ac5b7b1b",
   "metadata": {},
   "outputs": [
    {
     "data": {
      "text/plain": [
       "brand_product\n",
       "iPad                               910\n",
       "Apple                              640\n",
       "iPad or iPhone App                 451\n",
       "Google                             412\n",
       "iPhone                             288\n",
       "Other Google product or service    282\n",
       "Android App                         78\n",
       "Android                             74\n",
       "Other Apple product or service      34\n",
       "Name: count, dtype: int64"
      ]
     },
     "execution_count": 10,
     "metadata": {},
     "output_type": "execute_result"
    }
   ],
   "source": [
    "# Checking value counts for brand_product column\n",
    "data.brand_product.value_counts()"
   ]
  },
  {
   "cell_type": "code",
   "execution_count": 11,
   "id": "984dfbcd",
   "metadata": {},
   "outputs": [],
   "source": [
    "# Derive 'brand_product' from tweets to fill missing values in former column\n",
    "categories = np.array(['iPad', 'Apple', 'iPad', 'iPhone', 'Google', 'Android'])\n",
    "def fill_missing_brand_product(df, categories):\n",
    "    for i, row in df.iterrows():\n",
    "        if pd.isnull(row['brand_product']):\n",
    "            for category in np.concatenate((categories, np.char.lower(categories))):\n",
    "                if category in row['tweet']:\n",
    "                    # Use .loc[] to assign values to DataFrame\n",
    "                    data.loc[i, 'brand_product'] = category\n",
    "                    break  # Break out of inner loop once a category is found\n",
    "                    \n",
    "                    \n",
    "# Call the function and pass the DataFrame 'data' and 'categories'\n",
    "fill_missing_brand_product(data, categories)"
   ]
  },
  {
   "cell_type": "code",
   "execution_count": 12,
   "id": "9b85996a",
   "metadata": {},
   "outputs": [
    {
     "data": {
      "text/plain": [
       "tweet              0\n",
       "brand_product    787\n",
       "emotion            0\n",
       "dtype: int64"
      ]
     },
     "execution_count": 12,
     "metadata": {},
     "output_type": "execute_result"
    }
   ],
   "source": [
    "# Check missing values, again\n",
    "data.isna().sum()"
   ]
  },
  {
   "cell_type": "code",
   "execution_count": 13,
   "id": "e70639ad",
   "metadata": {},
   "outputs": [
    {
     "data": {
      "text/plain": [
       "0.09025229357798165"
      ]
     },
     "execution_count": 13,
     "metadata": {},
     "output_type": "execute_result"
    }
   ],
   "source": [
    "# Percentage missing data for brand_product column\n",
    "787/len(data)"
   ]
  },
  {
   "cell_type": "code",
   "execution_count": 14,
   "id": "472f600b",
   "metadata": {},
   "outputs": [
    {
     "data": {
      "text/html": [
       "<div>\n",
       "<style scoped>\n",
       "    .dataframe tbody tr th:only-of-type {\n",
       "        vertical-align: middle;\n",
       "    }\n",
       "\n",
       "    .dataframe tbody tr th {\n",
       "        vertical-align: top;\n",
       "    }\n",
       "\n",
       "    .dataframe thead th {\n",
       "        text-align: right;\n",
       "    }\n",
       "</style>\n",
       "<table border=\"1\" class=\"dataframe\">\n",
       "  <thead>\n",
       "    <tr style=\"text-align: right;\">\n",
       "      <th></th>\n",
       "      <th>tweet</th>\n",
       "      <th>brand_product</th>\n",
       "      <th>emotion</th>\n",
       "    </tr>\n",
       "  </thead>\n",
       "  <tbody>\n",
       "    <tr>\n",
       "      <th>0</th>\n",
       "      <td>.@wesley83 I have a 3G iPhone. After 3 hrs twe...</td>\n",
       "      <td>iPhone</td>\n",
       "      <td>Negative</td>\n",
       "    </tr>\n",
       "    <tr>\n",
       "      <th>1</th>\n",
       "      <td>@jessedee Know about @fludapp ? Awesome iPad/i...</td>\n",
       "      <td>iPad or iPhone App</td>\n",
       "      <td>Positive</td>\n",
       "    </tr>\n",
       "    <tr>\n",
       "      <th>2</th>\n",
       "      <td>@swonderlin Can not wait for #iPad 2 also. The...</td>\n",
       "      <td>iPad</td>\n",
       "      <td>Positive</td>\n",
       "    </tr>\n",
       "    <tr>\n",
       "      <th>3</th>\n",
       "      <td>@sxsw I hope this year's festival isn't as cra...</td>\n",
       "      <td>iPad or iPhone App</td>\n",
       "      <td>Negative</td>\n",
       "    </tr>\n",
       "    <tr>\n",
       "      <th>4</th>\n",
       "      <td>@sxtxstate great stuff on Fri #SXSW: Marissa M...</td>\n",
       "      <td>Google</td>\n",
       "      <td>Positive</td>\n",
       "    </tr>\n",
       "    <tr>\n",
       "      <th>...</th>\n",
       "      <td>...</td>\n",
       "      <td>...</td>\n",
       "      <td>...</td>\n",
       "    </tr>\n",
       "    <tr>\n",
       "      <th>8716</th>\n",
       "      <td>Ipad everywhere. #SXSW {link}</td>\n",
       "      <td>iPad</td>\n",
       "      <td>Positive</td>\n",
       "    </tr>\n",
       "    <tr>\n",
       "      <th>8717</th>\n",
       "      <td>Wave, buzz... RT @mention We interrupt your re...</td>\n",
       "      <td>google</td>\n",
       "      <td>Neutral</td>\n",
       "    </tr>\n",
       "    <tr>\n",
       "      <th>8718</th>\n",
       "      <td>Google's Zeiger, a physician never reported po...</td>\n",
       "      <td>Google</td>\n",
       "      <td>Neutral</td>\n",
       "    </tr>\n",
       "    <tr>\n",
       "      <th>8719</th>\n",
       "      <td>Some Verizon iPhone customers complained their...</td>\n",
       "      <td>iPhone</td>\n",
       "      <td>Neutral</td>\n",
       "    </tr>\n",
       "    <tr>\n",
       "      <th>8720</th>\n",
       "      <td>�ϡ�����_��ʋ�΋�ҋ�������⋁_��������_���RT @mentio...</td>\n",
       "      <td>Google</td>\n",
       "      <td>Neutral</td>\n",
       "    </tr>\n",
       "  </tbody>\n",
       "</table>\n",
       "<p>7933 rows × 3 columns</p>\n",
       "</div>"
      ],
      "text/plain": [
       "                                                  tweet       brand_product  \\\n",
       "0     .@wesley83 I have a 3G iPhone. After 3 hrs twe...              iPhone   \n",
       "1     @jessedee Know about @fludapp ? Awesome iPad/i...  iPad or iPhone App   \n",
       "2     @swonderlin Can not wait for #iPad 2 also. The...                iPad   \n",
       "3     @sxsw I hope this year's festival isn't as cra...  iPad or iPhone App   \n",
       "4     @sxtxstate great stuff on Fri #SXSW: Marissa M...              Google   \n",
       "...                                                 ...                 ...   \n",
       "8716                      Ipad everywhere. #SXSW {link}                iPad   \n",
       "8717  Wave, buzz... RT @mention We interrupt your re...              google   \n",
       "8718  Google's Zeiger, a physician never reported po...              Google   \n",
       "8719  Some Verizon iPhone customers complained their...              iPhone   \n",
       "8720  �ϡ�����_��ʋ�΋�ҋ�������⋁_��������_���RT @mentio...              Google   \n",
       "\n",
       "       emotion  \n",
       "0     Negative  \n",
       "1     Positive  \n",
       "2     Positive  \n",
       "3     Negative  \n",
       "4     Positive  \n",
       "...        ...  \n",
       "8716  Positive  \n",
       "8717   Neutral  \n",
       "8718   Neutral  \n",
       "8719   Neutral  \n",
       "8720   Neutral  \n",
       "\n",
       "[7933 rows x 3 columns]"
      ]
     },
     "execution_count": 14,
     "metadata": {},
     "output_type": "execute_result"
    }
   ],
   "source": [
    "# Drop rows with missing data\n",
    "data.dropna(inplace= True)\n",
    "data"
   ]
  },
  {
   "cell_type": "code",
   "execution_count": 15,
   "id": "e7a1bd90",
   "metadata": {},
   "outputs": [
    {
     "data": {
      "text/plain": [
       "20"
      ]
     },
     "execution_count": 15,
     "metadata": {},
     "output_type": "execute_result"
    }
   ],
   "source": [
    "# Check for duplicate entries\n",
    "data.duplicated().sum()"
   ]
  },
  {
   "cell_type": "code",
   "execution_count": 16,
   "id": "7b92edfd",
   "metadata": {},
   "outputs": [],
   "source": [
    "#Remove duplicates\n",
    "data.drop_duplicates(inplace=True)"
   ]
  },
  {
   "cell_type": "code",
   "execution_count": 17,
   "id": "5f421322",
   "metadata": {},
   "outputs": [
    {
     "name": "stdout",
     "output_type": "stream",
     "text": [
      "emotion\n",
      "Neutral         4381\n",
      "Positive        2845\n",
      "Negative         543\n",
      "I can't tell     144\n",
      "Name: count, dtype: int64\n"
     ]
    },
    {
     "data": {
      "image/png": "[encoded data removed]",
      "text/plain": [
       "<Figure size 640x480 with 1 Axes>"
      ]
     },
     "metadata": {},
     "output_type": "display_data"
    }
   ],
   "source": [
    "# Check classes for target feature\n",
    "print(data.emotion.value_counts())\n",
    "plt.bar(data.emotion.value_counts().index, data.emotion.value_counts(), width=.5);"
   ]
  },
  {
   "cell_type": "markdown",
   "id": "50943e2b",
   "metadata": {},
   "source": [
    "The presence of \"I can't tell\" entries introduces ambiguity into the dataset, as they do not provide clear sentiment information. This ambiguity can impact the accuracy of sentiment analysis models, as it is uncertain whether these entries represent positive, negative, or neutral sentiments. Considering the relatively low proportion of such data, it was preferred to remove these entries to maintain the clarity and reliability of the dataset for more accurate sentiment analysis."
   ]
  },
  {
   "cell_type": "code",
   "execution_count": 18,
   "id": "34a5c73a",
   "metadata": {},
   "outputs": [
    {
     "data": {
      "text/html": [
       "<div>\n",
       "<style scoped>\n",
       "    .dataframe tbody tr th:only-of-type {\n",
       "        vertical-align: middle;\n",
       "    }\n",
       "\n",
       "    .dataframe tbody tr th {\n",
       "        vertical-align: top;\n",
       "    }\n",
       "\n",
       "    .dataframe thead th {\n",
       "        text-align: right;\n",
       "    }\n",
       "</style>\n",
       "<table border=\"1\" class=\"dataframe\">\n",
       "  <thead>\n",
       "    <tr style=\"text-align: right;\">\n",
       "      <th></th>\n",
       "      <th>tweet</th>\n",
       "      <th>brand_product</th>\n",
       "      <th>emotion</th>\n",
       "    </tr>\n",
       "  </thead>\n",
       "  <tbody>\n",
       "    <tr>\n",
       "      <th>0</th>\n",
       "      <td>.@wesley83 I have a 3G iPhone. After 3 hrs twe...</td>\n",
       "      <td>iPhone</td>\n",
       "      <td>Negative</td>\n",
       "    </tr>\n",
       "    <tr>\n",
       "      <th>1</th>\n",
       "      <td>@jessedee Know about @fludapp ? Awesome iPad/i...</td>\n",
       "      <td>iPad or iPhone App</td>\n",
       "      <td>Positive</td>\n",
       "    </tr>\n",
       "    <tr>\n",
       "      <th>2</th>\n",
       "      <td>@swonderlin Can not wait for #iPad 2 also. The...</td>\n",
       "      <td>iPad</td>\n",
       "      <td>Positive</td>\n",
       "    </tr>\n",
       "    <tr>\n",
       "      <th>3</th>\n",
       "      <td>@sxsw I hope this year's festival isn't as cra...</td>\n",
       "      <td>iPad or iPhone App</td>\n",
       "      <td>Negative</td>\n",
       "    </tr>\n",
       "    <tr>\n",
       "      <th>4</th>\n",
       "      <td>@sxtxstate great stuff on Fri #SXSW: Marissa M...</td>\n",
       "      <td>Google</td>\n",
       "      <td>Positive</td>\n",
       "    </tr>\n",
       "    <tr>\n",
       "      <th>...</th>\n",
       "      <td>...</td>\n",
       "      <td>...</td>\n",
       "      <td>...</td>\n",
       "    </tr>\n",
       "    <tr>\n",
       "      <th>7764</th>\n",
       "      <td>Ipad everywhere. #SXSW {link}</td>\n",
       "      <td>iPad</td>\n",
       "      <td>Positive</td>\n",
       "    </tr>\n",
       "    <tr>\n",
       "      <th>7765</th>\n",
       "      <td>Wave, buzz... RT @mention We interrupt your re...</td>\n",
       "      <td>google</td>\n",
       "      <td>Neutral</td>\n",
       "    </tr>\n",
       "    <tr>\n",
       "      <th>7766</th>\n",
       "      <td>Google's Zeiger, a physician never reported po...</td>\n",
       "      <td>Google</td>\n",
       "      <td>Neutral</td>\n",
       "    </tr>\n",
       "    <tr>\n",
       "      <th>7767</th>\n",
       "      <td>Some Verizon iPhone customers complained their...</td>\n",
       "      <td>iPhone</td>\n",
       "      <td>Neutral</td>\n",
       "    </tr>\n",
       "    <tr>\n",
       "      <th>7768</th>\n",
       "      <td>�ϡ�����_��ʋ�΋�ҋ�������⋁_��������_���RT @mentio...</td>\n",
       "      <td>Google</td>\n",
       "      <td>Neutral</td>\n",
       "    </tr>\n",
       "  </tbody>\n",
       "</table>\n",
       "<p>7769 rows × 3 columns</p>\n",
       "</div>"
      ],
      "text/plain": [
       "                                                  tweet       brand_product  \\\n",
       "0     .@wesley83 I have a 3G iPhone. After 3 hrs twe...              iPhone   \n",
       "1     @jessedee Know about @fludapp ? Awesome iPad/i...  iPad or iPhone App   \n",
       "2     @swonderlin Can not wait for #iPad 2 also. The...                iPad   \n",
       "3     @sxsw I hope this year's festival isn't as cra...  iPad or iPhone App   \n",
       "4     @sxtxstate great stuff on Fri #SXSW: Marissa M...              Google   \n",
       "...                                                 ...                 ...   \n",
       "7764                      Ipad everywhere. #SXSW {link}                iPad   \n",
       "7765  Wave, buzz... RT @mention We interrupt your re...              google   \n",
       "7766  Google's Zeiger, a physician never reported po...              Google   \n",
       "7767  Some Verizon iPhone customers complained their...              iPhone   \n",
       "7768  �ϡ�����_��ʋ�΋�ҋ�������⋁_��������_���RT @mentio...              Google   \n",
       "\n",
       "       emotion  \n",
       "0     Negative  \n",
       "1     Positive  \n",
       "2     Positive  \n",
       "3     Negative  \n",
       "4     Positive  \n",
       "...        ...  \n",
       "7764  Positive  \n",
       "7765   Neutral  \n",
       "7766   Neutral  \n",
       "7767   Neutral  \n",
       "7768   Neutral  \n",
       "\n",
       "[7769 rows x 3 columns]"
      ]
     },
     "execution_count": 18,
     "metadata": {},
     "output_type": "execute_result"
    }
   ],
   "source": [
    "# Drop rows where emotion is 'I can't tell'\n",
    "data.drop(index=data[data['emotion'] == 'I can\\'t tell'].index, inplace= True)\n",
    "data.reset_index(drop=True, inplace=True)\n",
    "data"
   ]
  },
  {
   "cell_type": "code",
   "execution_count": 19,
   "id": "4df56b43",
   "metadata": {},
   "outputs": [],
   "source": [
    "# drop index 7768 with wierd characters since they cannot be decoded\n",
    "data.drop(index=7768, inplace= True)"
   ]
  },
  {
   "cell_type": "code",
   "execution_count": 20,
   "id": "0971b34c",
   "metadata": {},
   "outputs": [
    {
     "data": {
      "text/html": [
       "<style type=\"text/css\">\n",
       "#T_b5ad4_row0_col0, #T_b5ad4_row1_col0, #T_b5ad4_row2_col0, #T_b5ad4_row3_col0, #T_b5ad4_row4_col0, #T_b5ad4_row5_col0, #T_b5ad4_row6_col0, #T_b5ad4_row7_col0, #T_b5ad4_row8_col0, #T_b5ad4_row9_col0 {\n",
       "  text-align: left;\n",
       "}\n",
       "</style>\n",
       "<table id=\"T_b5ad4\">\n",
       "  <thead>\n",
       "    <tr>\n",
       "      <th class=\"blank level0\" >&nbsp;</th>\n",
       "      <th id=\"T_b5ad4_level0_col0\" class=\"col_heading level0 col0\" >tweet</th>\n",
       "    </tr>\n",
       "  </thead>\n",
       "  <tbody>\n",
       "    <tr>\n",
       "      <th id=\"T_b5ad4_level0_row0\" class=\"row_heading level0 row0\" >1539</th>\n",
       "      <td id=\"T_b5ad4_row0_col0\" class=\"data row0 col0\" >Building a custom Android home screen for #sxsw #SXSWi stuff. Any other must haves? {link}</td>\n",
       "    </tr>\n",
       "    <tr>\n",
       "      <th id=\"T_b5ad4_level0_row1\" class=\"row_heading level0 row1\" >501</th>\n",
       "      <td id=\"T_b5ad4_row1_col0\" class=\"data row1 col0\" >���@mention Google to launch major new social network called Circles, possibly today at SXSW: {link} #sxsw #nfusion�۝ #hmm</td>\n",
       "    </tr>\n",
       "    <tr>\n",
       "      <th id=\"T_b5ad4_level0_row2\" class=\"row_heading level0 row2\" >3338</th>\n",
       "      <td id=\"T_b5ad4_row2_col0\" class=\"data row2 col0\" >Filming with the iPad is so much cooler than a lame iPhone... #sxsw (at @mention live show)  {link}</td>\n",
       "    </tr>\n",
       "    <tr>\n",
       "      <th id=\"T_b5ad4_level0_row3\" class=\"row_heading level0 row3\" >5373</th>\n",
       "      <td id=\"T_b5ad4_row3_col0\" class=\"data row3 col0\" >RT @mention Line for Source Code is even longer than for iPad 2. Take that, Apple. #sxsw</td>\n",
       "    </tr>\n",
       "    <tr>\n",
       "      <th id=\"T_b5ad4_level0_row4\" class=\"row_heading level0 row4\" >5356</th>\n",
       "      <td id=\"T_b5ad4_row4_col0\" class=\"data row4 col0\" >RT @mention Last year there was not a single iPad in public at #sxsw. Today, they're more common than laptops, and I haven't seen any android tablets.</td>\n",
       "    </tr>\n",
       "    <tr>\n",
       "      <th id=\"T_b5ad4_level0_row5\" class=\"row_heading level0 row5\" >5609</th>\n",
       "      <td id=\"T_b5ad4_row5_col0\" class=\"data row5 col0\" >RT @mention RT @mention forward to delicious T-Mobile 4G here in Austin while iPhone users struggle to do anything. #SXSW</td>\n",
       "    </tr>\n",
       "    <tr>\n",
       "      <th id=\"T_b5ad4_level0_row6\" class=\"row_heading level0 row6\" >7643</th>\n",
       "      <td id=\"T_b5ad4_row6_col0\" class=\"data row6 col0\" >Austin #SXSW iPad 2 line now 1.75 blocks long (not in line, just enjoying the spectacle) {link}</td>\n",
       "    </tr>\n",
       "    <tr>\n",
       "      <th id=\"T_b5ad4_level0_row7\" class=\"row_heading level0 row7\" >6705</th>\n",
       "      <td id=\"T_b5ad4_row7_col0\" class=\"data row7 col0\" >A #browserwars panel without Apple is like a #sxsw without parties.</td>\n",
       "    </tr>\n",
       "    <tr>\n",
       "      <th id=\"T_b5ad4_level0_row8\" class=\"row_heading level0 row8\" >4164</th>\n",
       "      <td id=\"T_b5ad4_row8_col0\" class=\"data row8 col0\" >Great demo of #google maps from marissa Mayer. 3D views are amazing. More than 150m mobile users. #sxsw</td>\n",
       "    </tr>\n",
       "    <tr>\n",
       "      <th id=\"T_b5ad4_level0_row9\" class=\"row_heading level0 row9\" >4441</th>\n",
       "      <td id=\"T_b5ad4_row9_col0\" class=\"data row9 col0\" >RT @mention &quot;IAVA wants to be the Google of nonprofits.&quot; / yes, we do b/c our #vets deserve nothing less! #sxsw #letshookup</td>\n",
       "    </tr>\n",
       "  </tbody>\n",
       "</table>\n"
      ],
      "text/plain": [
       "<pandas.io.formats.style.Styler at 0x14a1fe290>"
      ]
     },
     "execution_count": 20,
     "metadata": {},
     "output_type": "execute_result"
    }
   ],
   "source": [
    "# View full text on sample tweets\n",
    "data[['tweet']].sample(10).style.set_properties(**{'text-align': 'left'})"
   ]
  },
  {
   "cell_type": "markdown",
   "id": "f04ae2d6",
   "metadata": {},
   "source": [
    "# Train test split"
   ]
  },
  {
   "cell_type": "code",
   "execution_count": 21,
   "id": "45b35516",
   "metadata": {},
   "outputs": [
    {
     "data": {
      "text/html": [
       "<div>\n",
       "<style scoped>\n",
       "    .dataframe tbody tr th:only-of-type {\n",
       "        vertical-align: middle;\n",
       "    }\n",
       "\n",
       "    .dataframe tbody tr th {\n",
       "        vertical-align: top;\n",
       "    }\n",
       "\n",
       "    .dataframe thead th {\n",
       "        text-align: right;\n",
       "    }\n",
       "</style>\n",
       "<table border=\"1\" class=\"dataframe\">\n",
       "  <thead>\n",
       "    <tr style=\"text-align: right;\">\n",
       "      <th></th>\n",
       "      <th>tweet</th>\n",
       "      <th>brand_product</th>\n",
       "    </tr>\n",
       "  </thead>\n",
       "  <tbody>\n",
       "    <tr>\n",
       "      <th>4226</th>\n",
       "      <td>In the Google keynote, Marissa Meyer and some ...</td>\n",
       "      <td>Google</td>\n",
       "    </tr>\n",
       "    <tr>\n",
       "      <th>5953</th>\n",
       "      <td>RT @mention Who is flying to #SXSW and wants s...</td>\n",
       "      <td>iPhone</td>\n",
       "    </tr>\n",
       "    <tr>\n",
       "      <th>2532</th>\n",
       "      <td>Ha! Another mention for Apple Store: {link} - ...</td>\n",
       "      <td>Apple</td>\n",
       "    </tr>\n",
       "    <tr>\n",
       "      <th>2481</th>\n",
       "      <td>;-) RT @mention @mention The geeks need somewh...</td>\n",
       "      <td>iPad</td>\n",
       "    </tr>\n",
       "    <tr>\n",
       "      <th>2652</th>\n",
       "      <td>This stuff is great. Love seeing how these guy...</td>\n",
       "      <td>Other Google product or service</td>\n",
       "    </tr>\n",
       "    <tr>\n",
       "      <th>...</th>\n",
       "      <td>...</td>\n",
       "      <td>...</td>\n",
       "    </tr>\n",
       "    <tr>\n",
       "      <th>905</th>\n",
       "      <td>Love it . RT @mention From #Apple to Naomi Cam...</td>\n",
       "      <td>Apple</td>\n",
       "    </tr>\n",
       "    <tr>\n",
       "      <th>5192</th>\n",
       "      <td>RT @mention I hope everyone has an awesome wee...</td>\n",
       "      <td>Apple</td>\n",
       "    </tr>\n",
       "    <tr>\n",
       "      <th>3980</th>\n",
       "      <td>Apple Opening Pop-Up Store in Austin (Sixth &amp;a...</td>\n",
       "      <td>iPad</td>\n",
       "    </tr>\n",
       "    <tr>\n",
       "      <th>235</th>\n",
       "      <td>#technews Apple heads to SXSW, sets up tempora...</td>\n",
       "      <td>iPad</td>\n",
       "    </tr>\n",
       "    <tr>\n",
       "      <th>5157</th>\n",
       "      <td>RT @mention Hipster or hobo? Only way to tell ...</td>\n",
       "      <td>iPhone</td>\n",
       "    </tr>\n",
       "  </tbody>\n",
       "</table>\n",
       "<p>5826 rows × 2 columns</p>\n",
       "</div>"
      ],
      "text/plain": [
       "                                                  tweet  \\\n",
       "4226  In the Google keynote, Marissa Meyer and some ...   \n",
       "5953  RT @mention Who is flying to #SXSW and wants s...   \n",
       "2532  Ha! Another mention for Apple Store: {link} - ...   \n",
       "2481  ;-) RT @mention @mention The geeks need somewh...   \n",
       "2652  This stuff is great. Love seeing how these guy...   \n",
       "...                                                 ...   \n",
       "905   Love it . RT @mention From #Apple to Naomi Cam...   \n",
       "5192  RT @mention I hope everyone has an awesome wee...   \n",
       "3980  Apple Opening Pop-Up Store in Austin (Sixth &a...   \n",
       "235   #technews Apple heads to SXSW, sets up tempora...   \n",
       "5157  RT @mention Hipster or hobo? Only way to tell ...   \n",
       "\n",
       "                        brand_product  \n",
       "4226                           Google  \n",
       "5953                           iPhone  \n",
       "2532                            Apple  \n",
       "2481                             iPad  \n",
       "2652  Other Google product or service  \n",
       "...                               ...  \n",
       "905                             Apple  \n",
       "5192                            Apple  \n",
       "3980                             iPad  \n",
       "235                              iPad  \n",
       "5157                           iPhone  \n",
       "\n",
       "[5826 rows x 2 columns]"
      ]
     },
     "execution_count": 21,
     "metadata": {},
     "output_type": "execute_result"
    }
   ],
   "source": [
    "#Perform a train test split on data\n",
    "X = data[['tweet', 'brand_product']]\n",
    "y = data['emotion']\n",
    "\n",
    "X_train, X_test, y_train, y_test = train_test_split(X, y, random_state= 1)\n",
    "X_train"
   ]
  },
  {
   "cell_type": "markdown",
   "id": "a978165b",
   "metadata": {},
   "source": [
    "# Data preprocessing"
   ]
  },
  {
   "cell_type": "code",
   "execution_count": 22,
   "id": "e5d04c0b",
   "metadata": {},
   "outputs": [],
   "source": [
    "# Function to remove tweet handles(words that start with @), HTML tags and URLs in tweets\n",
    "def remove_html_urls_mentions(input_text):\n",
    "    # Remove HTML tags\n",
    "    pattern_html = re.compile('<.*?>')\n",
    "    text = pattern_html.sub(r'', input_text)\n",
    "    \n",
    "    # Remove URLs\n",
    "    text = re.sub(r\"http\\S+|www\\S+|https\\S+\", \"\", text)\n",
    "    \n",
    "    # Remove Twitter usernames (mentions)\n",
    "    text = re.sub(r'@\\w+\\s*', '', text)\n",
    "    \n",
    "    # Remove 'RT' (Retweet terms)\n",
    "    text = re.sub(r'\\bRT\\b', '', text)\n",
    "    \n",
    "    # Remove words within curly braces {} and the braces themselves\n",
    "    text = re.sub(r'\\{[^}]*\\}', '', text)\n",
    "    \n",
    "    # Remove words within square brackets [] and the brackets themselves\n",
    "    text = re.sub(r'\\[[^]]*\\]', '', text)\n",
    "    \n",
    "    # Remove words within parentheses () and the parentheses themselves\n",
    "    text = re.sub(r'\\([^)]*\\)', '', text)\n",
    "    \n",
    "    # Define the pattern to match any non-alphanumeric characters\n",
    "    pattern = r'[^a-zA-Z0-9\\s]'  # This pattern matches any character that is not a letter, digit, or whitespace\n",
    "\n",
    "    # Replace all non-alphanumeric characters with an empty string\n",
    "    cleaned_text = re.sub(pattern, '', text)\n",
    "    \n",
    "    return cleaned_text"
   ]
  },
  {
   "cell_type": "code",
   "execution_count": 23,
   "id": "459125d7",
   "metadata": {},
   "outputs": [],
   "source": [
    "# Function to encode emojis\n",
    "def encode_emojis(text):\n",
    "    \"\"\"\n",
    "    Encode emojis in text using Unicode.\n",
    "\n",
    "    Parameters:\n",
    "    text (str): Input text containing emojis.\n",
    "\n",
    "    Returns:\n",
    "    str: Text with emojis encoded using Unicode.\n",
    "    \"\"\"\n",
    "    # Encode emojis using Unicode escape sequences\n",
    "    emoji_encoded_text = text.encode('unicode-escape').decode('utf-8')\n",
    "    \n",
    "    return emoji_encoded_text"
   ]
  },
  {
   "cell_type": "code",
   "execution_count": 24,
   "id": "a29d31d7",
   "metadata": {},
   "outputs": [
    {
     "data": {
      "text/html": [
       "<div>\n",
       "<style scoped>\n",
       "    .dataframe tbody tr th:only-of-type {\n",
       "        vertical-align: middle;\n",
       "    }\n",
       "\n",
       "    .dataframe tbody tr th {\n",
       "        vertical-align: top;\n",
       "    }\n",
       "\n",
       "    .dataframe thead th {\n",
       "        text-align: right;\n",
       "    }\n",
       "</style>\n",
       "<table border=\"1\" class=\"dataframe\">\n",
       "  <thead>\n",
       "    <tr style=\"text-align: right;\">\n",
       "      <th></th>\n",
       "      <th>tweet</th>\n",
       "      <th>cleaned_tweet</th>\n",
       "      <th>brand_product</th>\n",
       "    </tr>\n",
       "  </thead>\n",
       "  <tbody>\n",
       "    <tr>\n",
       "      <th>4226</th>\n",
       "      <td>In the Google keynote, Marissa Meyer and some ...</td>\n",
       "      <td>In the Google keynote Marissa Meyer and some o...</td>\n",
       "      <td>Google</td>\n",
       "    </tr>\n",
       "    <tr>\n",
       "      <th>5953</th>\n",
       "      <td>RT @mention Who is flying to #SXSW and wants s...</td>\n",
       "      <td>Who is flying to SXSW and wants some free mil...</td>\n",
       "      <td>iPhone</td>\n",
       "    </tr>\n",
       "    <tr>\n",
       "      <th>2532</th>\n",
       "      <td>Ha! Another mention for Apple Store: {link} - ...</td>\n",
       "      <td>Ha Another mention for Apple Store    Temporar...</td>\n",
       "      <td>Apple</td>\n",
       "    </tr>\n",
       "    <tr>\n",
       "      <th>2481</th>\n",
       "      <td>;-) RT @mention @mention The geeks need somewh...</td>\n",
       "      <td>The geeks need somewhere downtown to line up...</td>\n",
       "      <td>iPad</td>\n",
       "    </tr>\n",
       "    <tr>\n",
       "      <th>2652</th>\n",
       "      <td>This stuff is great. Love seeing how these guy...</td>\n",
       "      <td>This stuff is great Love seeing how these guys...</td>\n",
       "      <td>Other Google product or service</td>\n",
       "    </tr>\n",
       "    <tr>\n",
       "      <th>...</th>\n",
       "      <td>...</td>\n",
       "      <td>...</td>\n",
       "      <td>...</td>\n",
       "    </tr>\n",
       "    <tr>\n",
       "      <th>905</th>\n",
       "      <td>Love it . RT @mention From #Apple to Naomi Cam...</td>\n",
       "      <td>Love it   From Apple to Naomi Campbell popup s...</td>\n",
       "      <td>Apple</td>\n",
       "    </tr>\n",
       "    <tr>\n",
       "      <th>5192</th>\n",
       "      <td>RT @mention I hope everyone has an awesome wee...</td>\n",
       "      <td>I hope everyone has an awesome weekend at SXS...</td>\n",
       "      <td>Apple</td>\n",
       "    </tr>\n",
       "    <tr>\n",
       "      <th>3980</th>\n",
       "      <td>Apple Opening Pop-Up Store in Austin (Sixth &amp;a...</td>\n",
       "      <td>Apple Opening PopUp Store in Austin  for SXSW ...</td>\n",
       "      <td>iPad</td>\n",
       "    </tr>\n",
       "    <tr>\n",
       "      <th>235</th>\n",
       "      <td>#technews Apple heads to SXSW, sets up tempora...</td>\n",
       "      <td>technews Apple heads to SXSW sets up temporary...</td>\n",
       "      <td>iPad</td>\n",
       "    </tr>\n",
       "    <tr>\n",
       "      <th>5157</th>\n",
       "      <td>RT @mention Hipster or hobo? Only way to tell ...</td>\n",
       "      <td>Hipster or hobo Only way to tell is the iPhon...</td>\n",
       "      <td>iPhone</td>\n",
       "    </tr>\n",
       "  </tbody>\n",
       "</table>\n",
       "<p>5826 rows × 3 columns</p>\n",
       "</div>"
      ],
      "text/plain": [
       "                                                  tweet  \\\n",
       "4226  In the Google keynote, Marissa Meyer and some ...   \n",
       "5953  RT @mention Who is flying to #SXSW and wants s...   \n",
       "2532  Ha! Another mention for Apple Store: {link} - ...   \n",
       "2481  ;-) RT @mention @mention The geeks need somewh...   \n",
       "2652  This stuff is great. Love seeing how these guy...   \n",
       "...                                                 ...   \n",
       "905   Love it . RT @mention From #Apple to Naomi Cam...   \n",
       "5192  RT @mention I hope everyone has an awesome wee...   \n",
       "3980  Apple Opening Pop-Up Store in Austin (Sixth &a...   \n",
       "235   #technews Apple heads to SXSW, sets up tempora...   \n",
       "5157  RT @mention Hipster or hobo? Only way to tell ...   \n",
       "\n",
       "                                          cleaned_tweet  \\\n",
       "4226  In the Google keynote Marissa Meyer and some o...   \n",
       "5953   Who is flying to SXSW and wants some free mil...   \n",
       "2532  Ha Another mention for Apple Store    Temporar...   \n",
       "2481    The geeks need somewhere downtown to line up...   \n",
       "2652  This stuff is great Love seeing how these guys...   \n",
       "...                                                 ...   \n",
       "905   Love it   From Apple to Naomi Campbell popup s...   \n",
       "5192   I hope everyone has an awesome weekend at SXS...   \n",
       "3980  Apple Opening PopUp Store in Austin  for SXSW ...   \n",
       "235   technews Apple heads to SXSW sets up temporary...   \n",
       "5157   Hipster or hobo Only way to tell is the iPhon...   \n",
       "\n",
       "                        brand_product  \n",
       "4226                           Google  \n",
       "5953                           iPhone  \n",
       "2532                            Apple  \n",
       "2481                             iPad  \n",
       "2652  Other Google product or service  \n",
       "...                               ...  \n",
       "905                             Apple  \n",
       "5192                            Apple  \n",
       "3980                             iPad  \n",
       "235                              iPad  \n",
       "5157                           iPhone  \n",
       "\n",
       "[5826 rows x 3 columns]"
      ]
     },
     "execution_count": 24,
     "metadata": {},
     "output_type": "execute_result"
    }
   ],
   "source": [
    "# Clean tweets for X_train data\n",
    "X_train['cleaned_tweet'] = X_train['tweet'].apply(lambda text: encode_emojis(remove_html_urls_mentions(text)))\n",
    "X_train = X_train[['tweet', 'cleaned_tweet', 'brand_product']].copy()\n",
    "X_train"
   ]
  },
  {
   "cell_type": "code",
   "execution_count": 25,
   "id": "8017b1cf",
   "metadata": {},
   "outputs": [
    {
     "data": {
      "text/html": [
       "<div>\n",
       "<style scoped>\n",
       "    .dataframe tbody tr th:only-of-type {\n",
       "        vertical-align: middle;\n",
       "    }\n",
       "\n",
       "    .dataframe tbody tr th {\n",
       "        vertical-align: top;\n",
       "    }\n",
       "\n",
       "    .dataframe thead th {\n",
       "        text-align: right;\n",
       "    }\n",
       "</style>\n",
       "<table border=\"1\" class=\"dataframe\">\n",
       "  <thead>\n",
       "    <tr style=\"text-align: right;\">\n",
       "      <th></th>\n",
       "      <th>tweet</th>\n",
       "      <th>cleaned_tweet</th>\n",
       "      <th>brand_product</th>\n",
       "    </tr>\n",
       "  </thead>\n",
       "  <tbody>\n",
       "    <tr>\n",
       "      <th>3192</th>\n",
       "      <td>the @mention booth is up and ready for the #sx...</td>\n",
       "      <td>the booth is up and ready for the sxsw tradesh...</td>\n",
       "      <td>Android</td>\n",
       "    </tr>\n",
       "    <tr>\n",
       "      <th>605</th>\n",
       "      <td>@mention  iPhone. Clearly. Positively. Happily...</td>\n",
       "      <td>iPhone Clearly Positively Happily SXSW</td>\n",
       "      <td>iPhone</td>\n",
       "    </tr>\n",
       "    <tr>\n",
       "      <th>5027</th>\n",
       "      <td>RT @mention Google tested 41 shades of blue fo...</td>\n",
       "      <td>Google tested 41 shades of blue for link colo...</td>\n",
       "      <td>Google</td>\n",
       "    </tr>\n",
       "    <tr>\n",
       "      <th>7414</th>\n",
       "      <td>Google &amp;quot;product gatekeeper&amp;quot; Marissa ...</td>\n",
       "      <td>Google quotproduct gatekeeperquot Marissa Maye...</td>\n",
       "      <td>Google</td>\n",
       "    </tr>\n",
       "    <tr>\n",
       "      <th>311</th>\n",
       "      <td>will this be another google wave? RT @mention ...</td>\n",
       "      <td>will this be another google wave  We interrupt...</td>\n",
       "      <td>google</td>\n",
       "    </tr>\n",
       "    <tr>\n",
       "      <th>...</th>\n",
       "      <td>...</td>\n",
       "      <td>...</td>\n",
       "      <td>...</td>\n",
       "    </tr>\n",
       "    <tr>\n",
       "      <th>2753</th>\n",
       "      <td>@mention getting his new iPad at the #sxsw fla...</td>\n",
       "      <td>getting his new iPad at the sxsw flash apple s...</td>\n",
       "      <td>iPad</td>\n",
       "    </tr>\n",
       "    <tr>\n",
       "      <th>6041</th>\n",
       "      <td>Hotpot #google #marissameyer what is next #Cle...</td>\n",
       "      <td>Hotpot google marissameyer what is next Clevel...</td>\n",
       "      <td>google</td>\n",
       "    </tr>\n",
       "    <tr>\n",
       "      <th>5954</th>\n",
       "      <td>RT @mention Who said IPAD photos? Apple Store,...</td>\n",
       "      <td>Who said IPAD photos Apple Store SXSW</td>\n",
       "      <td>Apple</td>\n",
       "    </tr>\n",
       "    <tr>\n",
       "      <th>5706</th>\n",
       "      <td>RT @mention RT: @mention With 150 million mobi...</td>\n",
       "      <td>With 150 million mobile users on Google maps...</td>\n",
       "      <td>Google</td>\n",
       "    </tr>\n",
       "    <tr>\n",
       "      <th>416</th>\n",
       "      <td>Before It Even Begins, Apple Wins SXSW: {link}...</td>\n",
       "      <td>Before It Even Begins Apple Wins SXSW  Via App...</td>\n",
       "      <td>Apple</td>\n",
       "    </tr>\n",
       "  </tbody>\n",
       "</table>\n",
       "<p>1942 rows × 3 columns</p>\n",
       "</div>"
      ],
      "text/plain": [
       "                                                  tweet  \\\n",
       "3192  the @mention booth is up and ready for the #sx...   \n",
       "605   @mention  iPhone. Clearly. Positively. Happily...   \n",
       "5027  RT @mention Google tested 41 shades of blue fo...   \n",
       "7414  Google &quot;product gatekeeper&quot; Marissa ...   \n",
       "311   will this be another google wave? RT @mention ...   \n",
       "...                                                 ...   \n",
       "2753  @mention getting his new iPad at the #sxsw fla...   \n",
       "6041  Hotpot #google #marissameyer what is next #Cle...   \n",
       "5954  RT @mention Who said IPAD photos? Apple Store,...   \n",
       "5706  RT @mention RT: @mention With 150 million mobi...   \n",
       "416   Before It Even Begins, Apple Wins SXSW: {link}...   \n",
       "\n",
       "                                          cleaned_tweet brand_product  \n",
       "3192  the booth is up and ready for the sxsw tradesh...       Android  \n",
       "605              iPhone Clearly Positively Happily SXSW        iPhone  \n",
       "5027   Google tested 41 shades of blue for link colo...        Google  \n",
       "7414  Google quotproduct gatekeeperquot Marissa Maye...        Google  \n",
       "311   will this be another google wave  We interrupt...        google  \n",
       "...                                                 ...           ...  \n",
       "2753  getting his new iPad at the sxsw flash apple s...          iPad  \n",
       "6041  Hotpot google marissameyer what is next Clevel...        google  \n",
       "5954             Who said IPAD photos Apple Store SXSW          Apple  \n",
       "5706    With 150 million mobile users on Google maps...        Google  \n",
       "416   Before It Even Begins Apple Wins SXSW  Via App...         Apple  \n",
       "\n",
       "[1942 rows x 3 columns]"
      ]
     },
     "execution_count": 25,
     "metadata": {},
     "output_type": "execute_result"
    }
   ],
   "source": [
    "# Clean tweets for X_test data\n",
    "X_test['cleaned_tweet'] = X_test['tweet'].apply(lambda text: encode_emojis(remove_html_urls_mentions(text)))\n",
    "X_test = X_test[['tweet', 'cleaned_tweet', 'brand_product']].copy()\n",
    "X_test"
   ]
  },
  {
   "cell_type": "markdown",
   "id": "8d40bd1f",
   "metadata": {},
   "source": [
    "## Exploratory Data Analysis"
   ]
  },
  {
   "cell_type": "code",
   "execution_count": 26,
   "id": "9b47921d",
   "metadata": {},
   "outputs": [
    {
     "data": {
      "image/png": "[encoded data removed]",
      "text/plain": [
       "<Figure size 640x480 with 1 Axes>"
      ]
     },
     "metadata": {},
     "output_type": "display_data"
    }
   ],
   "source": [
    "# EDA\n",
    "X_train['brand_product'].value_counts()\n",
    "plt.bar(X_train['brand_product'].value_counts().index, X_train['brand_product'].value_counts(), width=.5)\n",
    "plt.xticks(rotation=90);"
   ]
  },
  {
   "cell_type": "markdown",
   "id": "c82b66a3",
   "metadata": {},
   "source": [
    "The tweets encompass various brands falling under Apple and Google products and services. We will aggregate them under these two main brands for analysis."
   ]
  },
  {
   "cell_type": "code",
   "execution_count": 27,
   "id": "03c72301",
   "metadata": {},
   "outputs": [],
   "source": [
    "# Merge brand_column into only two categories: apple and google brands\n",
    "Apple = ['iPad', 'Apple', 'iPhone', 'iPad or iPhone App', 'ipad', 'apple', 'iphone', 'Other Apple product or service']\n",
    "Google = ['Google', 'google', 'Other Google product or service', 'Android', 'Android App', 'android']\n",
    "\n",
    "def brand_category(X):\n",
    "    for index, row in X.iterrows():\n",
    "        if row['brand_product'] in Apple:\n",
    "            X.at[index, 'brand_product'] = 'Apple'\n",
    "        elif row['brand_product'] in Google:\n",
    "            X.at[index, 'brand_product'] = 'Google'\n",
    "    \n",
    "    return X\n",
    "\n",
    "# Call function on X_train data\n",
    "X_train = brand_category(X_train)"
   ]
  },
  {
   "cell_type": "code",
   "execution_count": 28,
   "id": "20c71d41",
   "metadata": {},
   "outputs": [],
   "source": [
    "# Call function on X_test data\n",
    "X_test = brand_category(X_test)"
   ]
  },
  {
   "cell_type": "code",
   "execution_count": 29,
   "id": "a71c7fff",
   "metadata": {},
   "outputs": [
    {
     "data": {
      "image/png": "[encoded data removed]",
      "text/plain": [
       "<Figure size 640x480 with 1 Axes>"
      ]
     },
     "metadata": {},
     "output_type": "display_data"
    }
   ],
   "source": [
    "# Re-check brand_product column\n",
    "X_train['brand_product'].value_counts()\n",
    "plt.bar(X_train['brand_product'].value_counts().index, X_train['brand_product'].value_counts(), width=.3)\n",
    "plt.xticks(rotation=90);"
   ]
  },
  {
   "cell_type": "markdown",
   "id": "21a62763",
   "metadata": {},
   "source": [
    "The number of tweets related to Apple was double that of those concerning Google."
   ]
  },
  {
   "cell_type": "code",
   "execution_count": 30,
   "id": "9660ac2c",
   "metadata": {
    "scrolled": true
   },
   "outputs": [],
   "source": [
    "# Function to tokenize and remove stopwords and punctuation\n",
    "def process_tweet(tweet):\n",
    "    tweet = tweet.lower() #convert tweet to lowercase\n",
    "    # Define a regular expression pattern to match words including apostrophes\n",
    "    pattern = r\"\\b\\w+(?:'\\w+)?\\b\"\n",
    "    # Create a RegexpTokenizer with the defined pattern\n",
    "    tokenizer = RegexpTokenizer(pattern)\n",
    "    # Tokenize tweet\n",
    "    tokens = tokenizer.tokenize(tweet)\n",
    "    tokens = [token for token in tokens if token not in stopwords.words('english') \n",
    "              and token not in punctuation]                                    #remove stopwords and punctuations\n",
    "    return tokens\n",
    "\n",
    "# Apply function on X_train and X_test data\n",
    "X_train['tokenized_tweets'] = X_train['cleaned_tweet'].apply(process_tweet)\n",
    "X_test['tokenized_tweets'] = X_test['cleaned_tweet'].apply(process_tweet)"
   ]
  },
  {
   "cell_type": "code",
   "execution_count": 31,
   "id": "10021251",
   "metadata": {},
   "outputs": [],
   "source": [
    "# Change columns arrangements\n",
    "X_train = X_train[['tweet', 'cleaned_tweet', 'tokenized_tweets', 'brand_product']]\n",
    "X_test = X_test[['tweet', 'cleaned_tweet', 'tokenized_tweets', 'brand_product']]"
   ]
  },
  {
   "cell_type": "code",
   "execution_count": 32,
   "id": "67797064",
   "metadata": {},
   "outputs": [
    {
     "data": {
      "text/plain": [
       "FreqDist({'sxsw': 6053, 'ipad': 1716, 'google': 1565, 'apple': 1423, 'iphone': 1061, 'store': 985, 'new': 752, '2': 739, 'austin': 601, 'app': 544, ...})"
      ]
     },
     "execution_count": 32,
     "metadata": {},
     "output_type": "execute_result"
    }
   ],
   "source": [
    "# Generate Frequency distribution\n",
    "FreqDist(X_train['tokenized_tweets'].explode())"
   ]
  },
  {
   "cell_type": "markdown",
   "id": "69a1b6e7",
   "metadata": {},
   "source": [
    "##### Top 20 tokens distribution"
   ]
  },
  {
   "cell_type": "code",
   "execution_count": 33,
   "id": "5a792edb",
   "metadata": {},
   "outputs": [
    {
     "data": {
      "image/png": "[encoded data removed]",
      "text/plain": [
       "<Figure size 800x600 with 1 Axes>"
      ]
     },
     "metadata": {},
     "output_type": "display_data"
    }
   ],
   "source": [
    "# Extract top 20 tokens and their values \n",
    "top_20 = FreqDist(X_train['tokenized_tweets'].explode()).most_common(20)\n",
    "categories, values = zip(*top_20)\n",
    "\n",
    "# Create a bar plot\n",
    "plt.figure(figsize=(8, 6))\n",
    "plt.bar(categories, values)\n",
    "plt.xlabel('Categories')\n",
    "plt.ylabel('Values')\n",
    "plt.title('Bar Plot from Dictionary')\n",
    "plt.xticks(rotation=90)\n",
    "plt.show()"
   ]
  },
  {
   "cell_type": "markdown",
   "id": "101cbe56",
   "metadata": {},
   "source": [
    "Significantly, several tokens within the top 20 are directly associated with prominent brands like Google and Apple, including \"android,\" \"apple,\" \"iPad,\" and \"store.\" Moreover, the token with the highest frequency, \"sxsw,\" pertains to a notable tech event. "
   ]
  },
  {
   "cell_type": "markdown",
   "id": "2cce0b46",
   "metadata": {},
   "source": [
    "##### Token distribution by brand [@Top 20]"
   ]
  },
  {
   "cell_type": "code",
   "execution_count": 34,
   "id": "eeb829b1",
   "metadata": {},
   "outputs": [
    {
     "data": {
      "image/png": "[encoded data removed]",
      "text/plain": [
       "<Figure size 2000x800 with 2 Axes>"
      ]
     },
     "metadata": {},
     "output_type": "display_data"
    }
   ],
   "source": [
    "#check distribution by brand category\n",
    "for_eda = pd.concat([X_train,y_train], axis= 1)\n",
    "apple = for_eda[for_eda['brand_product'] == 'Apple']\n",
    "google = for_eda[for_eda['brand_product'] == 'Google']\n",
    "\n",
    "# Extract top 20 tokens and their values for apple brand\n",
    "apple_top_20 = FreqDist(apple['tokenized_tweets'].explode()).most_common(20)\n",
    "apple_categories, apple_values = zip(*apple_top_20)\n",
    "\n",
    "# Extract top 20 tokens and their values for google brand\n",
    "google_top_20 = FreqDist(google['tokenized_tweets'].explode()).most_common(20)\n",
    "google_categories, google_values = zip(*google_top_20)\n",
    "\n",
    "# Create a bar plot\n",
    "fig, axes = plt.subplots(nrows=1, ncols=2, figsize=(20, 8), sharey=True) \n",
    "axes[0].bar(apple_categories, apple_values, label='Apple')\n",
    "axes[1].bar(google_categories, google_values, label='Google')\n",
    "axes[0].set_ylabel('Counts')\n",
    "fig.suptitle('Frequency Distribution by Brand')\n",
    "axes[0].set_xticks(range(len(apple_categories)))\n",
    "axes[0].set_xticklabels(apple_categories, rotation=90) \n",
    "axes[1].set_xticks(range(len(google_categories)))\n",
    "axes[1].set_xticklabels(google_categories, rotation=90)\n",
    "# Set legends on the axes\n",
    "axes[0].legend()\n",
    "axes[1].legend()\n",
    "\n",
    "plt.show()"
   ]
  },
  {
   "cell_type": "markdown",
   "id": "9075be48",
   "metadata": {},
   "source": [
    "##### Emotions/Sentiments class distribution by brand"
   ]
  },
  {
   "cell_type": "code",
   "execution_count": 35,
   "id": "416ef474",
   "metadata": {},
   "outputs": [
    {
     "data": {
      "image/png": "[encoded data removed]",
      "text/plain": [
       "<Figure size 1000x500 with 2 Axes>"
      ]
     },
     "metadata": {},
     "output_type": "display_data"
    }
   ],
   "source": [
    "# Sentiments by brand\n",
    "fig, ax = plt.subplots(nrows=1, ncols= 2, figsize= (10, 5), sharey= True)\n",
    "ax[0].bar(apple['emotion'].value_counts().index, apple['emotion'].value_counts(), width= .5, label='apple');\n",
    "ax[1].bar(google['emotion'].value_counts().index, google['emotion'].value_counts(), width= .5, label= 'google')\n",
    "ax[0].legend()\n",
    "ax[1].legend()\n",
    "\n",
    "for axis in ax:\n",
    "    axis.tick_params(axis='x', rotation=45)\n",
    "    \n",
    "plt.show()"
   ]
  },
  {
   "cell_type": "markdown",
   "id": "107bccee",
   "metadata": {},
   "source": [
    "The prevailing sentiment across both brands was predominantly neutral, followed by positive and then negative sentiments."
   ]
  },
  {
   "cell_type": "markdown",
   "id": "1f521a68",
   "metadata": {},
   "source": [
    "##### Token distribution by Emotions/Sentiments class"
   ]
  },
  {
   "cell_type": "code",
   "execution_count": 36,
   "id": "abc95704",
   "metadata": {},
   "outputs": [],
   "source": [
    "### Check token distribution based on emotion\n",
    "positive_emotions_data = for_eda[for_eda['emotion'] == 'Positive']\n",
    "negative_emotions_data = for_eda[for_eda['emotion'] == 'Negative']\n",
    "\n",
    "# Extract top 20 tokens and their values for apple brand\n",
    "positive_top_20 = FreqDist(positive_emotions_data['tokenized_tweets'].explode()).most_common(20)\n",
    "positive_categories, positive_values = zip(*positive_top_20)\n",
    "\n",
    "# Extract top 20 tokens and their values for google brand\n",
    "negative_top_20 = FreqDist(negative_emotions_data['tokenized_tweets'].explode()).most_common(20)\n",
    "negative_categories, negative_values = zip(*negative_top_20)"
   ]
  },
  {
   "cell_type": "code",
   "execution_count": 40,
   "id": "dbfa2a22",
   "metadata": {},
   "outputs": [
    {
     "data": {
      "image/png": "[encoded data removed]",
      "text/plain": [
       "<Figure size 2000x800 with 2 Axes>"
      ]
     },
     "metadata": {},
     "output_type": "display_data"
    }
   ],
   "source": [
    "# Create a bar plot\n",
    "fig, axes = plt.subplots(nrows=1, ncols=2, figsize=(20, 8), sharey=True) \n",
    "axes[0].bar(positive_categories, positive_values, label='Positive sentiments')\n",
    "axes[1].bar(negative_categories, negative_values, label='Negative sentiments')\n",
    "axes[0].set_ylabel('Counts')\n",
    "fig.suptitle('Frequency Distribution by Sentiments')\n",
    "axes[0].set_xticks(range(len(positive_categories)))\n",
    "axes[0].set_xticklabels(positive_categories, rotation=90) \n",
    "axes[1].set_xticks(range(len(positive_categories)))\n",
    "axes[1].set_xticklabels(positive_categories, rotation=90)\n",
    "# Set legends on the axes\n",
    "axes[0].legend()\n",
    "axes[1].legend()\n",
    "\n",
    "plt.show()"
   ]
  },
  {
   "cell_type": "markdown",
   "id": "3f9d0f9b",
   "metadata": {},
   "source": [
    "##### Word Cloud representation"
   ]
  },
  {
   "cell_type": "code",
   "execution_count": 37,
   "id": "90f98230",
   "metadata": {},
   "outputs": [
    {
     "data": {
      "image/png": "[encoded data removed]",
      "text/plain": [
       "<Figure size 1200x1200 with 2 Axes>"
      ]
     },
     "metadata": {},
     "output_type": "display_data"
    }
   ],
   "source": [
    "# Combine tokenized tweets into text strings\n",
    "positive_text = ' '.join(positive_emotions_data['tokenized_tweets'].explode())\n",
    "negative_text = ' '.join(negative_emotions_data['tokenized_tweets'].explode())\n",
    "\n",
    "# Create word clouds for positive and negative emotions\n",
    "positive_wordcloud = WordCloud(width=800, height=400, background_color='white').generate(positive_text)\n",
    "negative_wordcloud = WordCloud(width=800, height=400, background_color='white').generate(negative_text)\n",
    "\n",
    "# Plot word clouds\n",
    "plt.figure(figsize=(12, 12))\n",
    "plt.subplot(1, 2, 1)\n",
    "plt.imshow(positive_wordcloud, interpolation='bilinear')\n",
    "plt.title('Positive Emotions Word Cloud')\n",
    "plt.axis('off')\n",
    "\n",
    "plt.subplot(1, 2, 2)\n",
    "plt.imshow(negative_wordcloud, interpolation='bilinear')\n",
    "plt.title('Negative Emotions Word Cloud')\n",
    "plt.axis('off')\n",
    "\n",
    "plt.show()"
   ]
  },
  {
   "cell_type": "markdown",
   "id": "4cfb4e67",
   "metadata": {},
   "source": [
    "The word cloud highlights predominant tokens indicative of positive and negative sentiments. Notably, the SXSW event features prominently in both categories. Among negative emotions, the token \"iPad design\" stands out, indicating a specific area of dissatisfaction or critique."
   ]
  },
  {
   "cell_type": "markdown",
   "id": "b20325e0",
   "metadata": {},
   "source": [
    "## Feature Engineering"
   ]
  },
  {
   "cell_type": "markdown",
   "id": "e4582300",
   "metadata": {},
   "source": [
    "### Vectorization with TfidfVectorizer"
   ]
  },
  {
   "cell_type": "markdown",
   "id": "e110084b",
   "metadata": {},
   "source": [
    "##### Using RegexpTokenizer with TfidfVectorizer"
   ]
  },
  {
   "cell_type": "code",
   "execution_count": 38,
   "id": "2075e528",
   "metadata": {},
   "outputs": [
    {
     "name": "stderr",
     "output_type": "stream",
     "text": [
      "/Users/dave/anaconda3/lib/python3.11/site-packages/sklearn/feature_extraction/text.py:528: UserWarning: The parameter 'token_pattern' will not be used since 'tokenizer' is not None'\n",
      "  warnings.warn(\n"
     ]
    }
   ],
   "source": [
    "# Instantiate vectorizer\n",
    "stops = stopwords.words('english') + list(punctuation)\n",
    "tfidf_regex = TfidfVectorizer(\n",
    "    tokenizer = lambda text: RegexpTokenizer(r\"\\b\\w+(?:'\\w+)?\\b\").tokenize(text),\n",
    "    stop_words= stops,\n",
    "    max_df = .67, # Ignore terms with document frequency higher than 2/3\n",
    "    max_features = 5000\n",
    "                    )\n",
    "\n",
    "# Fit the vectorizer on X_train[\"text\"] and transform it\n",
    "X_train_tfidf_regex = tfidf_regex.fit_transform(X_train['cleaned_tweet'])"
   ]
  },
  {
   "cell_type": "code",
   "execution_count": 39,
   "id": "e99d5f77",
   "metadata": {},
   "outputs": [
    {
     "data": {
      "text/plain": [
       "<5826x5000 sparse matrix of type '<class 'numpy.float64'>'\n",
       "\twith 51895 stored elements in Compressed Sparse Row format>"
      ]
     },
     "execution_count": 39,
     "metadata": {},
     "output_type": "execute_result"
    }
   ],
   "source": [
    "# View\n",
    "X_train_tfidf_regex"
   ]
  },
  {
   "cell_type": "markdown",
   "id": "9b093b09",
   "metadata": {},
   "source": [
    "##### Using Lemmatizer with TfidfVectorizer"
   ]
  },
  {
   "cell_type": "code",
   "execution_count": 40,
   "id": "50bcbb49",
   "metadata": {},
   "outputs": [],
   "source": [
    "# Tokenization with Lemmatization function\n",
    "def tokenize_and_lemmatize(text):\n",
    "    tokenizer = RegexpTokenizer(r\"\\b\\w+(?:'\\w+)?\\b\")\n",
    "    tokens = tokenizer.tokenize(text)  # Tokenization\n",
    "    # Instantiate WordNetLemmatizer\n",
    "    lemmatizer = WordNetLemmatizer()\n",
    "    lemmatized_tokens = [lemmatizer.lemmatize(token) for token in tokens]  # Lemmatization\n",
    "    return lemmatized_tokens"
   ]
  },
  {
   "cell_type": "code",
   "execution_count": 41,
   "id": "b549c033",
   "metadata": {},
   "outputs": [
    {
     "name": "stderr",
     "output_type": "stream",
     "text": [
      "/Users/dave/anaconda3/lib/python3.11/site-packages/sklearn/feature_extraction/text.py:409: UserWarning: Your stop_words may be inconsistent with your preprocessing. Tokenizing the stop words generated tokens ['doe', 'ha', 'wa'] not in stop_words.\n",
      "  warnings.warn(\n"
     ]
    }
   ],
   "source": [
    "# Initialize TfidfVectorizer with lemmatization\n",
    "tfidf_lem = TfidfVectorizer(\n",
    "    tokenizer = tokenize_and_lemmatize,\n",
    "    stop_words= stops,\n",
    "    max_df = .67,     # Ignore terms with document frequency higher than 2/3\n",
    "    max_features = 5000\n",
    "                    )\n",
    "\n",
    "# Fit the vectorizer on X_train[\"text\"] and transform it\n",
    "X_train_tfidf_lem = tfidf_lem.fit_transform(X_train['cleaned_tweet'])"
   ]
  },
  {
   "cell_type": "code",
   "execution_count": 42,
   "id": "36238c23",
   "metadata": {},
   "outputs": [
    {
     "data": {
      "text/html": [
       "<div>\n",
       "<style scoped>\n",
       "    .dataframe tbody tr th:only-of-type {\n",
       "        vertical-align: middle;\n",
       "    }\n",
       "\n",
       "    .dataframe tbody tr th {\n",
       "        vertical-align: top;\n",
       "    }\n",
       "\n",
       "    .dataframe thead th {\n",
       "        text-align: right;\n",
       "    }\n",
       "</style>\n",
       "<table border=\"1\" class=\"dataframe\">\n",
       "  <thead>\n",
       "    <tr style=\"text-align: right;\">\n",
       "      <th></th>\n",
       "      <th>1</th>\n",
       "      <th>10</th>\n",
       "      <th>100</th>\n",
       "      <th>1000</th>\n",
       "      <th>100s</th>\n",
       "      <th>101</th>\n",
       "      <th>1030</th>\n",
       "      <th>105</th>\n",
       "      <th>10k</th>\n",
       "      <th>11</th>\n",
       "      <th>...</th>\n",
       "      <th>zimride</th>\n",
       "      <th>zing</th>\n",
       "      <th>zinio</th>\n",
       "      <th>zip</th>\n",
       "      <th>zms</th>\n",
       "      <th>zombies</th>\n",
       "      <th>zomg</th>\n",
       "      <th>zone</th>\n",
       "      <th>zoom</th>\n",
       "      <th>zuckerberg</th>\n",
       "    </tr>\n",
       "  </thead>\n",
       "  <tbody>\n",
       "    <tr>\n",
       "      <th>0</th>\n",
       "      <td>0.0</td>\n",
       "      <td>0.0</td>\n",
       "      <td>0.0</td>\n",
       "      <td>0.0</td>\n",
       "      <td>0.0</td>\n",
       "      <td>0.0</td>\n",
       "      <td>0.0</td>\n",
       "      <td>0.0</td>\n",
       "      <td>0.0</td>\n",
       "      <td>0.0</td>\n",
       "      <td>...</td>\n",
       "      <td>0.0</td>\n",
       "      <td>0.0</td>\n",
       "      <td>0.0</td>\n",
       "      <td>0.0</td>\n",
       "      <td>0.0</td>\n",
       "      <td>0.0</td>\n",
       "      <td>0.0</td>\n",
       "      <td>0.0</td>\n",
       "      <td>0.0</td>\n",
       "      <td>0.0</td>\n",
       "    </tr>\n",
       "    <tr>\n",
       "      <th>1</th>\n",
       "      <td>0.0</td>\n",
       "      <td>0.0</td>\n",
       "      <td>0.0</td>\n",
       "      <td>0.0</td>\n",
       "      <td>0.0</td>\n",
       "      <td>0.0</td>\n",
       "      <td>0.0</td>\n",
       "      <td>0.0</td>\n",
       "      <td>0.0</td>\n",
       "      <td>0.0</td>\n",
       "      <td>...</td>\n",
       "      <td>0.0</td>\n",
       "      <td>0.0</td>\n",
       "      <td>0.0</td>\n",
       "      <td>0.0</td>\n",
       "      <td>0.0</td>\n",
       "      <td>0.0</td>\n",
       "      <td>0.0</td>\n",
       "      <td>0.0</td>\n",
       "      <td>0.0</td>\n",
       "      <td>0.0</td>\n",
       "    </tr>\n",
       "    <tr>\n",
       "      <th>2</th>\n",
       "      <td>0.0</td>\n",
       "      <td>0.0</td>\n",
       "      <td>0.0</td>\n",
       "      <td>0.0</td>\n",
       "      <td>0.0</td>\n",
       "      <td>0.0</td>\n",
       "      <td>0.0</td>\n",
       "      <td>0.0</td>\n",
       "      <td>0.0</td>\n",
       "      <td>0.0</td>\n",
       "      <td>...</td>\n",
       "      <td>0.0</td>\n",
       "      <td>0.0</td>\n",
       "      <td>0.0</td>\n",
       "      <td>0.0</td>\n",
       "      <td>0.0</td>\n",
       "      <td>0.0</td>\n",
       "      <td>0.0</td>\n",
       "      <td>0.0</td>\n",
       "      <td>0.0</td>\n",
       "      <td>0.0</td>\n",
       "    </tr>\n",
       "    <tr>\n",
       "      <th>3</th>\n",
       "      <td>0.0</td>\n",
       "      <td>0.0</td>\n",
       "      <td>0.0</td>\n",
       "      <td>0.0</td>\n",
       "      <td>0.0</td>\n",
       "      <td>0.0</td>\n",
       "      <td>0.0</td>\n",
       "      <td>0.0</td>\n",
       "      <td>0.0</td>\n",
       "      <td>0.0</td>\n",
       "      <td>...</td>\n",
       "      <td>0.0</td>\n",
       "      <td>0.0</td>\n",
       "      <td>0.0</td>\n",
       "      <td>0.0</td>\n",
       "      <td>0.0</td>\n",
       "      <td>0.0</td>\n",
       "      <td>0.0</td>\n",
       "      <td>0.0</td>\n",
       "      <td>0.0</td>\n",
       "      <td>0.0</td>\n",
       "    </tr>\n",
       "    <tr>\n",
       "      <th>4</th>\n",
       "      <td>0.0</td>\n",
       "      <td>0.0</td>\n",
       "      <td>0.0</td>\n",
       "      <td>0.0</td>\n",
       "      <td>0.0</td>\n",
       "      <td>0.0</td>\n",
       "      <td>0.0</td>\n",
       "      <td>0.0</td>\n",
       "      <td>0.0</td>\n",
       "      <td>0.0</td>\n",
       "      <td>...</td>\n",
       "      <td>0.0</td>\n",
       "      <td>0.0</td>\n",
       "      <td>0.0</td>\n",
       "      <td>0.0</td>\n",
       "      <td>0.0</td>\n",
       "      <td>0.0</td>\n",
       "      <td>0.0</td>\n",
       "      <td>0.0</td>\n",
       "      <td>0.0</td>\n",
       "      <td>0.0</td>\n",
       "    </tr>\n",
       "    <tr>\n",
       "      <th>...</th>\n",
       "      <td>...</td>\n",
       "      <td>...</td>\n",
       "      <td>...</td>\n",
       "      <td>...</td>\n",
       "      <td>...</td>\n",
       "      <td>...</td>\n",
       "      <td>...</td>\n",
       "      <td>...</td>\n",
       "      <td>...</td>\n",
       "      <td>...</td>\n",
       "      <td>...</td>\n",
       "      <td>...</td>\n",
       "      <td>...</td>\n",
       "      <td>...</td>\n",
       "      <td>...</td>\n",
       "      <td>...</td>\n",
       "      <td>...</td>\n",
       "      <td>...</td>\n",
       "      <td>...</td>\n",
       "      <td>...</td>\n",
       "      <td>...</td>\n",
       "    </tr>\n",
       "    <tr>\n",
       "      <th>5821</th>\n",
       "      <td>0.0</td>\n",
       "      <td>0.0</td>\n",
       "      <td>0.0</td>\n",
       "      <td>0.0</td>\n",
       "      <td>0.0</td>\n",
       "      <td>0.0</td>\n",
       "      <td>0.0</td>\n",
       "      <td>0.0</td>\n",
       "      <td>0.0</td>\n",
       "      <td>0.0</td>\n",
       "      <td>...</td>\n",
       "      <td>0.0</td>\n",
       "      <td>0.0</td>\n",
       "      <td>0.0</td>\n",
       "      <td>0.0</td>\n",
       "      <td>0.0</td>\n",
       "      <td>0.0</td>\n",
       "      <td>0.0</td>\n",
       "      <td>0.0</td>\n",
       "      <td>0.0</td>\n",
       "      <td>0.0</td>\n",
       "    </tr>\n",
       "    <tr>\n",
       "      <th>5822</th>\n",
       "      <td>0.0</td>\n",
       "      <td>0.0</td>\n",
       "      <td>0.0</td>\n",
       "      <td>0.0</td>\n",
       "      <td>0.0</td>\n",
       "      <td>0.0</td>\n",
       "      <td>0.0</td>\n",
       "      <td>0.0</td>\n",
       "      <td>0.0</td>\n",
       "      <td>0.0</td>\n",
       "      <td>...</td>\n",
       "      <td>0.0</td>\n",
       "      <td>0.0</td>\n",
       "      <td>0.0</td>\n",
       "      <td>0.0</td>\n",
       "      <td>0.0</td>\n",
       "      <td>0.0</td>\n",
       "      <td>0.0</td>\n",
       "      <td>0.0</td>\n",
       "      <td>0.0</td>\n",
       "      <td>0.0</td>\n",
       "    </tr>\n",
       "    <tr>\n",
       "      <th>5823</th>\n",
       "      <td>0.0</td>\n",
       "      <td>0.0</td>\n",
       "      <td>0.0</td>\n",
       "      <td>0.0</td>\n",
       "      <td>0.0</td>\n",
       "      <td>0.0</td>\n",
       "      <td>0.0</td>\n",
       "      <td>0.0</td>\n",
       "      <td>0.0</td>\n",
       "      <td>0.0</td>\n",
       "      <td>...</td>\n",
       "      <td>0.0</td>\n",
       "      <td>0.0</td>\n",
       "      <td>0.0</td>\n",
       "      <td>0.0</td>\n",
       "      <td>0.0</td>\n",
       "      <td>0.0</td>\n",
       "      <td>0.0</td>\n",
       "      <td>0.0</td>\n",
       "      <td>0.0</td>\n",
       "      <td>0.0</td>\n",
       "    </tr>\n",
       "    <tr>\n",
       "      <th>5824</th>\n",
       "      <td>0.0</td>\n",
       "      <td>0.0</td>\n",
       "      <td>0.0</td>\n",
       "      <td>0.0</td>\n",
       "      <td>0.0</td>\n",
       "      <td>0.0</td>\n",
       "      <td>0.0</td>\n",
       "      <td>0.0</td>\n",
       "      <td>0.0</td>\n",
       "      <td>0.0</td>\n",
       "      <td>...</td>\n",
       "      <td>0.0</td>\n",
       "      <td>0.0</td>\n",
       "      <td>0.0</td>\n",
       "      <td>0.0</td>\n",
       "      <td>0.0</td>\n",
       "      <td>0.0</td>\n",
       "      <td>0.0</td>\n",
       "      <td>0.0</td>\n",
       "      <td>0.0</td>\n",
       "      <td>0.0</td>\n",
       "    </tr>\n",
       "    <tr>\n",
       "      <th>5825</th>\n",
       "      <td>0.0</td>\n",
       "      <td>0.0</td>\n",
       "      <td>0.0</td>\n",
       "      <td>0.0</td>\n",
       "      <td>0.0</td>\n",
       "      <td>0.0</td>\n",
       "      <td>0.0</td>\n",
       "      <td>0.0</td>\n",
       "      <td>0.0</td>\n",
       "      <td>0.0</td>\n",
       "      <td>...</td>\n",
       "      <td>0.0</td>\n",
       "      <td>0.0</td>\n",
       "      <td>0.0</td>\n",
       "      <td>0.0</td>\n",
       "      <td>0.0</td>\n",
       "      <td>0.0</td>\n",
       "      <td>0.0</td>\n",
       "      <td>0.0</td>\n",
       "      <td>0.0</td>\n",
       "      <td>0.0</td>\n",
       "    </tr>\n",
       "  </tbody>\n",
       "</table>\n",
       "<p>5826 rows × 5000 columns</p>\n",
       "</div>"
      ],
      "text/plain": [
       "        1   10  100  1000  100s  101  1030  105  10k   11  ...  zimride  zing  \\\n",
       "0     0.0  0.0  0.0   0.0   0.0  0.0   0.0  0.0  0.0  0.0  ...      0.0   0.0   \n",
       "1     0.0  0.0  0.0   0.0   0.0  0.0   0.0  0.0  0.0  0.0  ...      0.0   0.0   \n",
       "2     0.0  0.0  0.0   0.0   0.0  0.0   0.0  0.0  0.0  0.0  ...      0.0   0.0   \n",
       "3     0.0  0.0  0.0   0.0   0.0  0.0   0.0  0.0  0.0  0.0  ...      0.0   0.0   \n",
       "4     0.0  0.0  0.0   0.0   0.0  0.0   0.0  0.0  0.0  0.0  ...      0.0   0.0   \n",
       "...   ...  ...  ...   ...   ...  ...   ...  ...  ...  ...  ...      ...   ...   \n",
       "5821  0.0  0.0  0.0   0.0   0.0  0.0   0.0  0.0  0.0  0.0  ...      0.0   0.0   \n",
       "5822  0.0  0.0  0.0   0.0   0.0  0.0   0.0  0.0  0.0  0.0  ...      0.0   0.0   \n",
       "5823  0.0  0.0  0.0   0.0   0.0  0.0   0.0  0.0  0.0  0.0  ...      0.0   0.0   \n",
       "5824  0.0  0.0  0.0   0.0   0.0  0.0   0.0  0.0  0.0  0.0  ...      0.0   0.0   \n",
       "5825  0.0  0.0  0.0   0.0   0.0  0.0   0.0  0.0  0.0  0.0  ...      0.0   0.0   \n",
       "\n",
       "      zinio  zip  zms  zombies  zomg  zone  zoom  zuckerberg  \n",
       "0       0.0  0.0  0.0      0.0   0.0   0.0   0.0         0.0  \n",
       "1       0.0  0.0  0.0      0.0   0.0   0.0   0.0         0.0  \n",
       "2       0.0  0.0  0.0      0.0   0.0   0.0   0.0         0.0  \n",
       "3       0.0  0.0  0.0      0.0   0.0   0.0   0.0         0.0  \n",
       "4       0.0  0.0  0.0      0.0   0.0   0.0   0.0         0.0  \n",
       "...     ...  ...  ...      ...   ...   ...   ...         ...  \n",
       "5821    0.0  0.0  0.0      0.0   0.0   0.0   0.0         0.0  \n",
       "5822    0.0  0.0  0.0      0.0   0.0   0.0   0.0         0.0  \n",
       "5823    0.0  0.0  0.0      0.0   0.0   0.0   0.0         0.0  \n",
       "5824    0.0  0.0  0.0      0.0   0.0   0.0   0.0         0.0  \n",
       "5825    0.0  0.0  0.0      0.0   0.0   0.0   0.0         0.0  \n",
       "\n",
       "[5826 rows x 5000 columns]"
      ]
     },
     "execution_count": 42,
     "metadata": {},
     "output_type": "execute_result"
    }
   ],
   "source": [
    "# Visually inspect X_train_tfidf_regex\n",
    "X_train_tfidf_regex = pd.DataFrame.sparse.from_spmatrix(X_train_tfidf_regex, \n",
    "                                                        columns=tfidf_regex.get_feature_names_out())\n",
    "X_train_tfidf_regex"
   ]
  },
  {
   "cell_type": "code",
   "execution_count": 43,
   "id": "2f0f2158",
   "metadata": {},
   "outputs": [
    {
     "data": {
      "text/html": [
       "<div>\n",
       "<style scoped>\n",
       "    .dataframe tbody tr th:only-of-type {\n",
       "        vertical-align: middle;\n",
       "    }\n",
       "\n",
       "    .dataframe tbody tr th {\n",
       "        vertical-align: top;\n",
       "    }\n",
       "\n",
       "    .dataframe thead th {\n",
       "        text-align: right;\n",
       "    }\n",
       "</style>\n",
       "<table border=\"1\" class=\"dataframe\">\n",
       "  <thead>\n",
       "    <tr style=\"text-align: right;\">\n",
       "      <th></th>\n",
       "      <th>1</th>\n",
       "      <th>10</th>\n",
       "      <th>100</th>\n",
       "      <th>1000</th>\n",
       "      <th>101</th>\n",
       "      <th>1030</th>\n",
       "      <th>105</th>\n",
       "      <th>10k</th>\n",
       "      <th>11</th>\n",
       "      <th>1130</th>\n",
       "      <th>...</th>\n",
       "      <th>zimride</th>\n",
       "      <th>zing</th>\n",
       "      <th>zinio</th>\n",
       "      <th>zip</th>\n",
       "      <th>zms</th>\n",
       "      <th>zombie</th>\n",
       "      <th>zomg</th>\n",
       "      <th>zone</th>\n",
       "      <th>zoom</th>\n",
       "      <th>zuckerberg</th>\n",
       "    </tr>\n",
       "  </thead>\n",
       "  <tbody>\n",
       "    <tr>\n",
       "      <th>0</th>\n",
       "      <td>0.0</td>\n",
       "      <td>0.0</td>\n",
       "      <td>0.0</td>\n",
       "      <td>0.0</td>\n",
       "      <td>0.0</td>\n",
       "      <td>0.0</td>\n",
       "      <td>0.0</td>\n",
       "      <td>0.0</td>\n",
       "      <td>0.0</td>\n",
       "      <td>0.0</td>\n",
       "      <td>...</td>\n",
       "      <td>0.0</td>\n",
       "      <td>0.0</td>\n",
       "      <td>0.0</td>\n",
       "      <td>0.0</td>\n",
       "      <td>0.0</td>\n",
       "      <td>0.0</td>\n",
       "      <td>0.0</td>\n",
       "      <td>0.0</td>\n",
       "      <td>0.0</td>\n",
       "      <td>0.0</td>\n",
       "    </tr>\n",
       "    <tr>\n",
       "      <th>1</th>\n",
       "      <td>0.0</td>\n",
       "      <td>0.0</td>\n",
       "      <td>0.0</td>\n",
       "      <td>0.0</td>\n",
       "      <td>0.0</td>\n",
       "      <td>0.0</td>\n",
       "      <td>0.0</td>\n",
       "      <td>0.0</td>\n",
       "      <td>0.0</td>\n",
       "      <td>0.0</td>\n",
       "      <td>...</td>\n",
       "      <td>0.0</td>\n",
       "      <td>0.0</td>\n",
       "      <td>0.0</td>\n",
       "      <td>0.0</td>\n",
       "      <td>0.0</td>\n",
       "      <td>0.0</td>\n",
       "      <td>0.0</td>\n",
       "      <td>0.0</td>\n",
       "      <td>0.0</td>\n",
       "      <td>0.0</td>\n",
       "    </tr>\n",
       "    <tr>\n",
       "      <th>2</th>\n",
       "      <td>0.0</td>\n",
       "      <td>0.0</td>\n",
       "      <td>0.0</td>\n",
       "      <td>0.0</td>\n",
       "      <td>0.0</td>\n",
       "      <td>0.0</td>\n",
       "      <td>0.0</td>\n",
       "      <td>0.0</td>\n",
       "      <td>0.0</td>\n",
       "      <td>0.0</td>\n",
       "      <td>...</td>\n",
       "      <td>0.0</td>\n",
       "      <td>0.0</td>\n",
       "      <td>0.0</td>\n",
       "      <td>0.0</td>\n",
       "      <td>0.0</td>\n",
       "      <td>0.0</td>\n",
       "      <td>0.0</td>\n",
       "      <td>0.0</td>\n",
       "      <td>0.0</td>\n",
       "      <td>0.0</td>\n",
       "    </tr>\n",
       "    <tr>\n",
       "      <th>3</th>\n",
       "      <td>0.0</td>\n",
       "      <td>0.0</td>\n",
       "      <td>0.0</td>\n",
       "      <td>0.0</td>\n",
       "      <td>0.0</td>\n",
       "      <td>0.0</td>\n",
       "      <td>0.0</td>\n",
       "      <td>0.0</td>\n",
       "      <td>0.0</td>\n",
       "      <td>0.0</td>\n",
       "      <td>...</td>\n",
       "      <td>0.0</td>\n",
       "      <td>0.0</td>\n",
       "      <td>0.0</td>\n",
       "      <td>0.0</td>\n",
       "      <td>0.0</td>\n",
       "      <td>0.0</td>\n",
       "      <td>0.0</td>\n",
       "      <td>0.0</td>\n",
       "      <td>0.0</td>\n",
       "      <td>0.0</td>\n",
       "    </tr>\n",
       "    <tr>\n",
       "      <th>4</th>\n",
       "      <td>0.0</td>\n",
       "      <td>0.0</td>\n",
       "      <td>0.0</td>\n",
       "      <td>0.0</td>\n",
       "      <td>0.0</td>\n",
       "      <td>0.0</td>\n",
       "      <td>0.0</td>\n",
       "      <td>0.0</td>\n",
       "      <td>0.0</td>\n",
       "      <td>0.0</td>\n",
       "      <td>...</td>\n",
       "      <td>0.0</td>\n",
       "      <td>0.0</td>\n",
       "      <td>0.0</td>\n",
       "      <td>0.0</td>\n",
       "      <td>0.0</td>\n",
       "      <td>0.0</td>\n",
       "      <td>0.0</td>\n",
       "      <td>0.0</td>\n",
       "      <td>0.0</td>\n",
       "      <td>0.0</td>\n",
       "    </tr>\n",
       "    <tr>\n",
       "      <th>...</th>\n",
       "      <td>...</td>\n",
       "      <td>...</td>\n",
       "      <td>...</td>\n",
       "      <td>...</td>\n",
       "      <td>...</td>\n",
       "      <td>...</td>\n",
       "      <td>...</td>\n",
       "      <td>...</td>\n",
       "      <td>...</td>\n",
       "      <td>...</td>\n",
       "      <td>...</td>\n",
       "      <td>...</td>\n",
       "      <td>...</td>\n",
       "      <td>...</td>\n",
       "      <td>...</td>\n",
       "      <td>...</td>\n",
       "      <td>...</td>\n",
       "      <td>...</td>\n",
       "      <td>...</td>\n",
       "      <td>...</td>\n",
       "      <td>...</td>\n",
       "    </tr>\n",
       "    <tr>\n",
       "      <th>5821</th>\n",
       "      <td>0.0</td>\n",
       "      <td>0.0</td>\n",
       "      <td>0.0</td>\n",
       "      <td>0.0</td>\n",
       "      <td>0.0</td>\n",
       "      <td>0.0</td>\n",
       "      <td>0.0</td>\n",
       "      <td>0.0</td>\n",
       "      <td>0.0</td>\n",
       "      <td>0.0</td>\n",
       "      <td>...</td>\n",
       "      <td>0.0</td>\n",
       "      <td>0.0</td>\n",
       "      <td>0.0</td>\n",
       "      <td>0.0</td>\n",
       "      <td>0.0</td>\n",
       "      <td>0.0</td>\n",
       "      <td>0.0</td>\n",
       "      <td>0.0</td>\n",
       "      <td>0.0</td>\n",
       "      <td>0.0</td>\n",
       "    </tr>\n",
       "    <tr>\n",
       "      <th>5822</th>\n",
       "      <td>0.0</td>\n",
       "      <td>0.0</td>\n",
       "      <td>0.0</td>\n",
       "      <td>0.0</td>\n",
       "      <td>0.0</td>\n",
       "      <td>0.0</td>\n",
       "      <td>0.0</td>\n",
       "      <td>0.0</td>\n",
       "      <td>0.0</td>\n",
       "      <td>0.0</td>\n",
       "      <td>...</td>\n",
       "      <td>0.0</td>\n",
       "      <td>0.0</td>\n",
       "      <td>0.0</td>\n",
       "      <td>0.0</td>\n",
       "      <td>0.0</td>\n",
       "      <td>0.0</td>\n",
       "      <td>0.0</td>\n",
       "      <td>0.0</td>\n",
       "      <td>0.0</td>\n",
       "      <td>0.0</td>\n",
       "    </tr>\n",
       "    <tr>\n",
       "      <th>5823</th>\n",
       "      <td>0.0</td>\n",
       "      <td>0.0</td>\n",
       "      <td>0.0</td>\n",
       "      <td>0.0</td>\n",
       "      <td>0.0</td>\n",
       "      <td>0.0</td>\n",
       "      <td>0.0</td>\n",
       "      <td>0.0</td>\n",
       "      <td>0.0</td>\n",
       "      <td>0.0</td>\n",
       "      <td>...</td>\n",
       "      <td>0.0</td>\n",
       "      <td>0.0</td>\n",
       "      <td>0.0</td>\n",
       "      <td>0.0</td>\n",
       "      <td>0.0</td>\n",
       "      <td>0.0</td>\n",
       "      <td>0.0</td>\n",
       "      <td>0.0</td>\n",
       "      <td>0.0</td>\n",
       "      <td>0.0</td>\n",
       "    </tr>\n",
       "    <tr>\n",
       "      <th>5824</th>\n",
       "      <td>0.0</td>\n",
       "      <td>0.0</td>\n",
       "      <td>0.0</td>\n",
       "      <td>0.0</td>\n",
       "      <td>0.0</td>\n",
       "      <td>0.0</td>\n",
       "      <td>0.0</td>\n",
       "      <td>0.0</td>\n",
       "      <td>0.0</td>\n",
       "      <td>0.0</td>\n",
       "      <td>...</td>\n",
       "      <td>0.0</td>\n",
       "      <td>0.0</td>\n",
       "      <td>0.0</td>\n",
       "      <td>0.0</td>\n",
       "      <td>0.0</td>\n",
       "      <td>0.0</td>\n",
       "      <td>0.0</td>\n",
       "      <td>0.0</td>\n",
       "      <td>0.0</td>\n",
       "      <td>0.0</td>\n",
       "    </tr>\n",
       "    <tr>\n",
       "      <th>5825</th>\n",
       "      <td>0.0</td>\n",
       "      <td>0.0</td>\n",
       "      <td>0.0</td>\n",
       "      <td>0.0</td>\n",
       "      <td>0.0</td>\n",
       "      <td>0.0</td>\n",
       "      <td>0.0</td>\n",
       "      <td>0.0</td>\n",
       "      <td>0.0</td>\n",
       "      <td>0.0</td>\n",
       "      <td>...</td>\n",
       "      <td>0.0</td>\n",
       "      <td>0.0</td>\n",
       "      <td>0.0</td>\n",
       "      <td>0.0</td>\n",
       "      <td>0.0</td>\n",
       "      <td>0.0</td>\n",
       "      <td>0.0</td>\n",
       "      <td>0.0</td>\n",
       "      <td>0.0</td>\n",
       "      <td>0.0</td>\n",
       "    </tr>\n",
       "  </tbody>\n",
       "</table>\n",
       "<p>5826 rows × 5000 columns</p>\n",
       "</div>"
      ],
      "text/plain": [
       "        1   10  100  1000  101  1030  105  10k   11  1130  ...  zimride  zing  \\\n",
       "0     0.0  0.0  0.0   0.0  0.0   0.0  0.0  0.0  0.0   0.0  ...      0.0   0.0   \n",
       "1     0.0  0.0  0.0   0.0  0.0   0.0  0.0  0.0  0.0   0.0  ...      0.0   0.0   \n",
       "2     0.0  0.0  0.0   0.0  0.0   0.0  0.0  0.0  0.0   0.0  ...      0.0   0.0   \n",
       "3     0.0  0.0  0.0   0.0  0.0   0.0  0.0  0.0  0.0   0.0  ...      0.0   0.0   \n",
       "4     0.0  0.0  0.0   0.0  0.0   0.0  0.0  0.0  0.0   0.0  ...      0.0   0.0   \n",
       "...   ...  ...  ...   ...  ...   ...  ...  ...  ...   ...  ...      ...   ...   \n",
       "5821  0.0  0.0  0.0   0.0  0.0   0.0  0.0  0.0  0.0   0.0  ...      0.0   0.0   \n",
       "5822  0.0  0.0  0.0   0.0  0.0   0.0  0.0  0.0  0.0   0.0  ...      0.0   0.0   \n",
       "5823  0.0  0.0  0.0   0.0  0.0   0.0  0.0  0.0  0.0   0.0  ...      0.0   0.0   \n",
       "5824  0.0  0.0  0.0   0.0  0.0   0.0  0.0  0.0  0.0   0.0  ...      0.0   0.0   \n",
       "5825  0.0  0.0  0.0   0.0  0.0   0.0  0.0  0.0  0.0   0.0  ...      0.0   0.0   \n",
       "\n",
       "      zinio  zip  zms  zombie  zomg  zone  zoom  zuckerberg  \n",
       "0       0.0  0.0  0.0     0.0   0.0   0.0   0.0         0.0  \n",
       "1       0.0  0.0  0.0     0.0   0.0   0.0   0.0         0.0  \n",
       "2       0.0  0.0  0.0     0.0   0.0   0.0   0.0         0.0  \n",
       "3       0.0  0.0  0.0     0.0   0.0   0.0   0.0         0.0  \n",
       "4       0.0  0.0  0.0     0.0   0.0   0.0   0.0         0.0  \n",
       "...     ...  ...  ...     ...   ...   ...   ...         ...  \n",
       "5821    0.0  0.0  0.0     0.0   0.0   0.0   0.0         0.0  \n",
       "5822    0.0  0.0  0.0     0.0   0.0   0.0   0.0         0.0  \n",
       "5823    0.0  0.0  0.0     0.0   0.0   0.0   0.0         0.0  \n",
       "5824    0.0  0.0  0.0     0.0   0.0   0.0   0.0         0.0  \n",
       "5825    0.0  0.0  0.0     0.0   0.0   0.0   0.0         0.0  \n",
       "\n",
       "[5826 rows x 5000 columns]"
      ]
     },
     "execution_count": 43,
     "metadata": {},
     "output_type": "execute_result"
    }
   ],
   "source": [
    "# Visually inspect X_train_tfidf_lem\n",
    "X_train_tfidf_lem = pd.DataFrame.sparse.from_spmatrix(X_train_tfidf_lem, \n",
    "                                                        columns=tfidf_lem.get_feature_names_out())\n",
    "X_train_tfidf_lem"
   ]
  },
  {
   "cell_type": "markdown",
   "id": "2b73b835",
   "metadata": {},
   "source": [
    "##### OneHotEncode brand_product column"
   ]
  },
  {
   "cell_type": "code",
   "execution_count": 44,
   "id": "1a95c7a1",
   "metadata": {},
   "outputs": [
    {
     "data": {
      "text/html": [
       "<div>\n",
       "<style scoped>\n",
       "    .dataframe tbody tr th:only-of-type {\n",
       "        vertical-align: middle;\n",
       "    }\n",
       "\n",
       "    .dataframe tbody tr th {\n",
       "        vertical-align: top;\n",
       "    }\n",
       "\n",
       "    .dataframe thead th {\n",
       "        text-align: right;\n",
       "    }\n",
       "</style>\n",
       "<table border=\"1\" class=\"dataframe\">\n",
       "  <thead>\n",
       "    <tr style=\"text-align: right;\">\n",
       "      <th></th>\n",
       "      <th>brand_product_Apple</th>\n",
       "      <th>brand_product_Google</th>\n",
       "    </tr>\n",
       "  </thead>\n",
       "  <tbody>\n",
       "    <tr>\n",
       "      <th>0</th>\n",
       "      <td>0.0</td>\n",
       "      <td>1.0</td>\n",
       "    </tr>\n",
       "    <tr>\n",
       "      <th>1</th>\n",
       "      <td>1.0</td>\n",
       "      <td>0.0</td>\n",
       "    </tr>\n",
       "    <tr>\n",
       "      <th>2</th>\n",
       "      <td>1.0</td>\n",
       "      <td>0.0</td>\n",
       "    </tr>\n",
       "    <tr>\n",
       "      <th>3</th>\n",
       "      <td>1.0</td>\n",
       "      <td>0.0</td>\n",
       "    </tr>\n",
       "    <tr>\n",
       "      <th>4</th>\n",
       "      <td>0.0</td>\n",
       "      <td>1.0</td>\n",
       "    </tr>\n",
       "    <tr>\n",
       "      <th>...</th>\n",
       "      <td>...</td>\n",
       "      <td>...</td>\n",
       "    </tr>\n",
       "    <tr>\n",
       "      <th>5821</th>\n",
       "      <td>1.0</td>\n",
       "      <td>0.0</td>\n",
       "    </tr>\n",
       "    <tr>\n",
       "      <th>5822</th>\n",
       "      <td>1.0</td>\n",
       "      <td>0.0</td>\n",
       "    </tr>\n",
       "    <tr>\n",
       "      <th>5823</th>\n",
       "      <td>1.0</td>\n",
       "      <td>0.0</td>\n",
       "    </tr>\n",
       "    <tr>\n",
       "      <th>5824</th>\n",
       "      <td>1.0</td>\n",
       "      <td>0.0</td>\n",
       "    </tr>\n",
       "    <tr>\n",
       "      <th>5825</th>\n",
       "      <td>1.0</td>\n",
       "      <td>0.0</td>\n",
       "    </tr>\n",
       "  </tbody>\n",
       "</table>\n",
       "<p>5826 rows × 2 columns</p>\n",
       "</div>"
      ],
      "text/plain": [
       "      brand_product_Apple  brand_product_Google\n",
       "0                     0.0                   1.0\n",
       "1                     1.0                   0.0\n",
       "2                     1.0                   0.0\n",
       "3                     1.0                   0.0\n",
       "4                     0.0                   1.0\n",
       "...                   ...                   ...\n",
       "5821                  1.0                   0.0\n",
       "5822                  1.0                   0.0\n",
       "5823                  1.0                   0.0\n",
       "5824                  1.0                   0.0\n",
       "5825                  1.0                   0.0\n",
       "\n",
       "[5826 rows x 2 columns]"
      ]
     },
     "execution_count": 44,
     "metadata": {},
     "output_type": "execute_result"
    }
   ],
   "source": [
    "#Instantiate encoder class\n",
    "ohe = OneHotEncoder()\n",
    "\n",
    "#Fit transform X_train's brand_product column\n",
    "brand_product_ohe = ohe.fit_transform(X_train[['brand_product']])\n",
    "brand_product_ohe = pd.DataFrame.sparse.from_spmatrix(brand_product_ohe, \n",
    "                                                      columns= ohe.get_feature_names_out())\n",
    "# View\n",
    "brand_product_ohe"
   ]
  },
  {
   "cell_type": "code",
   "execution_count": 45,
   "id": "d306a251",
   "metadata": {},
   "outputs": [],
   "source": [
    "# Append encoded brand column to X_train_tfidf_regex & X_train_tfidf_lem\n",
    "X_train_final_regex = pd.concat([X_train_tfidf_regex, brand_product_ohe], axis= 1)\n",
    "X_train_final_lem = pd.concat([X_train_tfidf_lem, brand_product_ohe], axis= 1)"
   ]
  },
  {
   "cell_type": "markdown",
   "id": "68ffef80",
   "metadata": {},
   "source": [
    "# Baseline Model"
   ]
  },
  {
   "cell_type": "markdown",
   "id": "554594af",
   "metadata": {},
   "source": [
    "### Naive Bayes"
   ]
  },
  {
   "cell_type": "markdown",
   "id": "43aa2925",
   "metadata": {},
   "source": [
    "##### regex data"
   ]
  },
  {
   "cell_type": "code",
   "execution_count": 46,
   "id": "e0eb031b",
   "metadata": {},
   "outputs": [
    {
     "data": {
      "text/plain": [
       "array([0.635506  , 0.64549356, 0.63175966, 0.61545064, 0.65751073])"
      ]
     },
     "execution_count": 46,
     "metadata": {},
     "output_type": "execute_result"
    }
   ],
   "source": [
    "# Instantiate a MultinomialNB classifier with default params\n",
    "baseline_nb = MultinomialNB()\n",
    "\n",
    "# Fit to data\n",
    "baseline_nb.fit(X_train_final_regex, y_train)\n",
    "\n",
    "# Evaluate accuracy of the classifier on X_train_vectorized and y_train\n",
    "baseline_cv_nb = cross_validate(baseline_nb, X_train_final_regex, y_train)['test_score']\n",
    "baseline_cv_nb"
   ]
  },
  {
   "cell_type": "code",
   "execution_count": 47,
   "id": "0952db8d",
   "metadata": {},
   "outputs": [
    {
     "name": "stdout",
     "output_type": "stream",
     "text": [
      "              precision    recall  f1-score   support\n",
      "\n",
      "    Negative       0.90      0.02      0.04       396\n",
      "     Neutral       0.73      0.95      0.82      3295\n",
      "    Positive       0.83      0.58      0.68      2135\n",
      "\n",
      "    accuracy                           0.75      5826\n",
      "   macro avg       0.82      0.52      0.52      5826\n",
      "weighted avg       0.78      0.75      0.72      5826\n",
      "\n"
     ]
    }
   ],
   "source": [
    "# Print metrics\n",
    "print(classification_report(y_train, baseline_nb.predict(X_train_final_regex)))"
   ]
  },
  {
   "cell_type": "markdown",
   "id": "4fa1697f",
   "metadata": {},
   "source": [
    "The model demonstrates relatively high accuracy in predicting neutral sentiment, while performance in identifying negative and positive sentiments is moderate. Overall, the model achieves an accuracy of 75%, with better precision in classifying neutral sentiments compared to negative and positive sentiments. However, the model's ability to correctly identify negative and positive sentiments is relatively lower, impacting its overall performance."
   ]
  },
  {
   "cell_type": "markdown",
   "id": "efdaa318",
   "metadata": {},
   "source": [
    "##### lemmitized data"
   ]
  },
  {
   "cell_type": "code",
   "execution_count": 48,
   "id": "f23883e3",
   "metadata": {},
   "outputs": [
    {
     "data": {
      "text/plain": [
       "array([0.63464837, 0.64206009, 0.6223176 , 0.61201717, 0.65150215])"
      ]
     },
     "execution_count": 48,
     "metadata": {},
     "output_type": "execute_result"
    }
   ],
   "source": [
    "# Instantiate a MultinomialNB classifier with default params\n",
    "baseline_nb = MultinomialNB()\n",
    "\n",
    "# Fit to data\n",
    "baseline_nb.fit(X_train_final_lem, y_train)\n",
    "\n",
    "# Evaluate the classifier on X_train_vectorized and y_train\n",
    "baseline_cv_nb = cross_validate(baseline_nb, X_train_final_lem, y_train)['test_score']\n",
    "baseline_cv_nb"
   ]
  },
  {
   "cell_type": "code",
   "execution_count": 49,
   "id": "4a0a73d4",
   "metadata": {},
   "outputs": [
    {
     "name": "stdout",
     "output_type": "stream",
     "text": [
      "              precision    recall  f1-score   support\n",
      "\n",
      "    Negative       0.90      0.02      0.04       396\n",
      "     Neutral       0.72      0.96      0.82      3295\n",
      "    Positive       0.83      0.57      0.67      2135\n",
      "\n",
      "    accuracy                           0.75      5826\n",
      "   macro avg       0.82      0.51      0.51      5826\n",
      "weighted avg       0.77      0.75      0.72      5826\n",
      "\n"
     ]
    }
   ],
   "source": [
    "# Print metrics\n",
    "print(classification_report(y_train, baseline_nb.predict(X_train_final_lem)))"
   ]
  },
  {
   "cell_type": "markdown",
   "id": "d96805c1",
   "metadata": {},
   "source": [
    "After implementing token lemmatization, there were no observable changes in the metrics. This suggests that lemmatization did not significantly impact the performance or results of the model."
   ]
  },
  {
   "cell_type": "markdown",
   "id": "28134652",
   "metadata": {},
   "source": [
    "### Decision Tree"
   ]
  },
  {
   "cell_type": "markdown",
   "id": "685add3a",
   "metadata": {},
   "source": [
    "##### regex data"
   ]
  },
  {
   "cell_type": "code",
   "execution_count": 50,
   "id": "1be5043b",
   "metadata": {},
   "outputs": [
    {
     "data": {
      "text/plain": [
       "array([0.62435678, 0.61545064, 0.6111588 , 0.58540773, 0.60429185])"
      ]
     },
     "execution_count": 50,
     "metadata": {},
     "output_type": "execute_result"
    }
   ],
   "source": [
    "# Instatiate class\n",
    "baseline_dt = DecisionTreeClassifier()\n",
    "\n",
    "# Fit to data\n",
    "baseline_dt.fit(X_train_final_regex, y_train)\n",
    "\n",
    "# Evaluate the classifier on X_train_vectorized and y_train\n",
    "baseline_cv_dt = cross_validate(baseline_dt, X_train_final_regex, y_train)['test_score']\n",
    "baseline_cv_dt"
   ]
  },
  {
   "cell_type": "code",
   "execution_count": 51,
   "id": "b185310e",
   "metadata": {},
   "outputs": [
    {
     "name": "stdout",
     "output_type": "stream",
     "text": [
      "              precision    recall  f1-score   support\n",
      "\n",
      "    Negative       0.94      0.99      0.97       396\n",
      "     Neutral       0.93      0.99      0.96      3295\n",
      "    Positive       0.99      0.89      0.94      2135\n",
      "\n",
      "    accuracy                           0.95      5826\n",
      "   macro avg       0.96      0.96      0.96      5826\n",
      "weighted avg       0.96      0.95      0.95      5826\n",
      "\n"
     ]
    }
   ],
   "source": [
    "# Print metrics\n",
    "print(classification_report(y_train, baseline_dt.predict(X_train_final_regex)))"
   ]
  },
  {
   "cell_type": "markdown",
   "id": "d73f0168",
   "metadata": {},
   "source": [
    "The model achieved high precision and recall for all classes, with an overall accuracy of 95%. Negative and neutral sentiments showed particularly strong performance, while positive sentiment classification had slightly lower recall. Overall, the model demonstrates robust performance across multiple sentiment categories, with a weighted F1-score of 0.95."
   ]
  },
  {
   "cell_type": "markdown",
   "id": "503ebbec",
   "metadata": {},
   "source": [
    "##### lemmatized data"
   ]
  },
  {
   "cell_type": "code",
   "execution_count": 52,
   "id": "ca9eb500",
   "metadata": {},
   "outputs": [
    {
     "data": {
      "text/plain": [
       "array([0.62692967, 0.5888412 , 0.61030043, 0.59656652, 0.60600858])"
      ]
     },
     "execution_count": 52,
     "metadata": {},
     "output_type": "execute_result"
    }
   ],
   "source": [
    "# Instatiate class\n",
    "baseline_dt = DecisionTreeClassifier()\n",
    "\n",
    "# Fit to data\n",
    "baseline_dt.fit(X_train_final_lem, y_train)\n",
    "\n",
    "# Evaluate the classifier on X_train_vectorized and y_train\n",
    "baseline_cv_dt = cross_validate(baseline_dt, X_train_final_lem, y_train)['test_score']\n",
    "baseline_cv_dt"
   ]
  },
  {
   "cell_type": "code",
   "execution_count": 53,
   "id": "2d883d0d",
   "metadata": {},
   "outputs": [
    {
     "name": "stdout",
     "output_type": "stream",
     "text": [
      "              precision    recall  f1-score   support\n",
      "\n",
      "    Negative       0.94      0.99      0.97       396\n",
      "     Neutral       0.93      0.99      0.96      3295\n",
      "    Positive       0.99      0.89      0.94      2135\n",
      "\n",
      "    accuracy                           0.95      5826\n",
      "   macro avg       0.96      0.96      0.96      5826\n",
      "weighted avg       0.96      0.95      0.95      5826\n",
      "\n"
     ]
    }
   ],
   "source": [
    "# Print metrics\n",
    "print(classification_report(y_train, baseline_dt.predict(X_train_final_lem)))"
   ]
  },
  {
   "cell_type": "markdown",
   "id": "eb7787c8",
   "metadata": {},
   "source": [
    "After implementing token lemmatization, there were no observable changes in the metrics. This suggests that lemmatization did not significantly impact the performance or results of the model."
   ]
  },
  {
   "cell_type": "markdown",
   "id": "d595d936",
   "metadata": {},
   "source": [
    "# Addressing Class Imbalance (SMOTE)"
   ]
  },
  {
   "cell_type": "code",
   "execution_count": 60,
   "id": "9b4bd0d3",
   "metadata": {},
   "outputs": [
    {
     "data": {
      "text/plain": [
       "array([[1.],\n",
       "       [1.],\n",
       "       [1.],\n",
       "       ...,\n",
       "       [1.],\n",
       "       [1.],\n",
       "       [1.]])"
      ]
     },
     "execution_count": 60,
     "metadata": {},
     "output_type": "execute_result"
    }
   ],
   "source": [
    "# Encode y_train using ordinal encoder\n",
    "ord_encode = OrdinalEncoder()\n",
    "\n",
    "# Fit and transform y_train\n",
    "y_train_encoded = ord_encode.fit_transform(y_train.values.reshape(-1,1))\n",
    "y_train_encoded"
   ]
  },
  {
   "cell_type": "code",
   "execution_count": 61,
   "id": "7a809cf6",
   "metadata": {},
   "outputs": [
    {
     "data": {
      "text/plain": [
       "array([[2.],\n",
       "       [2.],\n",
       "       [2.],\n",
       "       ...,\n",
       "       [1.],\n",
       "       [2.],\n",
       "       [2.]])"
      ]
     },
     "execution_count": 61,
     "metadata": {},
     "output_type": "execute_result"
    }
   ],
   "source": [
    "# Transform y_test\n",
    "y_test_encoded = ord_encode.transform(y_test.values.reshape(-1, 1))\n",
    "y_test_encoded"
   ]
  },
  {
   "cell_type": "code",
   "execution_count": 62,
   "id": "c3c9e72d",
   "metadata": {},
   "outputs": [
    {
     "data": {
      "text/plain": [
       "[array(['Negative', 'Neutral', 'Positive'], dtype=object)]"
      ]
     },
     "execution_count": 62,
     "metadata": {},
     "output_type": "execute_result"
    }
   ],
   "source": [
    "ord_encode.categories_"
   ]
  },
  {
   "cell_type": "code",
   "execution_count": 63,
   "id": "772b73e8",
   "metadata": {},
   "outputs": [
    {
     "data": {
      "text/html": [
       "<div>\n",
       "<style scoped>\n",
       "    .dataframe tbody tr th:only-of-type {\n",
       "        vertical-align: middle;\n",
       "    }\n",
       "\n",
       "    .dataframe tbody tr th {\n",
       "        vertical-align: top;\n",
       "    }\n",
       "\n",
       "    .dataframe thead th {\n",
       "        text-align: right;\n",
       "    }\n",
       "</style>\n",
       "<table border=\"1\" class=\"dataframe\">\n",
       "  <thead>\n",
       "    <tr style=\"text-align: right;\">\n",
       "      <th></th>\n",
       "      <th>index</th>\n",
       "      <th>emotion</th>\n",
       "    </tr>\n",
       "  </thead>\n",
       "  <tbody>\n",
       "    <tr>\n",
       "      <th>0</th>\n",
       "      <td>4226</td>\n",
       "      <td>Neutral</td>\n",
       "    </tr>\n",
       "    <tr>\n",
       "      <th>1</th>\n",
       "      <td>5953</td>\n",
       "      <td>Neutral</td>\n",
       "    </tr>\n",
       "    <tr>\n",
       "      <th>2</th>\n",
       "      <td>2532</td>\n",
       "      <td>Neutral</td>\n",
       "    </tr>\n",
       "    <tr>\n",
       "      <th>3</th>\n",
       "      <td>2481</td>\n",
       "      <td>Positive</td>\n",
       "    </tr>\n",
       "    <tr>\n",
       "      <th>4</th>\n",
       "      <td>2652</td>\n",
       "      <td>Positive</td>\n",
       "    </tr>\n",
       "    <tr>\n",
       "      <th>...</th>\n",
       "      <td>...</td>\n",
       "      <td>...</td>\n",
       "    </tr>\n",
       "    <tr>\n",
       "      <th>5821</th>\n",
       "      <td>905</td>\n",
       "      <td>Positive</td>\n",
       "    </tr>\n",
       "    <tr>\n",
       "      <th>5822</th>\n",
       "      <td>5192</td>\n",
       "      <td>Positive</td>\n",
       "    </tr>\n",
       "    <tr>\n",
       "      <th>5823</th>\n",
       "      <td>3980</td>\n",
       "      <td>Neutral</td>\n",
       "    </tr>\n",
       "    <tr>\n",
       "      <th>5824</th>\n",
       "      <td>235</td>\n",
       "      <td>Neutral</td>\n",
       "    </tr>\n",
       "    <tr>\n",
       "      <th>5825</th>\n",
       "      <td>5157</td>\n",
       "      <td>Neutral</td>\n",
       "    </tr>\n",
       "  </tbody>\n",
       "</table>\n",
       "<p>5826 rows × 2 columns</p>\n",
       "</div>"
      ],
      "text/plain": [
       "      index   emotion\n",
       "0      4226   Neutral\n",
       "1      5953   Neutral\n",
       "2      2532   Neutral\n",
       "3      2481  Positive\n",
       "4      2652  Positive\n",
       "...     ...       ...\n",
       "5821    905  Positive\n",
       "5822   5192  Positive\n",
       "5823   3980   Neutral\n",
       "5824    235   Neutral\n",
       "5825   5157   Neutral\n",
       "\n",
       "[5826 rows x 2 columns]"
      ]
     },
     "execution_count": 63,
     "metadata": {},
     "output_type": "execute_result"
    }
   ],
   "source": [
    "y_train.reset_index()"
   ]
  },
  {
   "cell_type": "markdown",
   "id": "9176a925",
   "metadata": {},
   "source": [
    "##### regex"
   ]
  },
  {
   "cell_type": "code",
   "execution_count": 64,
   "id": "7a60e7ce",
   "metadata": {},
   "outputs": [
    {
     "name": "stderr",
     "output_type": "stream",
     "text": [
      "/Users/dave/anaconda3/lib/python3.11/site-packages/sklearn/utils/validation.py:768: UserWarning: pandas.DataFrame with sparse columns found.It will be converted to a dense numpy array.\n",
      "  warnings.warn(\n"
     ]
    }
   ],
   "source": [
    "# Instantiate class\n",
    "smote = SMOTE()\n",
    "\n",
    "# Fit and resample X_train data\n",
    "X_train_final_regex_resampled, y_train_resampled = smote.fit_resample(X_train_final_regex.reset_index(), \n",
    "                                                                      y_train_encoded)"
   ]
  },
  {
   "cell_type": "markdown",
   "id": "a3e9a0ad",
   "metadata": {},
   "source": [
    "##### lemmatised"
   ]
  },
  {
   "cell_type": "code",
   "execution_count": 65,
   "id": "c1b9f532",
   "metadata": {},
   "outputs": [
    {
     "name": "stderr",
     "output_type": "stream",
     "text": [
      "/Users/dave/anaconda3/lib/python3.11/site-packages/sklearn/utils/validation.py:768: UserWarning: pandas.DataFrame with sparse columns found.It will be converted to a dense numpy array.\n",
      "  warnings.warn(\n"
     ]
    }
   ],
   "source": [
    "# Instantiate class\n",
    "smote = SMOTE()\n",
    "\n",
    "# Fit and resample X_train data\n",
    "X_train_final_lem_resampled, y_train_resampled = smote.fit_resample(X_train_final_lem.reset_index(), \n",
    "                                                                    y_train_encoded)"
   ]
  },
  {
   "cell_type": "code",
   "execution_count": 66,
   "id": "4a0f0937",
   "metadata": {},
   "outputs": [
    {
     "data": {
      "text/plain": [
       "array(['index', '1', '10', ..., 'zuckerberg', 'brand_product_Apple',\n",
       "       'brand_product_Google'], dtype=object)"
      ]
     },
     "execution_count": 66,
     "metadata": {},
     "output_type": "execute_result"
    }
   ],
   "source": [
    "smote.get_feature_names_out()"
   ]
  },
  {
   "cell_type": "code",
   "execution_count": 67,
   "id": "88e84179",
   "metadata": {},
   "outputs": [],
   "source": [
    "# Convert back to sparse matrix  [regex]\n",
    "X_train_final_regex_resampled = csr_matrix(X_train_final_regex_resampled)\n",
    "\n",
    "# Reattach column names to the sparse matrix\n",
    "X_train_final_regex_resampled = pd.DataFrame.sparse.from_spmatrix(X_train_final_regex_resampled, \n",
    "                                                            columns=smote.get_feature_names_out())\n",
    "X_train_final_regex_resampled = X_train_final_regex_resampled.set_index('index')"
   ]
  },
  {
   "cell_type": "code",
   "execution_count": 68,
   "id": "bd9531b0",
   "metadata": {},
   "outputs": [],
   "source": [
    "# Convert back to sparse matrix [lem]\n",
    "X_train_final_lem_resampled = csr_matrix(X_train_final_lem_resampled)\n",
    "\n",
    "# Reattach column names to the sparse matrix\n",
    "X_train_final_lem_resampled = pd.DataFrame.sparse.from_spmatrix(X_train_final_lem_resampled, \n",
    "                                                            columns=smote.get_feature_names_out())\n",
    "X_train_final_lem_resampled = X_train_final_lem_resampled.set_index('index')"
   ]
  },
  {
   "cell_type": "markdown",
   "id": "846b3dcd",
   "metadata": {},
   "source": [
    "### Modelling on resampled data "
   ]
  },
  {
   "cell_type": "markdown",
   "id": "eb3dc914",
   "metadata": {},
   "source": [
    "#### Naive Bayes"
   ]
  },
  {
   "cell_type": "markdown",
   "id": "eba4710e",
   "metadata": {},
   "source": [
    "##### regex"
   ]
  },
  {
   "cell_type": "code",
   "execution_count": 92,
   "id": "f5d9fd9e",
   "metadata": {},
   "outputs": [
    {
     "data": {
      "text/plain": [
       "array([0.73242286, 0.73444613, 0.73748103, 0.76277188, 0.78502782])"
      ]
     },
     "execution_count": 92,
     "metadata": {},
     "output_type": "execute_result"
    }
   ],
   "source": [
    "# Naive bayes\n",
    "\n",
    "# Instantiate a MultinomialNB classifier with default params\n",
    "baseline_nb = MultinomialNB()\n",
    "\n",
    "# Fit to data\n",
    "baseline_nb.fit(X_train_final_regex_resampled, y_train_resampled)\n",
    "\n",
    "# Evaluate the classifier on X_train_vectorized and y_train\n",
    "baseline_cv_nb = cross_validate(baseline_nb, X_train_final_regex_resampled, y_train_resampled)['test_score']\n",
    "baseline_cv_nb"
   ]
  },
  {
   "cell_type": "code",
   "execution_count": 97,
   "id": "02c86538",
   "metadata": {},
   "outputs": [
    {
     "name": "stdout",
     "output_type": "stream",
     "text": [
      "              precision    recall  f1-score   support\n",
      "\n",
      "         0.0       0.88      0.96      0.92      3295\n",
      "         1.0       0.81      0.71      0.76      3295\n",
      "         2.0       0.80      0.82      0.81      3295\n",
      "\n",
      "    accuracy                           0.83      9885\n",
      "   macro avg       0.83      0.83      0.83      9885\n",
      "weighted avg       0.83      0.83      0.83      9885\n",
      "\n"
     ]
    }
   ],
   "source": [
    "# Print metrics\n",
    "print(classification_report(y_train_resampled, baseline_nb.predict(X_train_final_regex_resampled)))"
   ]
  },
  {
   "cell_type": "markdown",
   "id": "d94ee6ae",
   "metadata": {},
   "source": [
    "The classification model demonstrates notable improvements in recall across all classes following SMOTE resampling. Prior to resampling, recall values varied, with negative class exhibiting the lowest value at 2%. However, after resampling, all classes experienced substantial increases in recall to 96%. Accuracy improved significantfrom 75% to 83%, indicating that SMOTE effectively addressed the imbalance in the dataset."
   ]
  },
  {
   "cell_type": "markdown",
   "id": "1383cac3",
   "metadata": {},
   "source": [
    "##### lemmatized"
   ]
  },
  {
   "cell_type": "code",
   "execution_count": 98,
   "id": "0938cddf",
   "metadata": {},
   "outputs": [
    {
     "data": {
      "text/plain": [
       "array([0.73242286, 0.72382398, 0.73798685, 0.77339403, 0.77339403])"
      ]
     },
     "execution_count": 98,
     "metadata": {},
     "output_type": "execute_result"
    }
   ],
   "source": [
    "# Naive bayes\n",
    "\n",
    "# Instantiate a MultinomialNB classifier with default params\n",
    "baseline_nb = MultinomialNB()\n",
    "\n",
    "# Fit to data\n",
    "baseline_nb.fit(X_train_final_lem_resampled, y_train_resampled)\n",
    "\n",
    "# Evaluate the classifier on X_train_vectorized and y_train\n",
    "baseline_cv_nb = cross_validate(baseline_nb, X_train_final_lem_resampled, y_train_resampled)['test_score']\n",
    "baseline_cv_nb"
   ]
  },
  {
   "cell_type": "code",
   "execution_count": 99,
   "id": "1b147a10",
   "metadata": {},
   "outputs": [
    {
     "name": "stdout",
     "output_type": "stream",
     "text": [
      "              precision    recall  f1-score   support\n",
      "\n",
      "         0.0       0.87      0.96      0.92      3295\n",
      "         1.0       0.82      0.70      0.76      3295\n",
      "         2.0       0.79      0.82      0.81      3295\n",
      "\n",
      "    accuracy                           0.83      9885\n",
      "   macro avg       0.83      0.83      0.83      9885\n",
      "weighted avg       0.83      0.83      0.83      9885\n",
      "\n"
     ]
    }
   ],
   "source": [
    "# Print metrics\n",
    "print(classification_report(y_train_resampled, baseline_nb.predict(X_train_final_lem_resampled)))"
   ]
  },
  {
   "cell_type": "markdown",
   "id": "8afc82fa",
   "metadata": {},
   "source": [
    "After implementing token lemmatization, there were no observable changes in the metrics. This suggests that lemmatization did not significantly impact the performance or results of the model."
   ]
  },
  {
   "cell_type": "markdown",
   "id": "b7a838af",
   "metadata": {},
   "source": [
    "#### Decision Tree"
   ]
  },
  {
   "cell_type": "markdown",
   "id": "75c5d46e",
   "metadata": {},
   "source": [
    "##### regex"
   ]
  },
  {
   "cell_type": "code",
   "execution_count": 100,
   "id": "2ab2a1c9",
   "metadata": {},
   "outputs": [
    {
     "data": {
      "text/plain": [
       "array([0.5928174 , 0.71370764, 0.71219019, 0.76176024, 0.74102175])"
      ]
     },
     "execution_count": 100,
     "metadata": {},
     "output_type": "execute_result"
    }
   ],
   "source": [
    "# Instatiate class\n",
    "baseline_dt = DecisionTreeClassifier()\n",
    "\n",
    "# Fit to data\n",
    "baseline_dt.fit(X_train_final_regex_resampled, y_train_resampled)\n",
    "\n",
    "# Evaluate the classifier on X_train_vectorized and y_train\n",
    "baseline_cv_dt = cross_validate(baseline_dt, X_train_final_regex_resampled, y_train_resampled)['test_score']\n",
    "baseline_cv_dt"
   ]
  },
  {
   "cell_type": "code",
   "execution_count": 101,
   "id": "92e52eb8",
   "metadata": {},
   "outputs": [
    {
     "name": "stdout",
     "output_type": "stream",
     "text": [
      "              precision    recall  f1-score   support\n",
      "\n",
      "         0.0       0.99      1.00      1.00      3295\n",
      "         1.0       0.93      0.99      0.96      3295\n",
      "         2.0       1.00      0.93      0.96      3295\n",
      "\n",
      "    accuracy                           0.97      9885\n",
      "   macro avg       0.97      0.97      0.97      9885\n",
      "weighted avg       0.97      0.97      0.97      9885\n",
      "\n"
     ]
    }
   ],
   "source": [
    "# Print metrics\n",
    "print(classification_report(y_train_resampled, baseline_dt.predict(X_train_final_regex_resampled)))"
   ]
  },
  {
   "cell_type": "markdown",
   "id": "86760f81",
   "metadata": {},
   "source": [
    "The model's performance has shown a significant enhancement, with accuracy improving from 95% to 97%. Additionally, there was a notable enhancement in recall, which increased from 99% to a perfect score of 100%. These improvements underscore the effectiveness of the model's predictive capabilities, reflecting its enhanced ability to correctly identify positive instances and overall accuracy in classification tasks."
   ]
  },
  {
   "cell_type": "markdown",
   "id": "7f35d812",
   "metadata": {},
   "source": [
    "##### lemmatized"
   ]
  },
  {
   "cell_type": "code",
   "execution_count": 102,
   "id": "d2b5f11d",
   "metadata": {},
   "outputs": [
    {
     "data": {
      "text/plain": [
       "array([0.61709661, 0.70460293, 0.71522509, 0.75973698, 0.7364694 ])"
      ]
     },
     "execution_count": 102,
     "metadata": {},
     "output_type": "execute_result"
    }
   ],
   "source": [
    "# Instatiate class\n",
    "baseline_dt = DecisionTreeClassifier()\n",
    "\n",
    "# Fit to data\n",
    "baseline_dt.fit(X_train_final_lem_resampled, y_train_resampled)\n",
    "\n",
    "# Evaluate the classifier on X_train_vectorized and y_train\n",
    "baseline_cv_dt = cross_validate(baseline_dt, X_train_final_lem_resampled, y_train_resampled)['test_score']\n",
    "baseline_cv_dt"
   ]
  },
  {
   "cell_type": "code",
   "execution_count": 103,
   "id": "8fc28b40",
   "metadata": {},
   "outputs": [
    {
     "name": "stdout",
     "output_type": "stream",
     "text": [
      "              precision    recall  f1-score   support\n",
      "\n",
      "         0.0       0.99      1.00      1.00      3295\n",
      "         1.0       0.93      0.99      0.96      3295\n",
      "         2.0       1.00      0.93      0.96      3295\n",
      "\n",
      "    accuracy                           0.97      9885\n",
      "   macro avg       0.97      0.97      0.97      9885\n",
      "weighted avg       0.97      0.97      0.97      9885\n",
      "\n"
     ]
    }
   ],
   "source": [
    "# Print metrics\n",
    "print(classification_report(y_train_resampled, baseline_dt.predict(X_train_final_lem_resampled)))"
   ]
  },
  {
   "cell_type": "markdown",
   "id": "4f9731c0",
   "metadata": {},
   "source": [
    "After implementing token lemmatization, there were no observable changes in the metrics. This suggests that lemmatization did not significantly impact the performance or results of the model."
   ]
  },
  {
   "cell_type": "markdown",
   "id": "a1443f79",
   "metadata": {},
   "source": [
    "#### Random Forest"
   ]
  },
  {
   "cell_type": "markdown",
   "id": "fa6586b8",
   "metadata": {},
   "source": [
    "##### regex"
   ]
  },
  {
   "cell_type": "code",
   "execution_count": 104,
   "id": "f9d6591c",
   "metadata": {},
   "outputs": [
    {
     "data": {
      "text/plain": [
       "array([0.68133536, 0.76681841, 0.76833586, 0.85381892, 0.85837127])"
      ]
     },
     "execution_count": 104,
     "metadata": {},
     "output_type": "execute_result"
    }
   ],
   "source": [
    "# Random Forest\n",
    "baseline_rf = RandomForestClassifier()\n",
    "\n",
    "# Fit to data \n",
    "baseline_rf.fit(X_train_final_regex_resampled, y_train_resampled)\n",
    "\n",
    "baseline_cv_rf = cross_validate(baseline_rf, X_train_final_regex_resampled, y_train_resampled)['test_score']\n",
    "baseline_cv_rf"
   ]
  },
  {
   "cell_type": "code",
   "execution_count": 105,
   "id": "f2680ce3",
   "metadata": {},
   "outputs": [
    {
     "name": "stdout",
     "output_type": "stream",
     "text": [
      "              precision    recall  f1-score   support\n",
      "\n",
      "         0.0       1.00      1.00      1.00      3295\n",
      "         1.0       0.95      0.97      0.96      3295\n",
      "         2.0       0.97      0.95      0.96      3295\n",
      "\n",
      "    accuracy                           0.97      9885\n",
      "   macro avg       0.97      0.97      0.97      9885\n",
      "weighted avg       0.97      0.97      0.97      9885\n",
      "\n"
     ]
    }
   ],
   "source": [
    "# Print metrics\n",
    "print(classification_report(y_train_resampled, baseline_rf.predict(X_train_final_regex_resampled)))"
   ]
  },
  {
   "cell_type": "markdown",
   "id": "7cb8258d",
   "metadata": {},
   "source": [
    "The model exhibited a comparable performance to the decision tree classifier."
   ]
  },
  {
   "cell_type": "markdown",
   "id": "08b9729e",
   "metadata": {},
   "source": [
    "##### lemmatized"
   ]
  },
  {
   "cell_type": "code",
   "execution_count": 106,
   "id": "8bf8a63e",
   "metadata": {},
   "outputs": [
    {
     "data": {
      "text/plain": [
       "array([0.68689934, 0.75923116, 0.75720789, 0.85584219, 0.85584219])"
      ]
     },
     "execution_count": 106,
     "metadata": {},
     "output_type": "execute_result"
    }
   ],
   "source": [
    "# Random Forest\n",
    "baseline_rf = RandomForestClassifier()\n",
    "\n",
    "# Fit to data\n",
    "baseline_rf.fit(X_train_final_lem_resampled, y_train_resampled)\n",
    "\n",
    "baseline_cv_rf = cross_validate(baseline_rf, X_train_final_lem_resampled, y_train_resampled)['test_score']\n",
    "baseline_cv_rf"
   ]
  },
  {
   "cell_type": "code",
   "execution_count": 107,
   "id": "7cd0b793",
   "metadata": {},
   "outputs": [
    {
     "name": "stdout",
     "output_type": "stream",
     "text": [
      "              precision    recall  f1-score   support\n",
      "\n",
      "         0.0       0.99      1.00      1.00      3295\n",
      "         1.0       0.95      0.97      0.96      3295\n",
      "         2.0       0.97      0.95      0.96      3295\n",
      "\n",
      "    accuracy                           0.97      9885\n",
      "   macro avg       0.97      0.97      0.97      9885\n",
      "weighted avg       0.97      0.97      0.97      9885\n",
      "\n"
     ]
    }
   ],
   "source": [
    "# Print metrics\n",
    "print(classification_report(y_train_resampled, baseline_rf.predict(X_train_final_lem_resampled)))"
   ]
  },
  {
   "cell_type": "markdown",
   "id": "dfcaffaf",
   "metadata": {},
   "source": [
    "After implementing token lemmatization, there were no observable changes in the metrics. This suggests that lemmatization did not significantly impact the performance or results of the model."
   ]
  },
  {
   "cell_type": "markdown",
   "id": "b523d318",
   "metadata": {},
   "source": [
    "#### XGBoost"
   ]
  },
  {
   "cell_type": "markdown",
   "id": "4062d2df",
   "metadata": {},
   "source": [
    "##### regex"
   ]
  },
  {
   "cell_type": "code",
   "execution_count": 108,
   "id": "8bc9024b",
   "metadata": {},
   "outputs": [
    {
     "data": {
      "text/plain": [
       "array([0.60546282, 0.76580678, 0.77744057, 0.84167931, 0.8593829 ])"
      ]
     },
     "execution_count": 108,
     "metadata": {},
     "output_type": "execute_result"
    }
   ],
   "source": [
    "# Instantiate the XGBoost classifier\n",
    "xgb_clf = xgb.XGBClassifier(objective='multi:softmax', num_class= len(y_train.value_counts()), seed=42)\n",
    "\n",
    "# Fit to data\n",
    "xgb_clf.fit(X_train_final_regex_resampled, y_train_resampled)\n",
    "\n",
    "baseline_cv_xgb = cross_validate(xgb_clf, X_train_final_regex_resampled, y_train_resampled)['test_score']\n",
    "baseline_cv_xgb"
   ]
  },
  {
   "cell_type": "code",
   "execution_count": 111,
   "id": "25d5bdc9",
   "metadata": {},
   "outputs": [
    {
     "name": "stdout",
     "output_type": "stream",
     "text": [
      "              precision    recall  f1-score   support\n",
      "\n",
      "         0.0       0.99      0.94      0.97      3295\n",
      "         1.0       0.79      0.93      0.85      3295\n",
      "         2.0       0.91      0.79      0.84      3295\n",
      "\n",
      "    accuracy                           0.89      9885\n",
      "   macro avg       0.90      0.89      0.89      9885\n",
      "weighted avg       0.90      0.89      0.89      9885\n",
      "\n"
     ]
    }
   ],
   "source": [
    "# Print metrics\n",
    "print(classification_report(y_train_resampled, xgb_clf.predict(X_train_final_regex_resampled)))"
   ]
  },
  {
   "cell_type": "markdown",
   "id": "d17f094c",
   "metadata": {},
   "source": [
    "The model exhibits a slightly lower accuracy of 89% compared to the earlier decision tree model. "
   ]
  },
  {
   "cell_type": "markdown",
   "id": "96099259",
   "metadata": {},
   "source": [
    "##### lemmatized"
   ]
  },
  {
   "cell_type": "code",
   "execution_count": 112,
   "id": "ee5816e4",
   "metadata": {},
   "outputs": [
    {
     "data": {
      "text/plain": [
       "array([0.60495701, 0.76428933, 0.76125443, 0.8593829 , 0.86090035])"
      ]
     },
     "execution_count": 112,
     "metadata": {},
     "output_type": "execute_result"
    }
   ],
   "source": [
    "# Instantiate the XGBoost classifier\n",
    "xgb_clf = xgb.XGBClassifier(objective='multi:softmax', num_class= len(y_train.value_counts()), seed=42)\n",
    "\n",
    "# Fit to data\n",
    "xgb_clf.fit(X_train_final_lem_resampled, y_train_resampled)\n",
    "\n",
    "baseline_cv_xgb = cross_validate(xgb_clf, X_train_final_lem_resampled, y_train_resampled)['test_score']\n",
    "baseline_cv_xgb"
   ]
  },
  {
   "cell_type": "code",
   "execution_count": 113,
   "id": "9b94c342",
   "metadata": {},
   "outputs": [
    {
     "name": "stdout",
     "output_type": "stream",
     "text": [
      "              precision    recall  f1-score   support\n",
      "\n",
      "         0.0       0.99      0.95      0.97      3295\n",
      "         1.0       0.79      0.95      0.86      3295\n",
      "         2.0       0.93      0.78      0.85      3295\n",
      "\n",
      "    accuracy                           0.89      9885\n",
      "   macro avg       0.90      0.89      0.89      9885\n",
      "weighted avg       0.90      0.89      0.89      9885\n",
      "\n"
     ]
    }
   ],
   "source": [
    "# Print metrics\n",
    "print(classification_report(y_train_resampled, xgb_clf.predict(X_train_final_lem_resampled)))"
   ]
  },
  {
   "cell_type": "markdown",
   "id": "8932627e",
   "metadata": {},
   "source": [
    "After implementing token lemmatization, there were no observable changes in the metrics. This suggests that lemmatization did not significantly impact the performance or results of the model."
   ]
  },
  {
   "cell_type": "markdown",
   "id": "c459c46a",
   "metadata": {},
   "source": [
    "### Support Vector Classifier"
   ]
  },
  {
   "cell_type": "markdown",
   "id": "daff6e85",
   "metadata": {},
   "source": [
    "##### regex"
   ]
  },
  {
   "cell_type": "code",
   "execution_count": 117,
   "id": "b9a08295",
   "metadata": {},
   "outputs": [
    {
     "data": {
      "text/plain": [
       "array([0.80273141, 0.79210926, 0.81284775, 0.86292362, 0.88821447])"
      ]
     },
     "execution_count": 117,
     "metadata": {},
     "output_type": "execute_result"
    }
   ],
   "source": [
    "# Initialize StandardScaler with with_mean=False\n",
    "scaler = StandardScaler(with_mean=False)\n",
    "\n",
    "# Fit and transform the training data\n",
    "X_train_final_regex_resampled_scaled = scaler.fit_transform(X_train_final_regex_resampled)\n",
    "\n",
    "# Instantiate support vector classifier\n",
    "svc = SVC()\n",
    "\n",
    "# Fit to data\n",
    "svc.fit(X_train_final_regex_resampled_scaled, y_train_resampled)\n",
    "\n",
    "baseline_cv_svc = cross_validate(svc, X_train_final_regex_resampled_scaled, y_train_resampled)['test_score']\n",
    "baseline_cv_svc"
   ]
  },
  {
   "cell_type": "code",
   "execution_count": 118,
   "id": "0b106164",
   "metadata": {},
   "outputs": [
    {
     "name": "stdout",
     "output_type": "stream",
     "text": [
      "              precision    recall  f1-score   support\n",
      "\n",
      "         0.0       0.98      0.99      0.99      3295\n",
      "         1.0       0.91      0.91      0.91      3295\n",
      "         2.0       0.93      0.91      0.92      3295\n",
      "\n",
      "    accuracy                           0.94      9885\n",
      "   macro avg       0.94      0.94      0.94      9885\n",
      "weighted avg       0.94      0.94      0.94      9885\n",
      "\n"
     ]
    }
   ],
   "source": [
    "# Print metrics\n",
    "print(classification_report(y_train_resampled, svc.predict(X_train_final_regex_resampled_scaled)))"
   ]
  },
  {
   "cell_type": "markdown",
   "id": "5237a448",
   "metadata": {},
   "source": [
    "The model demonstrates a comparable performance to the earlier decision tree classifier. While achieving a slightly lower accuracy of 94%, it maintains high precision across all classes"
   ]
  },
  {
   "cell_type": "markdown",
   "id": "f77793bc",
   "metadata": {},
   "source": [
    "##### lemmatized"
   ]
  },
  {
   "cell_type": "code",
   "execution_count": 119,
   "id": "3caafc2d",
   "metadata": {},
   "outputs": [
    {
     "data": {
      "text/plain": [
       "array([0.79716743, 0.79059181, 0.80374305, 0.86342944, 0.88720283])"
      ]
     },
     "execution_count": 119,
     "metadata": {},
     "output_type": "execute_result"
    }
   ],
   "source": [
    "# Initialize StandardScaler with with_mean=False\n",
    "scaler = StandardScaler(with_mean=False)\n",
    "\n",
    "# Fit and transform the training data\n",
    "X_train_final_lem_resampled_scaled = scaler.fit_transform(X_train_final_lem_resampled)\n",
    "\n",
    "# Instantiate support vector classifier\n",
    "svc = SVC()\n",
    "\n",
    "# Fit to data\n",
    "svc.fit(X_train_final_lem_resampled_scaled, y_train_resampled)\n",
    "\n",
    "baseline_cv_svc = cross_validate(svc, X_train_final_lem_resampled_scaled, y_train_resampled)['test_score']\n",
    "baseline_cv_svc"
   ]
  },
  {
   "cell_type": "code",
   "execution_count": 120,
   "id": "fd39c363",
   "metadata": {},
   "outputs": [
    {
     "name": "stdout",
     "output_type": "stream",
     "text": [
      "              precision    recall  f1-score   support\n",
      "\n",
      "         0.0       0.98      0.99      0.98      3295\n",
      "         1.0       0.91      0.90      0.91      3295\n",
      "         2.0       0.92      0.92      0.92      3295\n",
      "\n",
      "    accuracy                           0.94      9885\n",
      "   macro avg       0.94      0.94      0.94      9885\n",
      "weighted avg       0.94      0.94      0.94      9885\n",
      "\n"
     ]
    }
   ],
   "source": [
    "# Print metrics\n",
    "print(classification_report(y_train_resampled, svc.predict(X_train_final_lem_resampled_scaled)))"
   ]
  },
  {
   "cell_type": "markdown",
   "id": "1d8fd330",
   "metadata": {},
   "source": [
    "After implementing token lemmatization, there were no observable changes in the metrics. This suggests that lemmatization did not significantly impact the performance or results of the model."
   ]
  },
  {
   "cell_type": "markdown",
   "id": "44606d8b",
   "metadata": {},
   "source": [
    "# Using Pipelines"
   ]
  },
  {
   "cell_type": "code",
   "execution_count": 122,
   "id": "44ef0069",
   "metadata": {},
   "outputs": [],
   "source": [
    "import warnings\n",
    "\n",
    "# Ignore all UserWarnings\n",
    "warnings.filterwarnings(\"ignore\", category=UserWarning)"
   ]
  },
  {
   "cell_type": "markdown",
   "id": "4b7cec2c",
   "metadata": {},
   "source": [
    "### Random Forest"
   ]
  },
  {
   "cell_type": "code",
   "execution_count": 98,
   "id": "2af36978",
   "metadata": {},
   "outputs": [
    {
     "data": {
      "text/plain": [
       "<5826x5001 sparse matrix of type '<class 'numpy.float64'>'\n",
       "\twith 61719 stored elements in Compressed Sparse Row format>"
      ]
     },
     "execution_count": 98,
     "metadata": {},
     "output_type": "execute_result"
    }
   ],
   "source": [
    "# Define the pipeline for text data\n",
    "text_pipeline = Pipeline([\n",
    "    ('tfidf', tfidf_lem),\n",
    "])\n",
    "\n",
    "# Define the pipeline for categorical data\n",
    "categorical_pipeline = Pipeline([\n",
    "    ('ord_encode', OrdinalEncoder()),\n",
    "])\n",
    "\n",
    "# Combine pipelines using ColumnTransformer\n",
    "preprocessor = ColumnTransformer([\n",
    "    ('text', text_pipeline, 'cleaned_tweet'),  # apply text_pipeline to 'text' column\n",
    "    ('categorical', categorical_pipeline, ['brand_product']),  # apply categorical_pipeline to 'category' column\n",
    "])\n",
    "\n",
    "# Fit and transform the data\n",
    "transformed_data = preprocessor.fit_transform(X_train)\n",
    "\n",
    "transformed_data"
   ]
  },
  {
   "cell_type": "code",
   "execution_count": 99,
   "id": "06288131",
   "metadata": {},
   "outputs": [
    {
     "name": "stderr",
     "output_type": "stream",
     "text": [
      "/Users/dave/anaconda3/lib/python3.11/site-packages/sklearn/feature_extraction/text.py:528: UserWarning: The parameter 'token_pattern' will not be used since 'tokenizer' is not None'\n",
      "  warnings.warn(\n",
      "/Users/dave/anaconda3/lib/python3.11/site-packages/sklearn/feature_extraction/text.py:409: UserWarning: Your stop_words may be inconsistent with your preprocessing. Tokenizing the stop words generated tokens ['doe', 'ha', 'wa'] not in stop_words.\n",
      "  warnings.warn(\n",
      "/Users/dave/anaconda3/lib/python3.11/site-packages/sklearn/feature_extraction/text.py:528: UserWarning: The parameter 'token_pattern' will not be used since 'tokenizer' is not None'\n",
      "  warnings.warn(\n",
      "/Users/dave/anaconda3/lib/python3.11/site-packages/sklearn/feature_extraction/text.py:409: UserWarning: Your stop_words may be inconsistent with your preprocessing. Tokenizing the stop words generated tokens ['doe', 'ha', 'wa'] not in stop_words.\n",
      "  warnings.warn(\n",
      "/Users/dave/anaconda3/lib/python3.11/site-packages/sklearn/feature_extraction/text.py:528: UserWarning: The parameter 'token_pattern' will not be used since 'tokenizer' is not None'\n",
      "  warnings.warn(\n",
      "/Users/dave/anaconda3/lib/python3.11/site-packages/sklearn/feature_extraction/text.py:409: UserWarning: Your stop_words may be inconsistent with your preprocessing. Tokenizing the stop words generated tokens ['doe', 'ha', 'wa'] not in stop_words.\n",
      "  warnings.warn(\n",
      "/Users/dave/anaconda3/lib/python3.11/site-packages/sklearn/feature_extraction/text.py:528: UserWarning: The parameter 'token_pattern' will not be used since 'tokenizer' is not None'\n",
      "  warnings.warn(\n",
      "/Users/dave/anaconda3/lib/python3.11/site-packages/sklearn/feature_extraction/text.py:409: UserWarning: Your stop_words may be inconsistent with your preprocessing. Tokenizing the stop words generated tokens ['doe', 'ha', 'wa'] not in stop_words.\n",
      "  warnings.warn(\n",
      "/Users/dave/anaconda3/lib/python3.11/site-packages/sklearn/feature_extraction/text.py:528: UserWarning: The parameter 'token_pattern' will not be used since 'tokenizer' is not None'\n",
      "  warnings.warn(\n",
      "/Users/dave/anaconda3/lib/python3.11/site-packages/sklearn/feature_extraction/text.py:409: UserWarning: Your stop_words may be inconsistent with your preprocessing. Tokenizing the stop words generated tokens ['doe', 'ha', 'wa'] not in stop_words.\n",
      "  warnings.warn(\n",
      "/Users/dave/anaconda3/lib/python3.11/site-packages/sklearn/feature_extraction/text.py:528: UserWarning: The parameter 'token_pattern' will not be used since 'tokenizer' is not None'\n",
      "  warnings.warn(\n",
      "/Users/dave/anaconda3/lib/python3.11/site-packages/sklearn/feature_extraction/text.py:409: UserWarning: Your stop_words may be inconsistent with your preprocessing. Tokenizing the stop words generated tokens ['doe', 'ha', 'wa'] not in stop_words.\n",
      "  warnings.warn(\n",
      "/Users/dave/anaconda3/lib/python3.11/site-packages/sklearn/feature_extraction/text.py:528: UserWarning: The parameter 'token_pattern' will not be used since 'tokenizer' is not None'\n",
      "  warnings.warn(\n",
      "/Users/dave/anaconda3/lib/python3.11/site-packages/sklearn/feature_extraction/text.py:409: UserWarning: Your stop_words may be inconsistent with your preprocessing. Tokenizing the stop words generated tokens ['doe', 'ha', 'wa'] not in stop_words.\n",
      "  warnings.warn(\n",
      "/Users/dave/anaconda3/lib/python3.11/site-packages/sklearn/feature_extraction/text.py:528: UserWarning: The parameter 'token_pattern' will not be used since 'tokenizer' is not None'\n",
      "  warnings.warn(\n",
      "/Users/dave/anaconda3/lib/python3.11/site-packages/sklearn/feature_extraction/text.py:409: UserWarning: Your stop_words may be inconsistent with your preprocessing. Tokenizing the stop words generated tokens ['doe', 'ha', 'wa'] not in stop_words.\n",
      "  warnings.warn(\n",
      "/Users/dave/anaconda3/lib/python3.11/site-packages/sklearn/feature_extraction/text.py:528: UserWarning: The parameter 'token_pattern' will not be used since 'tokenizer' is not None'\n",
      "  warnings.warn(\n",
      "/Users/dave/anaconda3/lib/python3.11/site-packages/sklearn/feature_extraction/text.py:409: UserWarning: Your stop_words may be inconsistent with your preprocessing. Tokenizing the stop words generated tokens ['doe', 'ha', 'wa'] not in stop_words.\n",
      "  warnings.warn(\n",
      "/Users/dave/anaconda3/lib/python3.11/site-packages/sklearn/feature_extraction/text.py:528: UserWarning: The parameter 'token_pattern' will not be used since 'tokenizer' is not None'\n",
      "  warnings.warn(\n",
      "/Users/dave/anaconda3/lib/python3.11/site-packages/sklearn/feature_extraction/text.py:409: UserWarning: Your stop_words may be inconsistent with your preprocessing. Tokenizing the stop words generated tokens ['doe', 'ha', 'wa'] not in stop_words.\n",
      "  warnings.warn(\n",
      "/Users/dave/anaconda3/lib/python3.11/site-packages/sklearn/feature_extraction/text.py:528: UserWarning: The parameter 'token_pattern' will not be used since 'tokenizer' is not None'\n",
      "  warnings.warn(\n",
      "/Users/dave/anaconda3/lib/python3.11/site-packages/sklearn/feature_extraction/text.py:409: UserWarning: Your stop_words may be inconsistent with your preprocessing. Tokenizing the stop words generated tokens ['doe', 'ha', 'wa'] not in stop_words.\n",
      "  warnings.warn(\n",
      "/Users/dave/anaconda3/lib/python3.11/site-packages/sklearn/feature_extraction/text.py:528: UserWarning: The parameter 'token_pattern' will not be used since 'tokenizer' is not None'\n",
      "  warnings.warn(\n",
      "/Users/dave/anaconda3/lib/python3.11/site-packages/sklearn/feature_extraction/text.py:409: UserWarning: Your stop_words may be inconsistent with your preprocessing. Tokenizing the stop words generated tokens ['doe', 'ha', 'wa'] not in stop_words.\n",
      "  warnings.warn(\n",
      "/Users/dave/anaconda3/lib/python3.11/site-packages/sklearn/feature_extraction/text.py:528: UserWarning: The parameter 'token_pattern' will not be used since 'tokenizer' is not None'\n",
      "  warnings.warn(\n",
      "/Users/dave/anaconda3/lib/python3.11/site-packages/sklearn/feature_extraction/text.py:409: UserWarning: Your stop_words may be inconsistent with your preprocessing. Tokenizing the stop words generated tokens ['doe', 'ha', 'wa'] not in stop_words.\n",
      "  warnings.warn(\n",
      "/Users/dave/anaconda3/lib/python3.11/site-packages/sklearn/feature_extraction/text.py:528: UserWarning: The parameter 'token_pattern' will not be used since 'tokenizer' is not None'\n",
      "  warnings.warn(\n",
      "/Users/dave/anaconda3/lib/python3.11/site-packages/sklearn/feature_extraction/text.py:409: UserWarning: Your stop_words may be inconsistent with your preprocessing. Tokenizing the stop words generated tokens ['doe', 'ha', 'wa'] not in stop_words.\n",
      "  warnings.warn(\n",
      "/Users/dave/anaconda3/lib/python3.11/site-packages/sklearn/feature_extraction/text.py:528: UserWarning: The parameter 'token_pattern' will not be used since 'tokenizer' is not None'\n",
      "  warnings.warn(\n",
      "/Users/dave/anaconda3/lib/python3.11/site-packages/sklearn/feature_extraction/text.py:409: UserWarning: Your stop_words may be inconsistent with your preprocessing. Tokenizing the stop words generated tokens ['doe', 'ha', 'wa'] not in stop_words.\n",
      "  warnings.warn(\n",
      "/Users/dave/anaconda3/lib/python3.11/site-packages/sklearn/feature_extraction/text.py:528: UserWarning: The parameter 'token_pattern' will not be used since 'tokenizer' is not None'\n",
      "  warnings.warn(\n",
      "/Users/dave/anaconda3/lib/python3.11/site-packages/sklearn/feature_extraction/text.py:409: UserWarning: Your stop_words may be inconsistent with your preprocessing. Tokenizing the stop words generated tokens ['doe', 'ha', 'wa'] not in stop_words.\n",
      "  warnings.warn(\n",
      "/Users/dave/anaconda3/lib/python3.11/site-packages/sklearn/feature_extraction/text.py:528: UserWarning: The parameter 'token_pattern' will not be used since 'tokenizer' is not None'\n",
      "  warnings.warn(\n",
      "/Users/dave/anaconda3/lib/python3.11/site-packages/sklearn/feature_extraction/text.py:409: UserWarning: Your stop_words may be inconsistent with your preprocessing. Tokenizing the stop words generated tokens ['doe', 'ha', 'wa'] not in stop_words.\n",
      "  warnings.warn(\n",
      "/Users/dave/anaconda3/lib/python3.11/site-packages/sklearn/feature_extraction/text.py:528: UserWarning: The parameter 'token_pattern' will not be used since 'tokenizer' is not None'\n",
      "  warnings.warn(\n",
      "/Users/dave/anaconda3/lib/python3.11/site-packages/sklearn/feature_extraction/text.py:409: UserWarning: Your stop_words may be inconsistent with your preprocessing. Tokenizing the stop words generated tokens ['doe', 'ha', 'wa'] not in stop_words.\n",
      "  warnings.warn(\n"
     ]
    },
    {
     "name": "stderr",
     "output_type": "stream",
     "text": [
      "/Users/dave/anaconda3/lib/python3.11/site-packages/sklearn/feature_extraction/text.py:528: UserWarning: The parameter 'token_pattern' will not be used since 'tokenizer' is not None'\n",
      "  warnings.warn(\n",
      "/Users/dave/anaconda3/lib/python3.11/site-packages/sklearn/feature_extraction/text.py:409: UserWarning: Your stop_words may be inconsistent with your preprocessing. Tokenizing the stop words generated tokens ['doe', 'ha', 'wa'] not in stop_words.\n",
      "  warnings.warn(\n",
      "/Users/dave/anaconda3/lib/python3.11/site-packages/sklearn/feature_extraction/text.py:528: UserWarning: The parameter 'token_pattern' will not be used since 'tokenizer' is not None'\n",
      "  warnings.warn(\n",
      "/Users/dave/anaconda3/lib/python3.11/site-packages/sklearn/feature_extraction/text.py:409: UserWarning: Your stop_words may be inconsistent with your preprocessing. Tokenizing the stop words generated tokens ['doe', 'ha', 'wa'] not in stop_words.\n",
      "  warnings.warn(\n",
      "/Users/dave/anaconda3/lib/python3.11/site-packages/sklearn/feature_extraction/text.py:528: UserWarning: The parameter 'token_pattern' will not be used since 'tokenizer' is not None'\n",
      "  warnings.warn(\n",
      "/Users/dave/anaconda3/lib/python3.11/site-packages/sklearn/feature_extraction/text.py:409: UserWarning: Your stop_words may be inconsistent with your preprocessing. Tokenizing the stop words generated tokens ['doe', 'ha', 'wa'] not in stop_words.\n",
      "  warnings.warn(\n",
      "/Users/dave/anaconda3/lib/python3.11/site-packages/sklearn/feature_extraction/text.py:528: UserWarning: The parameter 'token_pattern' will not be used since 'tokenizer' is not None'\n",
      "  warnings.warn(\n",
      "/Users/dave/anaconda3/lib/python3.11/site-packages/sklearn/feature_extraction/text.py:409: UserWarning: Your stop_words may be inconsistent with your preprocessing. Tokenizing the stop words generated tokens ['doe', 'ha', 'wa'] not in stop_words.\n",
      "  warnings.warn(\n",
      "/Users/dave/anaconda3/lib/python3.11/site-packages/sklearn/feature_extraction/text.py:528: UserWarning: The parameter 'token_pattern' will not be used since 'tokenizer' is not None'\n",
      "  warnings.warn(\n",
      "/Users/dave/anaconda3/lib/python3.11/site-packages/sklearn/feature_extraction/text.py:409: UserWarning: Your stop_words may be inconsistent with your preprocessing. Tokenizing the stop words generated tokens ['doe', 'ha', 'wa'] not in stop_words.\n",
      "  warnings.warn(\n",
      "/Users/dave/anaconda3/lib/python3.11/site-packages/sklearn/feature_extraction/text.py:528: UserWarning: The parameter 'token_pattern' will not be used since 'tokenizer' is not None'\n",
      "  warnings.warn(\n",
      "/Users/dave/anaconda3/lib/python3.11/site-packages/sklearn/feature_extraction/text.py:409: UserWarning: Your stop_words may be inconsistent with your preprocessing. Tokenizing the stop words generated tokens ['doe', 'ha', 'wa'] not in stop_words.\n",
      "  warnings.warn(\n",
      "/Users/dave/anaconda3/lib/python3.11/site-packages/sklearn/feature_extraction/text.py:528: UserWarning: The parameter 'token_pattern' will not be used since 'tokenizer' is not None'\n",
      "  warnings.warn(\n",
      "/Users/dave/anaconda3/lib/python3.11/site-packages/sklearn/feature_extraction/text.py:409: UserWarning: Your stop_words may be inconsistent with your preprocessing. Tokenizing the stop words generated tokens ['doe', 'ha', 'wa'] not in stop_words.\n",
      "  warnings.warn(\n",
      "/Users/dave/anaconda3/lib/python3.11/site-packages/sklearn/feature_extraction/text.py:528: UserWarning: The parameter 'token_pattern' will not be used since 'tokenizer' is not None'\n",
      "  warnings.warn(\n",
      "/Users/dave/anaconda3/lib/python3.11/site-packages/sklearn/feature_extraction/text.py:409: UserWarning: Your stop_words may be inconsistent with your preprocessing. Tokenizing the stop words generated tokens ['doe', 'ha', 'wa'] not in stop_words.\n",
      "  warnings.warn(\n",
      "/Users/dave/anaconda3/lib/python3.11/site-packages/sklearn/feature_extraction/text.py:528: UserWarning: The parameter 'token_pattern' will not be used since 'tokenizer' is not None'\n",
      "  warnings.warn(\n",
      "/Users/dave/anaconda3/lib/python3.11/site-packages/sklearn/feature_extraction/text.py:409: UserWarning: Your stop_words may be inconsistent with your preprocessing. Tokenizing the stop words generated tokens ['doe', 'ha', 'wa'] not in stop_words.\n",
      "  warnings.warn(\n",
      "/Users/dave/anaconda3/lib/python3.11/site-packages/sklearn/feature_extraction/text.py:528: UserWarning: The parameter 'token_pattern' will not be used since 'tokenizer' is not None'\n",
      "  warnings.warn(\n",
      "/Users/dave/anaconda3/lib/python3.11/site-packages/sklearn/feature_extraction/text.py:409: UserWarning: Your stop_words may be inconsistent with your preprocessing. Tokenizing the stop words generated tokens ['doe', 'ha', 'wa'] not in stop_words.\n",
      "  warnings.warn(\n",
      "/Users/dave/anaconda3/lib/python3.11/site-packages/sklearn/feature_extraction/text.py:528: UserWarning: The parameter 'token_pattern' will not be used since 'tokenizer' is not None'\n",
      "  warnings.warn(\n",
      "/Users/dave/anaconda3/lib/python3.11/site-packages/sklearn/feature_extraction/text.py:409: UserWarning: Your stop_words may be inconsistent with your preprocessing. Tokenizing the stop words generated tokens ['doe', 'ha', 'wa'] not in stop_words.\n",
      "  warnings.warn(\n",
      "/Users/dave/anaconda3/lib/python3.11/site-packages/sklearn/feature_extraction/text.py:528: UserWarning: The parameter 'token_pattern' will not be used since 'tokenizer' is not None'\n",
      "  warnings.warn(\n",
      "/Users/dave/anaconda3/lib/python3.11/site-packages/sklearn/feature_extraction/text.py:409: UserWarning: Your stop_words may be inconsistent with your preprocessing. Tokenizing the stop words generated tokens ['doe', 'ha', 'wa'] not in stop_words.\n",
      "  warnings.warn(\n",
      "/Users/dave/anaconda3/lib/python3.11/site-packages/sklearn/feature_extraction/text.py:528: UserWarning: The parameter 'token_pattern' will not be used since 'tokenizer' is not None'\n",
      "  warnings.warn(\n",
      "/Users/dave/anaconda3/lib/python3.11/site-packages/sklearn/feature_extraction/text.py:409: UserWarning: Your stop_words may be inconsistent with your preprocessing. Tokenizing the stop words generated tokens ['doe', 'ha', 'wa'] not in stop_words.\n",
      "  warnings.warn(\n",
      "/Users/dave/anaconda3/lib/python3.11/site-packages/sklearn/feature_extraction/text.py:528: UserWarning: The parameter 'token_pattern' will not be used since 'tokenizer' is not None'\n",
      "  warnings.warn(\n",
      "/Users/dave/anaconda3/lib/python3.11/site-packages/sklearn/feature_extraction/text.py:409: UserWarning: Your stop_words may be inconsistent with your preprocessing. Tokenizing the stop words generated tokens ['doe', 'ha', 'wa'] not in stop_words.\n",
      "  warnings.warn(\n",
      "/Users/dave/anaconda3/lib/python3.11/site-packages/sklearn/feature_extraction/text.py:528: UserWarning: The parameter 'token_pattern' will not be used since 'tokenizer' is not None'\n",
      "  warnings.warn(\n",
      "/Users/dave/anaconda3/lib/python3.11/site-packages/sklearn/feature_extraction/text.py:409: UserWarning: Your stop_words may be inconsistent with your preprocessing. Tokenizing the stop words generated tokens ['doe', 'ha', 'wa'] not in stop_words.\n",
      "  warnings.warn(\n",
      "/Users/dave/anaconda3/lib/python3.11/site-packages/sklearn/feature_extraction/text.py:528: UserWarning: The parameter 'token_pattern' will not be used since 'tokenizer' is not None'\n",
      "  warnings.warn(\n",
      "/Users/dave/anaconda3/lib/python3.11/site-packages/sklearn/feature_extraction/text.py:409: UserWarning: Your stop_words may be inconsistent with your preprocessing. Tokenizing the stop words generated tokens ['doe', 'ha', 'wa'] not in stop_words.\n",
      "  warnings.warn(\n",
      "/Users/dave/anaconda3/lib/python3.11/site-packages/sklearn/feature_extraction/text.py:528: UserWarning: The parameter 'token_pattern' will not be used since 'tokenizer' is not None'\n",
      "  warnings.warn(\n",
      "/Users/dave/anaconda3/lib/python3.11/site-packages/sklearn/feature_extraction/text.py:409: UserWarning: Your stop_words may be inconsistent with your preprocessing. Tokenizing the stop words generated tokens ['doe', 'ha', 'wa'] not in stop_words.\n",
      "  warnings.warn(\n",
      "/Users/dave/anaconda3/lib/python3.11/site-packages/sklearn/feature_extraction/text.py:528: UserWarning: The parameter 'token_pattern' will not be used since 'tokenizer' is not None'\n",
      "  warnings.warn(\n",
      "/Users/dave/anaconda3/lib/python3.11/site-packages/sklearn/feature_extraction/text.py:409: UserWarning: Your stop_words may be inconsistent with your preprocessing. Tokenizing the stop words generated tokens ['doe', 'ha', 'wa'] not in stop_words.\n",
      "  warnings.warn(\n"
     ]
    },
    {
     "name": "stderr",
     "output_type": "stream",
     "text": [
      "/Users/dave/anaconda3/lib/python3.11/site-packages/sklearn/feature_extraction/text.py:528: UserWarning: The parameter 'token_pattern' will not be used since 'tokenizer' is not None'\n",
      "  warnings.warn(\n",
      "/Users/dave/anaconda3/lib/python3.11/site-packages/sklearn/feature_extraction/text.py:409: UserWarning: Your stop_words may be inconsistent with your preprocessing. Tokenizing the stop words generated tokens ['doe', 'ha', 'wa'] not in stop_words.\n",
      "  warnings.warn(\n",
      "/Users/dave/anaconda3/lib/python3.11/site-packages/sklearn/feature_extraction/text.py:528: UserWarning: The parameter 'token_pattern' will not be used since 'tokenizer' is not None'\n",
      "  warnings.warn(\n",
      "/Users/dave/anaconda3/lib/python3.11/site-packages/sklearn/feature_extraction/text.py:409: UserWarning: Your stop_words may be inconsistent with your preprocessing. Tokenizing the stop words generated tokens ['doe', 'ha', 'wa'] not in stop_words.\n",
      "  warnings.warn(\n",
      "/Users/dave/anaconda3/lib/python3.11/site-packages/sklearn/feature_extraction/text.py:528: UserWarning: The parameter 'token_pattern' will not be used since 'tokenizer' is not None'\n",
      "  warnings.warn(\n",
      "/Users/dave/anaconda3/lib/python3.11/site-packages/sklearn/feature_extraction/text.py:409: UserWarning: Your stop_words may be inconsistent with your preprocessing. Tokenizing the stop words generated tokens ['doe', 'ha', 'wa'] not in stop_words.\n",
      "  warnings.warn(\n",
      "/Users/dave/anaconda3/lib/python3.11/site-packages/sklearn/feature_extraction/text.py:528: UserWarning: The parameter 'token_pattern' will not be used since 'tokenizer' is not None'\n",
      "  warnings.warn(\n",
      "/Users/dave/anaconda3/lib/python3.11/site-packages/sklearn/feature_extraction/text.py:409: UserWarning: Your stop_words may be inconsistent with your preprocessing. Tokenizing the stop words generated tokens ['doe', 'ha', 'wa'] not in stop_words.\n",
      "  warnings.warn(\n",
      "/Users/dave/anaconda3/lib/python3.11/site-packages/sklearn/feature_extraction/text.py:528: UserWarning: The parameter 'token_pattern' will not be used since 'tokenizer' is not None'\n",
      "  warnings.warn(\n",
      "/Users/dave/anaconda3/lib/python3.11/site-packages/sklearn/feature_extraction/text.py:409: UserWarning: Your stop_words may be inconsistent with your preprocessing. Tokenizing the stop words generated tokens ['doe', 'ha', 'wa'] not in stop_words.\n",
      "  warnings.warn(\n",
      "/Users/dave/anaconda3/lib/python3.11/site-packages/sklearn/feature_extraction/text.py:528: UserWarning: The parameter 'token_pattern' will not be used since 'tokenizer' is not None'\n",
      "  warnings.warn(\n",
      "/Users/dave/anaconda3/lib/python3.11/site-packages/sklearn/feature_extraction/text.py:409: UserWarning: Your stop_words may be inconsistent with your preprocessing. Tokenizing the stop words generated tokens ['doe', 'ha', 'wa'] not in stop_words.\n",
      "  warnings.warn(\n",
      "/Users/dave/anaconda3/lib/python3.11/site-packages/sklearn/feature_extraction/text.py:528: UserWarning: The parameter 'token_pattern' will not be used since 'tokenizer' is not None'\n",
      "  warnings.warn(\n",
      "/Users/dave/anaconda3/lib/python3.11/site-packages/sklearn/feature_extraction/text.py:409: UserWarning: Your stop_words may be inconsistent with your preprocessing. Tokenizing the stop words generated tokens ['doe', 'ha', 'wa'] not in stop_words.\n",
      "  warnings.warn(\n",
      "/Users/dave/anaconda3/lib/python3.11/site-packages/sklearn/feature_extraction/text.py:528: UserWarning: The parameter 'token_pattern' will not be used since 'tokenizer' is not None'\n",
      "  warnings.warn(\n",
      "/Users/dave/anaconda3/lib/python3.11/site-packages/sklearn/feature_extraction/text.py:409: UserWarning: Your stop_words may be inconsistent with your preprocessing. Tokenizing the stop words generated tokens ['doe', 'ha', 'wa'] not in stop_words.\n",
      "  warnings.warn(\n",
      "/Users/dave/anaconda3/lib/python3.11/site-packages/sklearn/feature_extraction/text.py:528: UserWarning: The parameter 'token_pattern' will not be used since 'tokenizer' is not None'\n",
      "  warnings.warn(\n",
      "/Users/dave/anaconda3/lib/python3.11/site-packages/sklearn/feature_extraction/text.py:409: UserWarning: Your stop_words may be inconsistent with your preprocessing. Tokenizing the stop words generated tokens ['doe', 'ha', 'wa'] not in stop_words.\n",
      "  warnings.warn(\n",
      "/Users/dave/anaconda3/lib/python3.11/site-packages/sklearn/feature_extraction/text.py:528: UserWarning: The parameter 'token_pattern' will not be used since 'tokenizer' is not None'\n",
      "  warnings.warn(\n",
      "/Users/dave/anaconda3/lib/python3.11/site-packages/sklearn/feature_extraction/text.py:409: UserWarning: Your stop_words may be inconsistent with your preprocessing. Tokenizing the stop words generated tokens ['doe', 'ha', 'wa'] not in stop_words.\n",
      "  warnings.warn(\n"
     ]
    },
    {
     "name": "stdout",
     "output_type": "stream",
     "text": [
      "Best parameters found: {'model__max_depth': None, 'model__n_estimators': 150}\n",
      "Best score: 0.6525906403904622\n"
     ]
    }
   ],
   "source": [
    "# Combine preprocessing and random forest modeling\n",
    "pipeline_rf = Pipeline([\n",
    "    ('preprocessor', preprocessor),\n",
    "    ('model', RandomForestClassifier()),  # Add Random Forest model\n",
    "])\n",
    "\n",
    "# Define the parameter grid\n",
    "param_grid_rf = {\n",
    "    'model__n_estimators': [50, 100, 150],\n",
    "    'model__max_depth': [None, 10, 20],\n",
    "}\n",
    "\n",
    "# Perform grid search\n",
    "grid_search = GridSearchCV(pipeline_rf, param_grid_rf, cv=5)\n",
    "grid_search.fit(X_train, y_train_encoded.ravel())\n",
    "\n",
    "# Evaluate the best model\n",
    "best_model_rf = grid_search.best_estimator_\n",
    "accuracy = best_model.score(X_train, y_train_encoded.ravel())\n",
    "\n",
    "# Print the best parameters and the corresponding score\n",
    "print(\"Best parameters found:\", grid_search.best_params_)\n",
    "print(\"Best score:\", grid_search.best_score_)"
   ]
  },
  {
   "cell_type": "code",
   "execution_count": 107,
   "id": "af4b2ccb",
   "metadata": {},
   "outputs": [
    {
     "data": {
      "text/plain": [
       "0.6668383110195675"
      ]
     },
     "execution_count": 107,
     "metadata": {},
     "output_type": "execute_result"
    }
   ],
   "source": [
    "# Evaluate on test data\n",
    "best_model_rf.score(X_test, y_test_encoded.ravel())"
   ]
  },
  {
   "cell_type": "code",
   "execution_count": 109,
   "id": "57ad3109",
   "metadata": {},
   "outputs": [
    {
     "name": "stdout",
     "output_type": "stream",
     "text": [
      "              precision    recall  f1-score   support\n",
      "\n",
      "         0.0       0.63      0.16      0.26       147\n",
      "         1.0       0.67      0.85      0.75      1085\n",
      "         2.0       0.67      0.50      0.57       710\n",
      "\n",
      "    accuracy                           0.67      1942\n",
      "   macro avg       0.66      0.50      0.53      1942\n",
      "weighted avg       0.66      0.67      0.64      1942\n",
      "\n"
     ]
    }
   ],
   "source": [
    "# Check metrics\n",
    "print(classification_report(y_test_encoded, best_model_rf.predict(X_test)))"
   ]
  },
  {
   "cell_type": "markdown",
   "id": "36306c28",
   "metadata": {},
   "source": [
    "### XGBoost"
   ]
  },
  {
   "cell_type": "code",
   "execution_count": null,
   "id": "176e59df",
   "metadata": {},
   "outputs": [],
   "source": [
    "# Combine preprocessing and xgboost modeling\n",
    "pipeline_xgb = Pipeline([\n",
    "    ('preprocessor', preprocessor),\n",
    "    ('model', xgb.XGBClassifier()),  # Add XGBoost model\n",
    "                    ])\n",
    "# Define the parameter grid\n",
    "param_grid_xgb = {\n",
    "    'model__n_estimators': [100, 200, 300],\n",
    "    'model__max_depth': [3, 5, 7],\n",
    "    'model__learning_rate': [0.01, 0.1, 0.3],\n",
    "    'model__subsample': [0.8, 0.9, 1.0],\n",
    "    'model__colsample_bytree': [0.8, 0.9, 1.0],\n",
    "    'model__gamma': [0, 0.1, 0.2],\n",
    "    'model__reg_alpha': [0, 0.1, 0.5],\n",
    "    'model__reg_lambda': [0, 0.1, 0.5],\n",
    "    'model__min_child_weight': [1, 3, 5]\n",
    "}\n",
    "\n",
    "# Perform grid search\n",
    "grid_search = GridSearchCV(pipeline_xgb, param_grid_xgb, cv=5)\n",
    "grid_search.fit(X_train, y_train_encoded.ravel())\n",
    "\n",
    "# Evaluate the best model\n",
    "best_model_xgb = grid_search.best_estimator_\n",
    "accuracy = best_model_xgb.score(X_train, y_train_encoded.ravel())\n",
    "\n",
    "# Print the best parameters and the corresponding score\n",
    "print(\"Best parameters found:\", grid_search.best_params_)\n",
    "print(\"Best score:\", grid_search.best_score_)"
   ]
  },
  {
   "cell_type": "code",
   "execution_count": null,
   "id": "3674fab2",
   "metadata": {},
   "outputs": [],
   "source": [
    "# Evaluate on test data\n",
    "best_model_xgb.score(X_test, y_test_encoded.ravel())"
   ]
  },
  {
   "cell_type": "markdown",
   "id": "7cf1b3a8",
   "metadata": {},
   "source": [
    "### Multinomial Bayes"
   ]
  },
  {
   "cell_type": "code",
   "execution_count": null,
   "id": "10b14d0b",
   "metadata": {},
   "outputs": [],
   "source": [
    "# Combine preprocessing and NB modeling\n",
    "pipeline_nb = Pipeline([\n",
    "    ('preprocessor', preprocessor),\n",
    "    ('model', MultinomialNB()),  # Add Multinomial Bayes model\n",
    "                    ])\n",
    "\n",
    "# Define the parameter grid\n",
    "param_grid_nb = {\n",
    "    'model__alpha': [0.1, 0.5, 1.0, 2.0],  # Smoothing parameter (Laplace/Lidstone smoothing)\n",
    "    'model__fit_prior': [True, False],      # Whether to learn class prior probabilities\n",
    "    # You can add more parameters if needed\n",
    "}\n",
    "\n",
    "# Perform grid search\n",
    "grid_search = GridSearchCV(pipeline_nb, param_grid_nb, cv=5)\n",
    "grid_search.fit(X_train, y_train_encoded.ravel())\n",
    "\n",
    "# Evaluate the best model\n",
    "best_model_nb = grid_search.best_estimator_\n",
    "accuracy = best_model_nb.score(X_train, y_train_encoded.ravel())\n",
    "\n",
    "# Print the best parameters and the corresponding score\n",
    "print(\"Best parameters found:\", grid_search.best_params_)\n",
    "print(\"Best score:\", grid_search.best_score_)"
   ]
  },
  {
   "cell_type": "code",
   "execution_count": null,
   "id": "78804014",
   "metadata": {},
   "outputs": [],
   "source": [
    "# Evaluate on test data\n",
    "best_model_nb.score(X_test, y_test_encoded.ravel())"
   ]
  },
  {
   "cell_type": "markdown",
   "id": "027f4304",
   "metadata": {},
   "source": [
    "### Support Vector Classifier"
   ]
  },
  {
   "cell_type": "code",
   "execution_count": null,
   "id": "9d4569fc",
   "metadata": {},
   "outputs": [],
   "source": [
    "# Combine preprocessing and NB modeling\n",
    "pipeline_svc = Pipeline([\n",
    "    ('preprocessor', preprocessor),\n",
    "    ('scaler', StandardScaler(with_mean=False)),  # Scale data with mean= False since it's a sparse matrix\n",
    "    ('model', SVC()),  # Add Support Vector Classifier model\n",
    "                    ])\n",
    "\n",
    "# Define the parameter grid\n",
    "param_grid_svc = {\n",
    "    'model__C': [0.1, 1, 10],              # Regularization parameter\n",
    "    'model__kernel': ['linear', 'rbf'],    # Kernel type\n",
    "    'model__gamma': ['scale', 'auto']      # Kernel coefficient for 'rbf' kernel\n",
    "}\n",
    "\n",
    "# Perform grid search\n",
    "grid_search = GridSearchCV(pipeline_svc, param_grid_svc, cv=5)\n",
    "grid_search.fit(X_train, y_train_encoded.ravel())\n",
    "\n",
    "# Evaluate the best model\n",
    "best_model_svc = grid_search.best_estimator_\n",
    "accuracy = best_model_svc.score(X_train, y_train_encoded.ravel())\n",
    "\n",
    "# Print the best parameters and the corresponding score\n",
    "print(\"Best parameters found:\", grid_search.best_params_)\n",
    "print(\"Best score:\", grid_search.best_score_)"
   ]
  },
  {
   "cell_type": "code",
   "execution_count": null,
   "id": "82826b41",
   "metadata": {},
   "outputs": [],
   "source": [
    "# Evaluate on test data\n",
    "best_model_svc.score(X_test, y_test_encoded.ravel())"
   ]
  },
  {
   "cell_type": "markdown",
   "id": "45f0d1b8",
   "metadata": {},
   "source": [
    "# Findings"
   ]
  },
  {
   "cell_type": "markdown",
   "id": "2ce98a19",
   "metadata": {},
   "source": [
    "- Based on the analysis of customer sentiment on Twitter, it was found that Google and Apple brands had the highest number of customers expressing a neutral emotion, followed by a positive emotion. Negative sentiments were least common for both brands.\n",
    "- It was observed that the SXSW event had a significant influence on customer sentiment and received the highest number of mentions. The release of new products by Apple and Google coincided with an increase in positive sentiment expressed on Twitter.\n",
    "- The sentiment analysis of tweets revealed a notable amount of negativity towards the design of the iPad device. The Apple Store stood out as a feature that garnered notable positivity among users. Apple's iPhone and iPad devices received the highest positive sentiment among consumers, reinforcing their esteemed reputation within the Apple brand lineup. Among Google products and services, Android devices and Google Maps received the most mentions.\n",
    "- In terms of model performance, the Random Forest and Decision Tree classifiers achieved the highest scores: 97% accuracy, 99% precision, and 100% recall after undergoing resampling via SMOTE. \n",
    "- Pre-resampling, Naive Bayes model showed poor performance, with a recall of only 2%. However, both Random Forest and Decision Trees demonstrated robust performance even before resampling. The resampling method led to improvements across all metrics, further enhancing the effectiveness of the classifiers."
   ]
  },
  {
   "cell_type": "markdown",
   "id": "39b96cc3",
   "metadata": {},
   "source": [
    "# Recommendations"
   ]
  },
  {
   "cell_type": "markdown",
   "id": "b41b8eae",
   "metadata": {},
   "source": [
    "1. Implement real-time sentiment monitoring for Twitter to detect shifts in public sentiment.\n",
    "2.  Tailor marketing campaigns according to sentiment trends, capitalizing on positive sentiment and addressing negative feedback.\n",
    "3. Utilize significant events such as SXSW festivals and product launches as opportunities to proactively interact with customers and convert negative sentiments into positive experiences.\n",
    "4. Adjust product assortment accordingly to align with customer preferences during product launches and festivals ensuring that there are adequate stock levels to capitalize on the increased demand.\n",
    "5. Interact with social media users, addressing both positive and negative feedback, to improve customer satisfaction and turn negative sentiment into positive experiences.\n",
    "6. Use insights from sentiment analysis to better inform product development strategies. Pay attention to features that have been positively received and find ways to address any negative sentiment.\n"
   ]
  },
  {
   "cell_type": "markdown",
   "id": "10f5b118",
   "metadata": {},
   "source": [
    "# Conclusion "
   ]
  },
  {
   "cell_type": "markdown",
   "id": "e7c4911b",
   "metadata": {},
   "source": [
    "The findings of our analysis reveal that the Random Forest and Decision Tree classifiers are the top performers, achieving outstanding metrics of 97% accuracy, 99% precision, and 100% recall after the SMOTE resampling technique was applied. It is worth noting that, before resampling, models like Naive Bayes exhibited poor performance, with a recall rate of only 2%. However, both Random Forest and Decision Trees demonstrated strong performance even before resampling. The use of resampling techniques significantly improved all metrics, thereby enhancing the effectiveness of the classifiers.\n",
    "\n",
    "By leveraging insights from sentiment analysis on Twitter, Best Buy can customize its product selection and marketing strategies, taking advantage of events such as SXSW and product launches to effectively meet customer demands and foster positive relationships, ultimately leading to increased sales and improved customer satisfaction."
   ]
  },
  {
   "cell_type": "markdown",
   "id": "4608ece9",
   "metadata": {},
   "source": [
    "## Next steps"
   ]
  },
  {
   "cell_type": "markdown",
   "id": "89f9b4a7",
   "metadata": {},
   "source": [
    "We can enhance the accuracy of the model by implementing a systematic process for ongoing monitoring and maintenance once it has been deployed. It is essential to regularly assess its performance, incorporate new data as it becomes accessible, and fine-tune it in response to evolving business requirements and customer behaviors."
   ]
  }
 ],
 "metadata": {
  "kernelspec": {
   "display_name": "Python 3 (ipykernel)",
   "language": "python",
   "name": "python3"
  },
  "language_info": {
   "codemirror_mode": {
    "name": "ipython",
    "version": 3
   },
   "file_extension": ".py",
   "mimetype": "text/x-python",
   "name": "python",
   "nbconvert_exporter": "python",
   "pygments_lexer": "ipython3",
   "version": "3.11.4"
  }
 },
 "nbformat": 4,
 "nbformat_minor": 5
}
