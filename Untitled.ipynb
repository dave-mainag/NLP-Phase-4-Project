{
 "cells": [
  {
   "cell_type": "markdown",
   "id": "ebad2faa",
   "metadata": {},
   "source": [
    "## Brand Sentiment Analysis with NLP"
   ]
  },
  {
   "cell_type": "code",
   "execution_count": null,
   "id": "0cb07d1f",
   "metadata": {},
   "outputs": [],
   "source": [
    "## **Overview**"
   ]
  },
  {
   "cell_type": "markdown",
   "id": "c9e80e7a",
   "metadata": {},
   "source": [
    "**Best Buy** is a leading research firm which provides analytical solutions to major companies regarding their products, market trends and sales. **Go-Apple** has hired **Best Buy** to undertake a large scale market sentiment analysis on their products to understand how customers perceive these brands and their products, identify areas for improvement, and capitalize on positive sentiment for targeted marketing campaigns. In order to undertake this analysis, **Best Buy** will use Machine Learning to predict public sentiments on X text data to predict if the given text has positive or negative sentiment towards a particular brand. Ultimately, this analysis will provide insights to gauge public sentiments towards Apple and Google products on social media and aid in making strategic decisions that enhance customer satisfaction and bolster market competitiveness.\n",
    "   "
   ]
  },
  {
   "cell_type": "code",
   "execution_count": null,
   "id": "ed5dfa33",
   "metadata": {},
   "outputs": [],
   "source": [
    "## **Business Problem**"
   ]
  },
  {
   "cell_type": "markdown",
   "id": "1e8e5afa",
   "metadata": {},
   "source": [
    "The lack of comprehensive understanding of public sentiment towards Google and Apple brands presents a significant challenge for our tech firm specializing in these companies' products. Given the challenges related to dataset complexity, noise, and computational requirements, implementing a machine learning model for sentiment analysis of tweets using NLP requires the availability of a sufficiently large and high-quality dataset, appropriate computational resources, and careful consideration of model selection and evaluation to enable us predict real-time sentiments from a continuous stream of opinions, feedback, and discussions about various products, services and brands."
   ]
  },
  {
   "cell_type": "code",
   "execution_count": null,
   "id": "22a90bcc",
   "metadata": {},
   "outputs": [],
   "source": [
    "## **Business Value**"
   ]
  },
  {
   "cell_type": "markdown",
   "id": "d1c65724",
   "metadata": {},
   "source": [
    "Sentiment analysis on Go-Apple and its products will help the companies understand public perception, identify areas for improvement, and tailor their marketing strategies to better meet customer needs."
   ]
  },
  {
   "cell_type": "code",
   "execution_count": null,
   "id": "6cf04856",
   "metadata": {},
   "outputs": [],
   "source": [
    "## **Objective**"
   ]
  },
  {
   "cell_type": "markdown",
   "id": "31ef102a",
   "metadata": {},
   "source": [
    "The objective of this project is to perform sentiment analysis on X text data related to Go-Apple company. By analyzing tweets mentioning their brand products, the goal is to classify the sentiment expressed in these tweets as positive, negative, or neutral."
   ]
  },
  {
   "cell_type": "code",
   "execution_count": null,
   "id": "7f8fe7de",
   "metadata": {},
   "outputs": [],
   "source": [
    "## **Research Questions**"
   ]
  },
  {
   "cell_type": "markdown",
   "id": "7313ca20",
   "metadata": {},
   "source": [
    "1. What are the predominant sentiments expressed in tweets related to a particular brand?\n",
    "2. Is there a correlation between sentiment expressed in tweets and emotion?\n",
    "3. What linguistic expressions are indicative of positive or negative sentiment in tweets?\n",
    "4. How accurate are existing sentiment analysis models in classifying tweets into positive, negative, or neutral categories?"
   ]
  },
  {
   "cell_type": "code",
   "execution_count": 1,
   "id": "8fb61174",
   "metadata": {},
   "outputs": [],
   "source": [
    "#Import libraries\n",
    "import numpy as np\n",
    "import pandas as pd\n",
    "import matplotlib.pyplot as plt\n",
    "import seaborn as sns\n",
    "%matplotlib inline\n",
    "sns.set_style('darkgrid')\n",
    "import os\n",
    "import warnings\n",
    "warnings.filterwarnings('ignore')"
   ]
  },
  {
   "cell_type": "code",
   "execution_count": 65,
   "id": "a0d47f14",
   "metadata": {},
   "outputs": [
    {
     "name": "stderr",
     "output_type": "stream",
     "text": [
      "[nltk_data] Downloading package wordnet to\n",
      "[nltk_data]     C:\\Users\\HP\\AppData\\Roaming\\nltk_data...\n",
      "[nltk_data]   Package wordnet is already up-to-date!\n",
      "[nltk_data] Downloading package stopwords to\n",
      "[nltk_data]     C:\\Users\\HP\\AppData\\Roaming\\nltk_data...\n",
      "[nltk_data]   Package stopwords is already up-to-date!\n"
     ]
    }
   ],
   "source": [
    "import re\n",
    "import nltk\n",
    "import string\n",
    "nltk.download('wordnet')\n",
    "from nltk.corpus import wordnet\n",
    "from nltk.corpus import stopwords\n",
    "nltk.download('stopwords')\n",
    "from nltk.collocations import *\n",
    "from nltk.tokenize import regexp_tokenize, word_tokenize, RegexpTokenizer\n",
    "from nltk.probability import FreqDist\n",
    "from nltk.stem.snowball import SnowballStemmer\n",
    "from nltk.stem.wordnet import WordNetLemmatizer\n",
    "from nltk.stem.porter import PorterStemmer\n",
    "from nltk import pos_tag\n",
    "from wordcloud import WordCloud\n",
    "from sklearn.feature_extraction.text import CountVectorizer, TfidfVectorizer,\\\n",
    "HashingVectorizer\n",
    "from sklearn.model_selection import train_test_split\n",
    "from sklearn.feature_extraction.text import TfidfVectorizer, TfidfTransformer, CountVectorizer\n",
    "from sklearn.ensemble import RandomForestClassifier\n",
    "from sklearn.naive_bayes import MultinomialNB\n",
    "from sklearn.metrics import confusion_matrix, classification_report,accuracy_score\n",
    "from tensorflow.keras.preprocessing.text import Tokenizer\n",
    "from tensorflow.keras.preprocessing.sequence import pad_sequences\n",
    "import tensorflow as tf\n",
    "from tensorflow import keras\n",
    "from tensorflow.keras import layers, models, Sequential\n",
    "from tensorflow.keras.preprocessing.text import Tokenizer\n",
    "from tensorflow.keras.preprocessing.sequence import pad_sequences\n",
    "from tensorflow.keras.losses import CategoricalCrossentropy\n",
    "from tensorflow.keras.optimizers import Adam\n",
    "from tensorflow.keras.callbacks import EarlyStopping, ModelCheckpoint\n",
    "from tqdm import tqdm\n"
   ]
  },
  {
   "cell_type": "markdown",
   "id": "1bdb3f26",
   "metadata": {},
   "source": [
    "## Load Data"
   ]
  },
  {
   "cell_type": "code",
   "execution_count": 3,
   "id": "b5c34d1f",
   "metadata": {},
   "outputs": [
    {
     "name": "stdout",
     "output_type": "stream",
     "text": [
      "<class 'pandas.core.frame.DataFrame'>\n",
      "RangeIndex: 9093 entries, 0 to 9092\n",
      "Data columns (total 3 columns):\n",
      " #   Column                                              Non-Null Count  Dtype \n",
      "---  ------                                              --------------  ----- \n",
      " 0   tweet_text                                          9092 non-null   object\n",
      " 1   emotion_in_tweet_is_directed_at                     3291 non-null   object\n",
      " 2   is_there_an_emotion_directed_at_a_brand_or_product  9093 non-null   object\n",
      "dtypes: object(3)\n",
      "memory usage: 213.2+ KB\n",
      "None\n"
     ]
    },
    {
     "data": {
      "text/html": [
       "<div>\n",
       "<style scoped>\n",
       "    .dataframe tbody tr th:only-of-type {\n",
       "        vertical-align: middle;\n",
       "    }\n",
       "\n",
       "    .dataframe tbody tr th {\n",
       "        vertical-align: top;\n",
       "    }\n",
       "\n",
       "    .dataframe thead th {\n",
       "        text-align: right;\n",
       "    }\n",
       "</style>\n",
       "<table border=\"1\" class=\"dataframe\">\n",
       "  <thead>\n",
       "    <tr style=\"text-align: right;\">\n",
       "      <th></th>\n",
       "      <th>tweet_text</th>\n",
       "      <th>emotion_in_tweet_is_directed_at</th>\n",
       "      <th>is_there_an_emotion_directed_at_a_brand_or_product</th>\n",
       "    </tr>\n",
       "  </thead>\n",
       "  <tbody>\n",
       "    <tr>\n",
       "      <th>0</th>\n",
       "      <td>.@wesley83 I have a 3G iPhone. After 3 hrs twe...</td>\n",
       "      <td>iPhone</td>\n",
       "      <td>Negative emotion</td>\n",
       "    </tr>\n",
       "    <tr>\n",
       "      <th>1</th>\n",
       "      <td>@jessedee Know about @fludapp ? Awesome iPad/i...</td>\n",
       "      <td>iPad or iPhone App</td>\n",
       "      <td>Positive emotion</td>\n",
       "    </tr>\n",
       "    <tr>\n",
       "      <th>2</th>\n",
       "      <td>@swonderlin Can not wait for #iPad 2 also. The...</td>\n",
       "      <td>iPad</td>\n",
       "      <td>Positive emotion</td>\n",
       "    </tr>\n",
       "    <tr>\n",
       "      <th>3</th>\n",
       "      <td>@sxsw I hope this year's festival isn't as cra...</td>\n",
       "      <td>iPad or iPhone App</td>\n",
       "      <td>Negative emotion</td>\n",
       "    </tr>\n",
       "    <tr>\n",
       "      <th>4</th>\n",
       "      <td>@sxtxstate great stuff on Fri #SXSW: Marissa M...</td>\n",
       "      <td>Google</td>\n",
       "      <td>Positive emotion</td>\n",
       "    </tr>\n",
       "  </tbody>\n",
       "</table>\n",
       "</div>"
      ],
      "text/plain": [
       "                                          tweet_text  \\\n",
       "0  .@wesley83 I have a 3G iPhone. After 3 hrs twe...   \n",
       "1  @jessedee Know about @fludapp ? Awesome iPad/i...   \n",
       "2  @swonderlin Can not wait for #iPad 2 also. The...   \n",
       "3  @sxsw I hope this year's festival isn't as cra...   \n",
       "4  @sxtxstate great stuff on Fri #SXSW: Marissa M...   \n",
       "\n",
       "  emotion_in_tweet_is_directed_at  \\\n",
       "0                          iPhone   \n",
       "1              iPad or iPhone App   \n",
       "2                            iPad   \n",
       "3              iPad or iPhone App   \n",
       "4                          Google   \n",
       "\n",
       "  is_there_an_emotion_directed_at_a_brand_or_product  \n",
       "0                                   Negative emotion  \n",
       "1                                   Positive emotion  \n",
       "2                                   Positive emotion  \n",
       "3                                   Negative emotion  \n",
       "4                                   Positive emotion  "
      ]
     },
     "execution_count": 3,
     "metadata": {},
     "output_type": "execute_result"
    }
   ],
   "source": [
    "# Read CSV file into a DataFrame with explicit encoding\n",
    "\n",
    "df = pd.read_csv(\"judge-1377884607_tweet_product_company.csv\", encoding='latin-1')\n",
    "\n",
    "# Inspect the data\n",
    "\n",
    "print(df.info())\n",
    "df.head()\n"
   ]
  },
  {
   "cell_type": "code",
   "execution_count": 4,
   "id": "92956187",
   "metadata": {},
   "outputs": [
    {
     "data": {
      "text/plain": [
       "is_there_an_emotion_directed_at_a_brand_or_product\n",
       "No emotion toward brand or product    0.592654\n",
       "Positive emotion                      0.327505\n",
       "Negative emotion                      0.062686\n",
       "I can't tell                          0.017156\n",
       "Name: proportion, dtype: float64"
      ]
     },
     "execution_count": 4,
     "metadata": {},
     "output_type": "execute_result"
    }
   ],
   "source": [
    "# Categorize emotions towards brand and preview\n",
    "\n",
    "df['is_there_an_emotion_directed_at_a_brand_or_product'].value_counts(normalize=True)"
   ]
  },
  {
   "cell_type": "code",
   "execution_count": 5,
   "id": "158f5372",
   "metadata": {},
   "outputs": [
    {
     "data": {
      "text/plain": [
       "tweet_text                                               1\n",
       "emotion_in_tweet_is_directed_at                       5802\n",
       "is_there_an_emotion_directed_at_a_brand_or_product       0\n",
       "dtype: int64"
      ]
     },
     "execution_count": 5,
     "metadata": {},
     "output_type": "execute_result"
    }
   ],
   "source": [
    "df.isna().sum()"
   ]
  },
  {
   "cell_type": "code",
   "execution_count": 6,
   "id": "aba16a83",
   "metadata": {},
   "outputs": [
    {
     "data": {
      "text/plain": [
       "<Axes: xlabel='is_there_an_emotion_directed_at_a_brand_or_product', ylabel='count'>"
      ]
     },
     "execution_count": 6,
     "metadata": {},
     "output_type": "execute_result"
    },
    {
     "data": {
      "image/png": "[encoded data removed]",
      "text/plain": [
       "<Figure size 1000x500 with 1 Axes>"
      ]
     },
     "metadata": {},
     "output_type": "display_data"
    }
   ],
   "source": [
    "fig = plt.figure(figsize=(10,5))\n",
    "sns.countplot(x= 'is_there_an_emotion_directed_at_a_brand_or_product', data=df)"
   ]
  },
  {
   "cell_type": "markdown",
   "id": "d3640a32",
   "metadata": {},
   "source": [
    "There are four sentiment classes where Neutral emotion (No emotion) has the highest count. We also have \"I can't tell\" type of emotion which is a very tiny portion of the data. Sentiment wise, it's close to the Neutral class which is already the majority class and causing an imbalance in the dataset. We will drop the data in this class label."
   ]
  },
  {
   "cell_type": "code",
   "execution_count": 7,
   "id": "4ace07f3",
   "metadata": {},
   "outputs": [
    {
     "data": {
      "image/png": "[encoded data removed]",
      "text/plain": [
       "<Figure size 1200x600 with 1 Axes>"
      ]
     },
     "metadata": {},
     "output_type": "display_data"
    }
   ],
   "source": [
    "fig = plt.figure(figsize=(12,6))\n",
    "sns.countplot(x= 'emotion_in_tweet_is_directed_at', data=df)\n",
    "plt.xticks(rotation=45);\n"
   ]
  },
  {
   "cell_type": "markdown",
   "id": "2b117d8a",
   "metadata": {},
   "source": [
    "The tweets are dispersed into several brands under Apple and Google. We will consolidate these information into these two main brands"
   ]
  },
  {
   "cell_type": "markdown",
   "id": "ead91b15",
   "metadata": {},
   "source": [
    "## DATA PREPARATION"
   ]
  },
  {
   "cell_type": "markdown",
   "id": "2c4043dd",
   "metadata": {},
   "source": [
    "By making a copy of the dataframe, we can conduct an indepth analysis of the data's properties, distributions, and relationships, gaining valuable insights that will inform subsequent analytical steps. This approach maintains the integrity of the original dataset while enabling us to perform in-depth EDA with confidence and accuracy."
   ]
  },
  {
   "cell_type": "code",
   "execution_count": 8,
   "id": "3bd59d50",
   "metadata": {},
   "outputs": [
    {
     "data": {
      "text/html": [
       "<div>\n",
       "<style scoped>\n",
       "    .dataframe tbody tr th:only-of-type {\n",
       "        vertical-align: middle;\n",
       "    }\n",
       "\n",
       "    .dataframe tbody tr th {\n",
       "        vertical-align: top;\n",
       "    }\n",
       "\n",
       "    .dataframe thead th {\n",
       "        text-align: right;\n",
       "    }\n",
       "</style>\n",
       "<table border=\"1\" class=\"dataframe\">\n",
       "  <thead>\n",
       "    <tr style=\"text-align: right;\">\n",
       "      <th></th>\n",
       "      <th>tweet_text</th>\n",
       "      <th>emotion_in_tweet_is_directed_at</th>\n",
       "      <th>is_there_an_emotion_directed_at_a_brand_or_product</th>\n",
       "    </tr>\n",
       "  </thead>\n",
       "  <tbody>\n",
       "    <tr>\n",
       "      <th>0</th>\n",
       "      <td>.@wesley83 I have a 3G iPhone. After 3 hrs twe...</td>\n",
       "      <td>iPhone</td>\n",
       "      <td>Negative emotion</td>\n",
       "    </tr>\n",
       "    <tr>\n",
       "      <th>1</th>\n",
       "      <td>@jessedee Know about @fludapp ? Awesome iPad/i...</td>\n",
       "      <td>iPad or iPhone App</td>\n",
       "      <td>Positive emotion</td>\n",
       "    </tr>\n",
       "    <tr>\n",
       "      <th>2</th>\n",
       "      <td>@swonderlin Can not wait for #iPad 2 also. The...</td>\n",
       "      <td>iPad</td>\n",
       "      <td>Positive emotion</td>\n",
       "    </tr>\n",
       "    <tr>\n",
       "      <th>3</th>\n",
       "      <td>@sxsw I hope this year's festival isn't as cra...</td>\n",
       "      <td>iPad or iPhone App</td>\n",
       "      <td>Negative emotion</td>\n",
       "    </tr>\n",
       "    <tr>\n",
       "      <th>4</th>\n",
       "      <td>@sxtxstate great stuff on Fri #SXSW: Marissa M...</td>\n",
       "      <td>Google</td>\n",
       "      <td>Positive emotion</td>\n",
       "    </tr>\n",
       "  </tbody>\n",
       "</table>\n",
       "</div>"
      ],
      "text/plain": [
       "                                          tweet_text  \\\n",
       "0  .@wesley83 I have a 3G iPhone. After 3 hrs twe...   \n",
       "1  @jessedee Know about @fludapp ? Awesome iPad/i...   \n",
       "2  @swonderlin Can not wait for #iPad 2 also. The...   \n",
       "3  @sxsw I hope this year's festival isn't as cra...   \n",
       "4  @sxtxstate great stuff on Fri #SXSW: Marissa M...   \n",
       "\n",
       "  emotion_in_tweet_is_directed_at  \\\n",
       "0                          iPhone   \n",
       "1              iPad or iPhone App   \n",
       "2                            iPad   \n",
       "3              iPad or iPhone App   \n",
       "4                          Google   \n",
       "\n",
       "  is_there_an_emotion_directed_at_a_brand_or_product  \n",
       "0                                   Negative emotion  \n",
       "1                                   Positive emotion  \n",
       "2                                   Positive emotion  \n",
       "3                                   Negative emotion  \n",
       "4                                   Positive emotion  "
      ]
     },
     "execution_count": 8,
     "metadata": {},
     "output_type": "execute_result"
    }
   ],
   "source": [
    "# Create a copy of original DataFrame\n",
    "df2 = df.copy()\n",
    "df2.head()\n"
   ]
  },
  {
   "cell_type": "code",
   "execution_count": 9,
   "id": "56c293e5",
   "metadata": {},
   "outputs": [
    {
     "data": {
      "text/html": [
       "<div>\n",
       "<style scoped>\n",
       "    .dataframe tbody tr th:only-of-type {\n",
       "        vertical-align: middle;\n",
       "    }\n",
       "\n",
       "    .dataframe tbody tr th {\n",
       "        vertical-align: top;\n",
       "    }\n",
       "\n",
       "    .dataframe thead th {\n",
       "        text-align: right;\n",
       "    }\n",
       "</style>\n",
       "<table border=\"1\" class=\"dataframe\">\n",
       "  <thead>\n",
       "    <tr style=\"text-align: right;\">\n",
       "      <th></th>\n",
       "      <th>tweet_text</th>\n",
       "      <th>brand_item</th>\n",
       "      <th>emotion</th>\n",
       "      <th>brand_name</th>\n",
       "    </tr>\n",
       "  </thead>\n",
       "  <tbody>\n",
       "    <tr>\n",
       "      <th>0</th>\n",
       "      <td>.@wesley83 I have a 3G iPhone. After 3 hrs twe...</td>\n",
       "      <td>iPhone</td>\n",
       "      <td>negative</td>\n",
       "      <td>apple</td>\n",
       "    </tr>\n",
       "    <tr>\n",
       "      <th>1</th>\n",
       "      <td>@jessedee Know about @fludapp ? Awesome iPad/i...</td>\n",
       "      <td>iPad or iPhone App</td>\n",
       "      <td>positive</td>\n",
       "      <td>apple</td>\n",
       "    </tr>\n",
       "    <tr>\n",
       "      <th>2</th>\n",
       "      <td>@swonderlin Can not wait for #iPad 2 also. The...</td>\n",
       "      <td>iPad</td>\n",
       "      <td>positive</td>\n",
       "      <td>apple</td>\n",
       "    </tr>\n",
       "    <tr>\n",
       "      <th>3</th>\n",
       "      <td>@sxsw I hope this year's festival isn't as cra...</td>\n",
       "      <td>iPad or iPhone App</td>\n",
       "      <td>negative</td>\n",
       "      <td>apple</td>\n",
       "    </tr>\n",
       "    <tr>\n",
       "      <th>4</th>\n",
       "      <td>@sxtxstate great stuff on Fri #SXSW: Marissa M...</td>\n",
       "      <td>Google</td>\n",
       "      <td>positive</td>\n",
       "      <td>google</td>\n",
       "    </tr>\n",
       "  </tbody>\n",
       "</table>\n",
       "</div>"
      ],
      "text/plain": [
       "                                          tweet_text          brand_item  \\\n",
       "0  .@wesley83 I have a 3G iPhone. After 3 hrs twe...              iPhone   \n",
       "1  @jessedee Know about @fludapp ? Awesome iPad/i...  iPad or iPhone App   \n",
       "2  @swonderlin Can not wait for #iPad 2 also. The...                iPad   \n",
       "3  @sxsw I hope this year's festival isn't as cra...  iPad or iPhone App   \n",
       "4  @sxtxstate great stuff on Fri #SXSW: Marissa M...              Google   \n",
       "\n",
       "    emotion brand_name  \n",
       "0  negative      apple  \n",
       "1  positive      apple  \n",
       "2  positive      apple  \n",
       "3  negative      apple  \n",
       "4  positive     google  "
      ]
     },
     "execution_count": 9,
     "metadata": {},
     "output_type": "execute_result"
    }
   ],
   "source": [
    "# Rename second and third columns\n",
    "df2 = df2.rename(columns={'emotion_in_tweet_is_directed_at': 'brand_item',\n",
    "                        'is_there_an_emotion_directed_at_a_brand_or_product': 'emotion'})\n",
    "\n",
    "# Convert the Data types to string\n",
    "df2['tweet_text'] = df2['tweet_text'].astype(str)\n",
    "df2['brand_item'] = df2['brand_item'].astype(str)\n",
    "\n",
    "\n",
    "# Map brand items\n",
    "brand = {'iPhone': 'apple',\n",
    "        'iPad or iPhone App': 'apple',\n",
    "        'iPad': 'apple',\n",
    "        'Google': 'google',\n",
    "        'nan': 'unknown',\n",
    "        'Android': 'google',\n",
    "        'Apple': 'apple',\n",
    "        'Android App': 'google',\n",
    "        'Other Google product or service': 'google',\n",
    "        'Other Apple product or service': 'apple'\n",
    "        }\n",
    "\n",
    "df2['brand_name'] = df2['brand_item'].map(brand)\n",
    "\n",
    "# Encode the class label\n",
    "label_encoder = {'Negative emotion': 'negative',\n",
    "                'Positive emotion': 'positive',\n",
    "                'No emotion toward brand or product': 'neutral',\n",
    "                \"I can't tell\": 'confused'\n",
    "                }\n",
    "\n",
    "# Drop rows containing confused labels\n",
    "df2['emotion'] = df2['emotion'].map(label_encoder)\n",
    "df2 = df2[df2['emotion'] !='confused']\n",
    "\n",
    "df2.head()\n"
   ]
  },
  {
   "cell_type": "code",
   "execution_count": 10,
   "id": "ba5093d3",
   "metadata": {},
   "outputs": [
    {
     "data": {
      "image/png": "[encoded data removed]",
      "text/plain": [
       "<Figure size 1000x500 with 1 Axes>"
      ]
     },
     "metadata": {},
     "output_type": "display_data"
    }
   ],
   "source": [
    "fig = plt.figure(figsize =(10,5))\n",
    "sns.countplot(x='emotion', data=df2,\n",
    "palette={'positive':'g', 'negative': 'r', 'neutral': 'b'}, alpha=0.7)\n",
    "plt.xlabel('Emotion', fontsize=15)\n",
    "plt.ylabel('Count', fontsize=15);"
   ]
  },
  {
   "cell_type": "code",
   "execution_count": 11,
   "id": "8eef0b4c",
   "metadata": {},
   "outputs": [
    {
     "data": {
      "image/png": "[encoded data removed]",
      "text/plain": [
       "<Figure size 1000x500 with 1 Axes>"
      ]
     },
     "metadata": {},
     "output_type": "display_data"
    }
   ],
   "source": [
    "fig = plt.figure(figsize =(10,5))\n",
    "sns.countplot(x='brand_name', data=df2)\n",
    "plt.xticks(rotation=45);"
   ]
  },
  {
   "cell_type": "markdown",
   "id": "367146c3",
   "metadata": {},
   "source": [
    "We can see that tweets associated with Apple are far more than Google"
   ]
  },
  {
   "cell_type": "code",
   "execution_count": 12,
   "id": "726eb023",
   "metadata": {},
   "outputs": [
    {
     "data": {
      "image/png": "[encoded data removed]",
      "text/plain": [
       "<Figure size 1000x500 with 1 Axes>"
      ]
     },
     "metadata": {},
     "output_type": "display_data"
    }
   ],
   "source": [
    "fig = plt.figure(figsize =(10,5))\n",
    "ax = sns.countplot(data=df2, x = 'emotion', hue='brand_name')"
   ]
  },
  {
   "cell_type": "markdown",
   "id": "4a9ee71b",
   "metadata": {},
   "source": [
    "## Preprocessing the data"
   ]
  },
  {
   "cell_type": "markdown",
   "id": "ae47f6d8",
   "metadata": {},
   "source": [
    "Before we start modelling, its important to clean the text data which contains unnecessary letters, numbers and punctuations"
   ]
  },
  {
   "cell_type": "code",
   "execution_count": 13,
   "id": "0d811fcd",
   "metadata": {},
   "outputs": [
    {
     "data": {
      "text/plain": [
       "0    .@wesley83 I have a 3G iPhone. After 3 hrs twe...\n",
       "1    @jessedee Know about @fludapp ? Awesome iPad/i...\n",
       "2    @swonderlin Can not wait for #iPad 2 also. The...\n",
       "3    @sxsw I hope this year's festival isn't as cra...\n",
       "4    @sxtxstate great stuff on Fri #SXSW: Marissa M...\n",
       "Name: tweet_text, dtype: object"
      ]
     },
     "execution_count": 13,
     "metadata": {},
     "output_type": "execute_result"
    }
   ],
   "source": [
    "#print the tweet text\n",
    "df2.tweet_text.head()\n",
    " "
   ]
  },
  {
   "cell_type": "code",
   "execution_count": 14,
   "id": "6e1b5339",
   "metadata": {},
   "outputs": [
    {
     "data": {
      "text/html": [
       "<div>\n",
       "<style scoped>\n",
       "    .dataframe tbody tr th:only-of-type {\n",
       "        vertical-align: middle;\n",
       "    }\n",
       "\n",
       "    .dataframe tbody tr th {\n",
       "        vertical-align: top;\n",
       "    }\n",
       "\n",
       "    .dataframe thead th {\n",
       "        text-align: right;\n",
       "    }\n",
       "</style>\n",
       "<table border=\"1\" class=\"dataframe\">\n",
       "  <thead>\n",
       "    <tr style=\"text-align: right;\">\n",
       "      <th></th>\n",
       "      <th>tweet_text</th>\n",
       "      <th>brand_item</th>\n",
       "      <th>emotion</th>\n",
       "      <th>brand_name</th>\n",
       "      <th>clean_tweet</th>\n",
       "    </tr>\n",
       "  </thead>\n",
       "  <tbody>\n",
       "    <tr>\n",
       "      <th>0</th>\n",
       "      <td>.@wesley83 I have a 3G iPhone. After 3 hrs twe...</td>\n",
       "      <td>iPhone</td>\n",
       "      <td>negative</td>\n",
       "      <td>apple</td>\n",
       "      <td>I have a G iPhone After hrs tweeting at RISEAu...</td>\n",
       "    </tr>\n",
       "    <tr>\n",
       "      <th>1</th>\n",
       "      <td>@jessedee Know about @fludapp ? Awesome iPad/i...</td>\n",
       "      <td>iPad or iPhone App</td>\n",
       "      <td>positive</td>\n",
       "      <td>apple</td>\n",
       "      <td>Know about Awesome iPadiPhone app that youll l...</td>\n",
       "    </tr>\n",
       "    <tr>\n",
       "      <th>2</th>\n",
       "      <td>@swonderlin Can not wait for #iPad 2 also. The...</td>\n",
       "      <td>iPad</td>\n",
       "      <td>positive</td>\n",
       "      <td>apple</td>\n",
       "      <td>Can not wait for iPad also They should sale th...</td>\n",
       "    </tr>\n",
       "    <tr>\n",
       "      <th>3</th>\n",
       "      <td>@sxsw I hope this year's festival isn't as cra...</td>\n",
       "      <td>iPad or iPhone App</td>\n",
       "      <td>negative</td>\n",
       "      <td>apple</td>\n",
       "      <td>I hope this years festival isnt as crashy as t...</td>\n",
       "    </tr>\n",
       "    <tr>\n",
       "      <th>4</th>\n",
       "      <td>@sxtxstate great stuff on Fri #SXSW: Marissa M...</td>\n",
       "      <td>Google</td>\n",
       "      <td>positive</td>\n",
       "      <td>google</td>\n",
       "      <td>great stuff on Fri SXSW Marissa Mayer Google T...</td>\n",
       "    </tr>\n",
       "  </tbody>\n",
       "</table>\n",
       "</div>"
      ],
      "text/plain": [
       "                                          tweet_text          brand_item  \\\n",
       "0  .@wesley83 I have a 3G iPhone. After 3 hrs twe...              iPhone   \n",
       "1  @jessedee Know about @fludapp ? Awesome iPad/i...  iPad or iPhone App   \n",
       "2  @swonderlin Can not wait for #iPad 2 also. The...                iPad   \n",
       "3  @sxsw I hope this year's festival isn't as cra...  iPad or iPhone App   \n",
       "4  @sxtxstate great stuff on Fri #SXSW: Marissa M...              Google   \n",
       "\n",
       "    emotion brand_name                                        clean_tweet  \n",
       "0  negative      apple  I have a G iPhone After hrs tweeting at RISEAu...  \n",
       "1  positive      apple  Know about Awesome iPadiPhone app that youll l...  \n",
       "2  positive      apple  Can not wait for iPad also They should sale th...  \n",
       "3  negative      apple  I hope this years festival isnt as crashy as t...  \n",
       "4  positive     google  great stuff on Fri SXSW Marissa Mayer Google T...  "
      ]
     },
     "execution_count": 14,
     "metadata": {},
     "output_type": "execute_result"
    }
   ],
   "source": [
    "def clean_tweet(tweet):\n",
    "    '''\n",
    "    Function to remove hashtags, URL references, HTML links, placeholders, standalone numbers, @mention users,\n",
    "    special characters and punctuations from the tweet text\n",
    "    '''\n",
    "    x = tweet\n",
    "    \n",
    "    x = re.sub(r'#(\\w+)', r'\\1', x)         # Remove hashtags\n",
    "    x = re.sub(r'http\\S+', '', x)      # Remove URL references (http/https)\n",
    "    x = re.sub(r'<.*?>', '', x)        # Remove HTML links\n",
    "    x = re.sub(r'\\[\\w+\\]', '', x)      # Remove placeholders\n",
    "    x = re.sub(r'\\b\\d+\\b', '', x)      # Remove standalone numbers\n",
    "    x = re.sub(r'@\\w+', '', x)         # Remove @mention users\n",
    "    x = re.sub(r'[^a-zA-Z\\s]', '', x) # Remove special characters and punctuations\n",
    "    x = re.sub(r'\\s+', ' ', x)         # Remove multiple spaces\n",
    "    \n",
    "    return x.strip()  # Return the cleaned text\n",
    "\n",
    "# Apply clean_tweet function to 'tweet_text' column\n",
    "df2['clean_tweet'] = df2['tweet_text'].apply(clean_tweet)\n",
    "df2.head()\n"
   ]
  },
  {
   "cell_type": "code",
   "execution_count": 15,
   "id": "4b9b63bf",
   "metadata": {},
   "outputs": [
    {
     "data": {
      "text/html": [
       "<div>\n",
       "<style scoped>\n",
       "    .dataframe tbody tr th:only-of-type {\n",
       "        vertical-align: middle;\n",
       "    }\n",
       "\n",
       "    .dataframe tbody tr th {\n",
       "        vertical-align: top;\n",
       "    }\n",
       "\n",
       "    .dataframe thead th {\n",
       "        text-align: right;\n",
       "    }\n",
       "</style>\n",
       "<table border=\"1\" class=\"dataframe\">\n",
       "  <thead>\n",
       "    <tr style=\"text-align: right;\">\n",
       "      <th></th>\n",
       "      <th>tweet_text</th>\n",
       "      <th>brand_item</th>\n",
       "      <th>emotion</th>\n",
       "      <th>brand_name</th>\n",
       "      <th>clean_tweet</th>\n",
       "    </tr>\n",
       "  </thead>\n",
       "  <tbody>\n",
       "    <tr>\n",
       "      <th>0</th>\n",
       "      <td>.@wesley83 I have a 3G iPhone. After 3 hrs twe...</td>\n",
       "      <td>iPhone</td>\n",
       "      <td>negative</td>\n",
       "      <td>apple</td>\n",
       "      <td>G iPhone hrs tweeting RISEAustin dead need upg...</td>\n",
       "    </tr>\n",
       "    <tr>\n",
       "      <th>1</th>\n",
       "      <td>@jessedee Know about @fludapp ? Awesome iPad/i...</td>\n",
       "      <td>iPad or iPhone App</td>\n",
       "      <td>positive</td>\n",
       "      <td>apple</td>\n",
       "      <td>Know Awesome iPadiPhone app youll likely appre...</td>\n",
       "    </tr>\n",
       "    <tr>\n",
       "      <th>2</th>\n",
       "      <td>@swonderlin Can not wait for #iPad 2 also. The...</td>\n",
       "      <td>iPad</td>\n",
       "      <td>positive</td>\n",
       "      <td>apple</td>\n",
       "      <td>wait iPad also sale SXSW</td>\n",
       "    </tr>\n",
       "    <tr>\n",
       "      <th>3</th>\n",
       "      <td>@sxsw I hope this year's festival isn't as cra...</td>\n",
       "      <td>iPad or iPhone App</td>\n",
       "      <td>negative</td>\n",
       "      <td>apple</td>\n",
       "      <td>hope years festival isnt crashy years iPhone a...</td>\n",
       "    </tr>\n",
       "    <tr>\n",
       "      <th>4</th>\n",
       "      <td>@sxtxstate great stuff on Fri #SXSW: Marissa M...</td>\n",
       "      <td>Google</td>\n",
       "      <td>positive</td>\n",
       "      <td>google</td>\n",
       "      <td>great stuff Fri SXSW Marissa Mayer Google Tim ...</td>\n",
       "    </tr>\n",
       "  </tbody>\n",
       "</table>\n",
       "</div>"
      ],
      "text/plain": [
       "                                          tweet_text          brand_item  \\\n",
       "0  .@wesley83 I have a 3G iPhone. After 3 hrs twe...              iPhone   \n",
       "1  @jessedee Know about @fludapp ? Awesome iPad/i...  iPad or iPhone App   \n",
       "2  @swonderlin Can not wait for #iPad 2 also. The...                iPad   \n",
       "3  @sxsw I hope this year's festival isn't as cra...  iPad or iPhone App   \n",
       "4  @sxtxstate great stuff on Fri #SXSW: Marissa M...              Google   \n",
       "\n",
       "    emotion brand_name                                        clean_tweet  \n",
       "0  negative      apple  G iPhone hrs tweeting RISEAustin dead need upg...  \n",
       "1  positive      apple  Know Awesome iPadiPhone app youll likely appre...  \n",
       "2  positive      apple                           wait iPad also sale SXSW  \n",
       "3  negative      apple  hope years festival isnt crashy years iPhone a...  \n",
       "4  positive     google  great stuff Fri SXSW Marissa Mayer Google Tim ...  "
      ]
     },
     "execution_count": 15,
     "metadata": {},
     "output_type": "execute_result"
    }
   ],
   "source": [
    "# # Remove stopwords from clean_tweet column\n",
    "stop_words = set(stopwords.words('english'))\n",
    "df2['clean_tweet'] = df2['clean_tweet'].apply(lambda x: ' '.join([word for word in x.split() if word.lower() not in stop_words]))\n",
    "\n",
    "# Display DataFrame with stopwords removed\n",
    "df2.head()"
   ]
  },
  {
   "cell_type": "code",
   "execution_count": 16,
   "id": "379436e9",
   "metadata": {},
   "outputs": [
    {
     "data": {
      "text/plain": [
       "0    [g, iphone, hrs, tweeting, riseaustin, dead, n...\n",
       "1    [know, awesome, ipadiphone, app, youll, likely...\n",
       "2                       [wait, ipad, also, sale, sxsw]\n",
       "3    [hope, years, festival, isnt, crashy, years, i...\n",
       "4    [great, stuff, fri, sxsw, marissa, mayer, goog...\n",
       "Name: clean_tweet, dtype: object"
      ]
     },
     "execution_count": 16,
     "metadata": {},
     "output_type": "execute_result"
    }
   ],
   "source": [
    "# Tokenize words in tweet_text column\n",
    "tokenized_tweet = df2['clean_tweet'].apply(lambda x: x.split())\n",
    "\n",
    "# Lowercase tokenized_tweet\n",
    "tokenized_tweet = tokenized_tweet.apply(lambda x: [word.lower() for word in x])\n",
    "tokenized_tweet.head() "
   ]
  },
  {
   "cell_type": "code",
   "execution_count": 17,
   "id": "cffd5884",
   "metadata": {},
   "outputs": [
    {
     "data": {
      "text/plain": [
       "0    [g, iphon, hr, tweet, riseaustin, dead, need, ...\n",
       "1    [know, awesom, ipadiphon, app, youll, like, ap...\n",
       "2                       [wait, ipad, also, sale, sxsw]\n",
       "3    [hope, year, festiv, isnt, crashi, year, iphon...\n",
       "4    [great, stuff, fri, sxsw, marissa, mayer, goog...\n",
       "Name: clean_tweet, dtype: object"
      ]
     },
     "execution_count": 17,
     "metadata": {},
     "output_type": "execute_result"
    }
   ],
   "source": [
    "# Stem the words\n",
    "stemmer = PorterStemmer()\n",
    "tokenized_tweet = tokenized_tweet.apply(lambda x: [stemmer.stem(word) for word in x])\n",
    "tokenized_tweet.head()"
   ]
  },
  {
   "cell_type": "code",
   "execution_count": 18,
   "id": "f393c1b0",
   "metadata": {},
   "outputs": [
    {
     "data": {
      "text/plain": [
       "FreqDist({'SXSW': 3300, 'sxsw': 2309, 'link': 2031, 'iPad': 2002, 'Apple': 1399, 'Google': 1332, 'iPhone': 1136, 'store': 968, 'RT': 849, 'Austin': 806, ...})"
      ]
     },
     "execution_count": 18,
     "metadata": {},
     "output_type": "execute_result"
    }
   ],
   "source": [
    "#Word Count of all vocabulary\n",
    "FreqDist(df2['clean_tweet'].unique().sum().split())"
   ]
  },
  {
   "cell_type": "markdown",
   "id": "4798e780",
   "metadata": {},
   "source": [
    "## Exploratory Data Analysis"
   ]
  },
  {
   "cell_type": "code",
   "execution_count": 19,
   "id": "38fd5608",
   "metadata": {},
   "outputs": [],
   "source": [
    "def normalization(clean_tweet):\n",
    "    lem = WordNetLemmatizer()\n",
    "    normalized_tweet = []\n",
    "    for word in clean_tweet.split():\n",
    "        normalized_text = lem.lemmatize(word, 'v')\n",
    "        normalized_tweet.append(normalized_text)\n",
    "    return ' '.join(normalized_tweet)"
   ]
  },
  {
   "cell_type": "code",
   "execution_count": 20,
   "id": "0d25cacd",
   "metadata": {},
   "outputs": [
    {
     "data": {
      "text/plain": [
       "FreqDist({'SXSW': 3300, 'sxsw': 2309, 'link': 2044, 'iPad': 2002, 'Apple': 1399, 'Google': 1332, 'iPhone': 1136, 'store': 1001, 'RT': 849, 'Austin': 806, ...})"
      ]
     },
     "execution_count": 20,
     "metadata": {},
     "output_type": "execute_result"
    }
   ],
   "source": [
    "# Apply the tweet cleaner to whole dataframe  \n",
    "df2['clean_tweet2'] = df2['clean_tweet'].apply(normalization)\n",
    "\n",
    "# Word count of all the vocabulary\n",
    "FreqDist(df2['clean_tweet2'].unique().sum().split())"
   ]
  },
  {
   "cell_type": "code",
   "execution_count": 21,
   "id": "56808077",
   "metadata": {},
   "outputs": [
    {
     "data": {
      "text/html": [
       "<div>\n",
       "<style scoped>\n",
       "    .dataframe tbody tr th:only-of-type {\n",
       "        vertical-align: middle;\n",
       "    }\n",
       "\n",
       "    .dataframe tbody tr th {\n",
       "        vertical-align: top;\n",
       "    }\n",
       "\n",
       "    .dataframe thead th {\n",
       "        text-align: right;\n",
       "    }\n",
       "</style>\n",
       "<table border=\"1\" class=\"dataframe\">\n",
       "  <thead>\n",
       "    <tr style=\"text-align: right;\">\n",
       "      <th></th>\n",
       "      <th>tweet_text</th>\n",
       "      <th>brand_item</th>\n",
       "      <th>emotion</th>\n",
       "      <th>brand_name</th>\n",
       "      <th>clean_tweet</th>\n",
       "      <th>clean_tweet2</th>\n",
       "    </tr>\n",
       "  </thead>\n",
       "  <tbody>\n",
       "    <tr>\n",
       "      <th>0</th>\n",
       "      <td>.@wesley83 I have a 3G iPhone. After 3 hrs twe...</td>\n",
       "      <td>iPhone</td>\n",
       "      <td>negative</td>\n",
       "      <td>apple</td>\n",
       "      <td>G iPhone hrs tweeting RISEAustin dead need upg...</td>\n",
       "      <td>G iPhone hrs tweet RISEAustin dead need upgrad...</td>\n",
       "    </tr>\n",
       "    <tr>\n",
       "      <th>1</th>\n",
       "      <td>@jessedee Know about @fludapp ? Awesome iPad/i...</td>\n",
       "      <td>iPad or iPhone App</td>\n",
       "      <td>positive</td>\n",
       "      <td>apple</td>\n",
       "      <td>Know Awesome iPadiPhone app youll likely appre...</td>\n",
       "      <td>Know Awesome iPadiPhone app youll likely appre...</td>\n",
       "    </tr>\n",
       "    <tr>\n",
       "      <th>2</th>\n",
       "      <td>@swonderlin Can not wait for #iPad 2 also. The...</td>\n",
       "      <td>iPad</td>\n",
       "      <td>positive</td>\n",
       "      <td>apple</td>\n",
       "      <td>wait iPad also sale SXSW</td>\n",
       "      <td>wait iPad also sale SXSW</td>\n",
       "    </tr>\n",
       "    <tr>\n",
       "      <th>3</th>\n",
       "      <td>@sxsw I hope this year's festival isn't as cra...</td>\n",
       "      <td>iPad or iPhone App</td>\n",
       "      <td>negative</td>\n",
       "      <td>apple</td>\n",
       "      <td>hope years festival isnt crashy years iPhone a...</td>\n",
       "      <td>hope years festival isnt crashy years iPhone a...</td>\n",
       "    </tr>\n",
       "    <tr>\n",
       "      <th>4</th>\n",
       "      <td>@sxtxstate great stuff on Fri #SXSW: Marissa M...</td>\n",
       "      <td>Google</td>\n",
       "      <td>positive</td>\n",
       "      <td>google</td>\n",
       "      <td>great stuff Fri SXSW Marissa Mayer Google Tim ...</td>\n",
       "      <td>great stuff Fri SXSW Marissa Mayer Google Tim ...</td>\n",
       "    </tr>\n",
       "  </tbody>\n",
       "</table>\n",
       "</div>"
      ],
      "text/plain": [
       "                                          tweet_text          brand_item  \\\n",
       "0  .@wesley83 I have a 3G iPhone. After 3 hrs twe...              iPhone   \n",
       "1  @jessedee Know about @fludapp ? Awesome iPad/i...  iPad or iPhone App   \n",
       "2  @swonderlin Can not wait for #iPad 2 also. The...                iPad   \n",
       "3  @sxsw I hope this year's festival isn't as cra...  iPad or iPhone App   \n",
       "4  @sxtxstate great stuff on Fri #SXSW: Marissa M...              Google   \n",
       "\n",
       "    emotion brand_name                                        clean_tweet  \\\n",
       "0  negative      apple  G iPhone hrs tweeting RISEAustin dead need upg...   \n",
       "1  positive      apple  Know Awesome iPadiPhone app youll likely appre...   \n",
       "2  positive      apple                           wait iPad also sale SXSW   \n",
       "3  negative      apple  hope years festival isnt crashy years iPhone a...   \n",
       "4  positive     google  great stuff Fri SXSW Marissa Mayer Google Tim ...   \n",
       "\n",
       "                                        clean_tweet2  \n",
       "0  G iPhone hrs tweet RISEAustin dead need upgrad...  \n",
       "1  Know Awesome iPadiPhone app youll likely appre...  \n",
       "2                           wait iPad also sale SXSW  \n",
       "3  hope years festival isnt crashy years iPhone a...  \n",
       "4  great stuff Fri SXSW Marissa Mayer Google Tim ...  "
      ]
     },
     "execution_count": 21,
     "metadata": {},
     "output_type": "execute_result"
    }
   ],
   "source": [
    "df2.head()"
   ]
  },
  {
   "cell_type": "markdown",
   "id": "e2e5fd6c",
   "metadata": {},
   "source": [
    "## Modeling"
   ]
  },
  {
   "cell_type": "markdown",
   "id": "26eef9a4",
   "metadata": {},
   "source": [
    "We will start with simple scikit learn modeling. We will test Naive Bayes on tweets with and without lemmatization"
   ]
  },
  {
   "cell_type": "code",
   "execution_count": 22,
   "id": "9d4b136e",
   "metadata": {},
   "outputs": [],
   "source": [
    "X = df2[['clean_tweet']] \n",
    "y = df2['emotion']"
   ]
  },
  {
   "cell_type": "markdown",
   "id": "ef03c30b",
   "metadata": {},
   "source": [
    "We will take aside 10% of data for Test Set, and further split training data into validation set"
   ]
  },
  {
   "cell_type": "code",
   "execution_count": 23,
   "id": "09a571a2",
   "metadata": {},
   "outputs": [
    {
     "data": {
      "text/plain": [
       "((6836, 1), (1207, 1), (894, 1), (6836,), (1207,), (894,))"
      ]
     },
     "execution_count": 23,
     "metadata": {},
     "output_type": "execute_result"
    }
   ],
   "source": [
    "X_train, X_test, y_train, y_test = train_test_split(X, y, test_size=0.10, stratify=y,\n",
    "                                                    random_state=42)\n",
    "X_train, X_val, y_train, y_val = train_test_split(X_train, y_train, test_size=0.15, stratify=y_train,\n",
    "                                                  random_state=42)\n",
    "X_train.shape, X_val.shape, X_test.shape, y_train.shape, y_val.shape, y_test.shape"
   ]
  },
  {
   "cell_type": "code",
   "execution_count": 24,
   "id": "0e51b6ac",
   "metadata": {},
   "outputs": [],
   "source": [
    "# Vectorizing\n",
    "tfidf_vectorizer = TfidfVectorizer()\n",
    "\n",
    "X_train_vec = tfidf_vectorizer.fit_transform(X_train['clean_tweet']).toarray()\n",
    "X_test_vec = tfidf_vectorizer.transform(X_test['clean_tweet']).toarray()\n",
    "X_val_vec = tfidf_vectorizer.transform(X_val['clean_tweet']).toarray()"
   ]
  },
  {
   "cell_type": "code",
   "execution_count": 25,
   "id": "a687538f",
   "metadata": {},
   "outputs": [
    {
     "data": {
      "text/plain": [
       "((6836, 8912), (1207, 8912))"
      ]
     },
     "execution_count": 25,
     "metadata": {},
     "output_type": "execute_result"
    }
   ],
   "source": [
    "X_train_vec.shape, X_val_vec.shape"
   ]
  },
  {
   "cell_type": "code",
   "execution_count": 26,
   "id": "750af783",
   "metadata": {},
   "outputs": [
    {
     "data": {
      "text/html": [
       "<div>\n",
       "<style scoped>\n",
       "    .dataframe tbody tr th:only-of-type {\n",
       "        vertical-align: middle;\n",
       "    }\n",
       "\n",
       "    .dataframe tbody tr th {\n",
       "        vertical-align: top;\n",
       "    }\n",
       "\n",
       "    .dataframe thead th {\n",
       "        text-align: right;\n",
       "    }\n",
       "</style>\n",
       "<table border=\"1\" class=\"dataframe\">\n",
       "  <thead>\n",
       "    <tr style=\"text-align: right;\">\n",
       "      <th></th>\n",
       "      <th>clean_tweet</th>\n",
       "    </tr>\n",
       "  </thead>\n",
       "  <tbody>\n",
       "    <tr>\n",
       "      <th>1469</th>\n",
       "      <td>link edchat musedchat sxsw sxswi classical new...</td>\n",
       "    </tr>\n",
       "    <tr>\n",
       "      <th>412</th>\n",
       "      <td>crazy look around sxsw realize last year one i...</td>\n",
       "    </tr>\n",
       "    <tr>\n",
       "      <th>405</th>\n",
       "      <td>iPad coming SXSW guess Apples pretty desperate...</td>\n",
       "    </tr>\n",
       "    <tr>\n",
       "      <th>5984</th>\n",
       "      <td>RT heh RT Apple opening temporary store downto...</td>\n",
       "    </tr>\n",
       "    <tr>\n",
       "      <th>8737</th>\n",
       "      <td>Hanging google Industry Partygood crowd sxsw</td>\n",
       "    </tr>\n",
       "    <tr>\n",
       "      <th>...</th>\n",
       "      <td>...</td>\n",
       "    </tr>\n",
       "    <tr>\n",
       "      <th>4784</th>\n",
       "      <td>RT Love sxsw quotapple comes w cool technology...</td>\n",
       "    </tr>\n",
       "    <tr>\n",
       "      <th>3784</th>\n",
       "      <td>Last session sxsw HTML reps google ms opera mo...</td>\n",
       "    </tr>\n",
       "    <tr>\n",
       "      <th>4277</th>\n",
       "      <td>Googles Marissa Mayer Says Location Everything...</td>\n",
       "    </tr>\n",
       "    <tr>\n",
       "      <th>5236</th>\n",
       "      <td>RT hashable rocking SXSW new quotcloudquot Bus...</td>\n",
       "    </tr>\n",
       "    <tr>\n",
       "      <th>6921</th>\n",
       "      <td>RT Apple security guy locks store sxsw link</td>\n",
       "    </tr>\n",
       "  </tbody>\n",
       "</table>\n",
       "<p>6836 rows × 1 columns</p>\n",
       "</div>"
      ],
      "text/plain": [
       "                                            clean_tweet\n",
       "1469  link edchat musedchat sxsw sxswi classical new...\n",
       "412   crazy look around sxsw realize last year one i...\n",
       "405   iPad coming SXSW guess Apples pretty desperate...\n",
       "5984  RT heh RT Apple opening temporary store downto...\n",
       "8737       Hanging google Industry Partygood crowd sxsw\n",
       "...                                                 ...\n",
       "4784  RT Love sxsw quotapple comes w cool technology...\n",
       "3784  Last session sxsw HTML reps google ms opera mo...\n",
       "4277  Googles Marissa Mayer Says Location Everything...\n",
       "5236  RT hashable rocking SXSW new quotcloudquot Bus...\n",
       "6921        RT Apple security guy locks store sxsw link\n",
       "\n",
       "[6836 rows x 1 columns]"
      ]
     },
     "execution_count": 26,
     "metadata": {},
     "output_type": "execute_result"
    }
   ],
   "source": [
    "X_train"
   ]
  },
  {
   "cell_type": "code",
   "execution_count": 27,
   "id": "943f790e",
   "metadata": {},
   "outputs": [
    {
     "data": {
      "text/html": [
       "<style>#sk-container-id-1 {color: black;}#sk-container-id-1 pre{padding: 0;}#sk-container-id-1 div.sk-toggleable {background-color: white;}#sk-container-id-1 label.sk-toggleable__label {cursor: pointer;display: block;width: 100%;margin-bottom: 0;padding: 0.3em;box-sizing: border-box;text-align: center;}#sk-container-id-1 label.sk-toggleable__label-arrow:before {content: \"▸\";float: left;margin-right: 0.25em;color: #696969;}#sk-container-id-1 label.sk-toggleable__label-arrow:hover:before {color: black;}#sk-container-id-1 div.sk-estimator:hover label.sk-toggleable__label-arrow:before {color: black;}#sk-container-id-1 div.sk-toggleable__content {max-height: 0;max-width: 0;overflow: hidden;text-align: left;background-color: #f0f8ff;}#sk-container-id-1 div.sk-toggleable__content pre {margin: 0.2em;color: black;border-radius: 0.25em;background-color: #f0f8ff;}#sk-container-id-1 input.sk-toggleable__control:checked~div.sk-toggleable__content {max-height: 200px;max-width: 100%;overflow: auto;}#sk-container-id-1 input.sk-toggleable__control:checked~label.sk-toggleable__label-arrow:before {content: \"▾\";}#sk-container-id-1 div.sk-estimator input.sk-toggleable__control:checked~label.sk-toggleable__label {background-color: #d4ebff;}#sk-container-id-1 div.sk-label input.sk-toggleable__control:checked~label.sk-toggleable__label {background-color: #d4ebff;}#sk-container-id-1 input.sk-hidden--visually {border: 0;clip: rect(1px 1px 1px 1px);clip: rect(1px, 1px, 1px, 1px);height: 1px;margin: -1px;overflow: hidden;padding: 0;position: absolute;width: 1px;}#sk-container-id-1 div.sk-estimator {font-family: monospace;background-color: #f0f8ff;border: 1px dotted black;border-radius: 0.25em;box-sizing: border-box;margin-bottom: 0.5em;}#sk-container-id-1 div.sk-estimator:hover {background-color: #d4ebff;}#sk-container-id-1 div.sk-parallel-item::after {content: \"\";width: 100%;border-bottom: 1px solid gray;flex-grow: 1;}#sk-container-id-1 div.sk-label:hover label.sk-toggleable__label {background-color: #d4ebff;}#sk-container-id-1 div.sk-serial::before {content: \"\";position: absolute;border-left: 1px solid gray;box-sizing: border-box;top: 0;bottom: 0;left: 50%;z-index: 0;}#sk-container-id-1 div.sk-serial {display: flex;flex-direction: column;align-items: center;background-color: white;padding-right: 0.2em;padding-left: 0.2em;position: relative;}#sk-container-id-1 div.sk-item {position: relative;z-index: 1;}#sk-container-id-1 div.sk-parallel {display: flex;align-items: stretch;justify-content: center;background-color: white;position: relative;}#sk-container-id-1 div.sk-item::before, #sk-container-id-1 div.sk-parallel-item::before {content: \"\";position: absolute;border-left: 1px solid gray;box-sizing: border-box;top: 0;bottom: 0;left: 50%;z-index: -1;}#sk-container-id-1 div.sk-parallel-item {display: flex;flex-direction: column;z-index: 1;position: relative;background-color: white;}#sk-container-id-1 div.sk-parallel-item:first-child::after {align-self: flex-end;width: 50%;}#sk-container-id-1 div.sk-parallel-item:last-child::after {align-self: flex-start;width: 50%;}#sk-container-id-1 div.sk-parallel-item:only-child::after {width: 0;}#sk-container-id-1 div.sk-dashed-wrapped {border: 1px dashed gray;margin: 0 0.4em 0.5em 0.4em;box-sizing: border-box;padding-bottom: 0.4em;background-color: white;}#sk-container-id-1 div.sk-label label {font-family: monospace;font-weight: bold;display: inline-block;line-height: 1.2em;}#sk-container-id-1 div.sk-label-container {text-align: center;}#sk-container-id-1 div.sk-container {/* jupyter's `normalize.less` sets `[hidden] { display: none; }` but bootstrap.min.css set `[hidden] { display: none !important; }` so we also need the `!important` here to be able to override the default hidden behavior on the sphinx rendered scikit-learn.org. See: https://github.com/scikit-learn/scikit-learn/issues/21755 */display: inline-block !important;position: relative;}#sk-container-id-1 div.sk-text-repr-fallback {display: none;}</style><div id=\"sk-container-id-1\" class=\"sk-top-container\"><div class=\"sk-text-repr-fallback\"><pre>MultinomialNB()</pre><b>In a Jupyter environment, please rerun this cell to show the HTML representation or trust the notebook. <br />On GitHub, the HTML representation is unable to render, please try loading this page with nbviewer.org.</b></div><div class=\"sk-container\" hidden><div class=\"sk-item\"><div class=\"sk-estimator sk-toggleable\"><input class=\"sk-toggleable__control sk-hidden--visually\" id=\"sk-estimator-id-1\" type=\"checkbox\" checked><label for=\"sk-estimator-id-1\" class=\"sk-toggleable__label sk-toggleable__label-arrow\">MultinomialNB</label><div class=\"sk-toggleable__content\"><pre>MultinomialNB()</pre></div></div></div></div></div>"
      ],
      "text/plain": [
       "MultinomialNB()"
      ]
     },
     "execution_count": 27,
     "metadata": {},
     "output_type": "execute_result"
    }
   ],
   "source": [
    "# Simple Naive Bayes classifer \n",
    "clf1_NB = MultinomialNB()\n",
    "clf1_NB.fit(X_train_vec, y_train)"
   ]
  },
  {
   "cell_type": "code",
   "execution_count": 28,
   "id": "ea54b040",
   "metadata": {},
   "outputs": [],
   "source": [
    "def get_prediction(model, X_train, X_test, y_train, y_test):\n",
    "    y_train_pred = model.predict(X_train)\n",
    "    y_test_pred = model.predict(X_test)\n",
    "    \n",
    "    print('Training Prediction')\n",
    "    print('--------------------')\n",
    "    print(classification_report(y_train, y_train_pred))\n",
    "    print('Test Prediction')\n",
    "    print('--------------------')\n",
    "    print(classification_report(y_test, y_test_pred))\n",
    "    \n",
    "    return y_train_pred, y_test_pred"
   ]
  },
  {
   "cell_type": "code",
   "execution_count": 29,
   "id": "07d4c7b5",
   "metadata": {},
   "outputs": [
    {
     "name": "stdout",
     "output_type": "stream",
     "text": [
      "Training Prediction\n",
      "--------------------\n",
      "              precision    recall  f1-score   support\n",
      "\n",
      "    negative       1.00      0.03      0.06       436\n",
      "     neutral       0.73      0.99      0.84      4122\n",
      "    positive       0.90      0.49      0.64      2278\n",
      "\n",
      "    accuracy                           0.76      6836\n",
      "   macro avg       0.88      0.50      0.51      6836\n",
      "weighted avg       0.80      0.76      0.72      6836\n",
      "\n",
      "Test Prediction\n",
      "--------------------\n",
      "              precision    recall  f1-score   support\n",
      "\n",
      "    negative       0.67      0.03      0.05        77\n",
      "     neutral       0.64      0.96      0.77       728\n",
      "    positive       0.68      0.19      0.30       402\n",
      "\n",
      "    accuracy                           0.64      1207\n",
      "   macro avg       0.66      0.39      0.37      1207\n",
      "weighted avg       0.66      0.64      0.57      1207\n",
      "\n"
     ]
    }
   ],
   "source": [
    "_, _ = get_prediction(clf1_NB, X_train_vec, X_val_vec, y_train, y_val)"
   ]
  },
  {
   "cell_type": "markdown",
   "id": "27dd8f90",
   "metadata": {},
   "source": [
    "The model has high precision for predicting the \"neutral\" emotion (73%) but lower precision for the \"negative\" (100%) and \"positive\" (90%) classes.The recall is highest for the \"neutral\" class (99%), indicating that the model correctly identifies most of the \"neutral\" tweets.The F1-score is generally higher for the \"neutral\" class (84%) compared to the other classes.\n",
    "On the test prediction, precision, recall, and F1-score are generally lower compared to the training set, which is expected as the model is evaluated on unseen data.Similar to the training set, the model performs best for the \"neutral\" class, with relatively high precision (64%), recall (96%), and F1-score (77%).The performance for the \"negative\" and \"positive\" classes is lower, with lower precision, recall, and F1-scores.\n",
    "Overall, the model performs reasonably well on the \"neutral\" class but struggles more with the \"negative\" and \"positive\" classes, especially in terms of precision and recall. This imbalance in performance might indicate a class imbalance issue or that the model needs further optimization to better distinguish between the different sentiment classes."
   ]
  },
  {
   "cell_type": "code",
   "execution_count": 30,
   "id": "0274b34c",
   "metadata": {},
   "outputs": [
    {
     "data": {
      "text/html": [
       "<style>#sk-container-id-2 {color: black;}#sk-container-id-2 pre{padding: 0;}#sk-container-id-2 div.sk-toggleable {background-color: white;}#sk-container-id-2 label.sk-toggleable__label {cursor: pointer;display: block;width: 100%;margin-bottom: 0;padding: 0.3em;box-sizing: border-box;text-align: center;}#sk-container-id-2 label.sk-toggleable__label-arrow:before {content: \"▸\";float: left;margin-right: 0.25em;color: #696969;}#sk-container-id-2 label.sk-toggleable__label-arrow:hover:before {color: black;}#sk-container-id-2 div.sk-estimator:hover label.sk-toggleable__label-arrow:before {color: black;}#sk-container-id-2 div.sk-toggleable__content {max-height: 0;max-width: 0;overflow: hidden;text-align: left;background-color: #f0f8ff;}#sk-container-id-2 div.sk-toggleable__content pre {margin: 0.2em;color: black;border-radius: 0.25em;background-color: #f0f8ff;}#sk-container-id-2 input.sk-toggleable__control:checked~div.sk-toggleable__content {max-height: 200px;max-width: 100%;overflow: auto;}#sk-container-id-2 input.sk-toggleable__control:checked~label.sk-toggleable__label-arrow:before {content: \"▾\";}#sk-container-id-2 div.sk-estimator input.sk-toggleable__control:checked~label.sk-toggleable__label {background-color: #d4ebff;}#sk-container-id-2 div.sk-label input.sk-toggleable__control:checked~label.sk-toggleable__label {background-color: #d4ebff;}#sk-container-id-2 input.sk-hidden--visually {border: 0;clip: rect(1px 1px 1px 1px);clip: rect(1px, 1px, 1px, 1px);height: 1px;margin: -1px;overflow: hidden;padding: 0;position: absolute;width: 1px;}#sk-container-id-2 div.sk-estimator {font-family: monospace;background-color: #f0f8ff;border: 1px dotted black;border-radius: 0.25em;box-sizing: border-box;margin-bottom: 0.5em;}#sk-container-id-2 div.sk-estimator:hover {background-color: #d4ebff;}#sk-container-id-2 div.sk-parallel-item::after {content: \"\";width: 100%;border-bottom: 1px solid gray;flex-grow: 1;}#sk-container-id-2 div.sk-label:hover label.sk-toggleable__label {background-color: #d4ebff;}#sk-container-id-2 div.sk-serial::before {content: \"\";position: absolute;border-left: 1px solid gray;box-sizing: border-box;top: 0;bottom: 0;left: 50%;z-index: 0;}#sk-container-id-2 div.sk-serial {display: flex;flex-direction: column;align-items: center;background-color: white;padding-right: 0.2em;padding-left: 0.2em;position: relative;}#sk-container-id-2 div.sk-item {position: relative;z-index: 1;}#sk-container-id-2 div.sk-parallel {display: flex;align-items: stretch;justify-content: center;background-color: white;position: relative;}#sk-container-id-2 div.sk-item::before, #sk-container-id-2 div.sk-parallel-item::before {content: \"\";position: absolute;border-left: 1px solid gray;box-sizing: border-box;top: 0;bottom: 0;left: 50%;z-index: -1;}#sk-container-id-2 div.sk-parallel-item {display: flex;flex-direction: column;z-index: 1;position: relative;background-color: white;}#sk-container-id-2 div.sk-parallel-item:first-child::after {align-self: flex-end;width: 50%;}#sk-container-id-2 div.sk-parallel-item:last-child::after {align-self: flex-start;width: 50%;}#sk-container-id-2 div.sk-parallel-item:only-child::after {width: 0;}#sk-container-id-2 div.sk-dashed-wrapped {border: 1px dashed gray;margin: 0 0.4em 0.5em 0.4em;box-sizing: border-box;padding-bottom: 0.4em;background-color: white;}#sk-container-id-2 div.sk-label label {font-family: monospace;font-weight: bold;display: inline-block;line-height: 1.2em;}#sk-container-id-2 div.sk-label-container {text-align: center;}#sk-container-id-2 div.sk-container {/* jupyter's `normalize.less` sets `[hidden] { display: none; }` but bootstrap.min.css set `[hidden] { display: none !important; }` so we also need the `!important` here to be able to override the default hidden behavior on the sphinx rendered scikit-learn.org. See: https://github.com/scikit-learn/scikit-learn/issues/21755 */display: inline-block !important;position: relative;}#sk-container-id-2 div.sk-text-repr-fallback {display: none;}</style><div id=\"sk-container-id-2\" class=\"sk-top-container\"><div class=\"sk-text-repr-fallback\"><pre>RandomForestClassifier(class_weight=&#x27;balanced&#x27;, n_jobs=6, random_state=0)</pre><b>In a Jupyter environment, please rerun this cell to show the HTML representation or trust the notebook. <br />On GitHub, the HTML representation is unable to render, please try loading this page with nbviewer.org.</b></div><div class=\"sk-container\" hidden><div class=\"sk-item\"><div class=\"sk-estimator sk-toggleable\"><input class=\"sk-toggleable__control sk-hidden--visually\" id=\"sk-estimator-id-2\" type=\"checkbox\" checked><label for=\"sk-estimator-id-2\" class=\"sk-toggleable__label sk-toggleable__label-arrow\">RandomForestClassifier</label><div class=\"sk-toggleable__content\"><pre>RandomForestClassifier(class_weight=&#x27;balanced&#x27;, n_jobs=6, random_state=0)</pre></div></div></div></div></div>"
      ],
      "text/plain": [
       "RandomForestClassifier(class_weight='balanced', n_jobs=6, random_state=0)"
      ]
     },
     "execution_count": 30,
     "metadata": {},
     "output_type": "execute_result"
    }
   ],
   "source": [
    "# Instantiate a Random Forest Classifier\n",
    "clf_rf = RandomForestClassifier(n_estimators=100, random_state=0, n_jobs=6, class_weight='balanced')\n",
    "clf_rf.fit(X_train_vec, y_train)"
   ]
  },
  {
   "cell_type": "code",
   "execution_count": 31,
   "id": "a937d43c",
   "metadata": {},
   "outputs": [
    {
     "name": "stdout",
     "output_type": "stream",
     "text": [
      "Training Prediction\n",
      "--------------------\n",
      "              precision    recall  f1-score   support\n",
      "\n",
      "    negative       0.99      1.00      0.99       436\n",
      "     neutral       1.00      0.99      0.99      4122\n",
      "    positive       0.99      0.99      0.99      2278\n",
      "\n",
      "    accuracy                           0.99      6836\n",
      "   macro avg       0.99      0.99      0.99      6836\n",
      "weighted avg       0.99      0.99      0.99      6836\n",
      "\n",
      "Test Prediction\n",
      "--------------------\n",
      "              precision    recall  f1-score   support\n",
      "\n",
      "    negative       0.71      0.19      0.31        77\n",
      "     neutral       0.69      0.89      0.77       728\n",
      "    positive       0.64      0.39      0.49       402\n",
      "\n",
      "    accuracy                           0.68      1207\n",
      "   macro avg       0.68      0.49      0.52      1207\n",
      "weighted avg       0.67      0.68      0.65      1207\n",
      "\n"
     ]
    }
   ],
   "source": [
    "_, _ = get_prediction(clf_rf, X_train_vec, X_val_vec, y_train, y_val)"
   ]
  },
  {
   "cell_type": "markdown",
   "id": "6235513d",
   "metadata": {},
   "source": [
    "The model performs very well on the training set, with high precision, recall, and F1-score for all classes, indicating excellent performance in classifying sentiments. On the test set, the model's performance is slightly lower but still reasonable. Precision, recall, and F1-score vary across classes, with neutral sentiments having the highest scores and negative sentiments having the lowest. The model's overall accuracy on the test set is 68%, indicating that it correctly predicts sentiments for nearly 68% of the instances in the test set."
   ]
  },
  {
   "cell_type": "code",
   "execution_count": 32,
   "id": "f48fa5ef",
   "metadata": {},
   "outputs": [],
   "source": [
    "# Next we try to fit Naive Bayes on lemmatized data\n",
    "X = df2[['clean_tweet2']] "
   ]
  },
  {
   "cell_type": "code",
   "execution_count": 33,
   "id": "9575da95",
   "metadata": {},
   "outputs": [
    {
     "data": {
      "text/plain": [
       "((6836, 1), (1207, 1), (894, 1), (6836,), (1207,), (894,))"
      ]
     },
     "execution_count": 33,
     "metadata": {},
     "output_type": "execute_result"
    }
   ],
   "source": [
    "X_train, X_test, y_train, y_test = train_test_split(X, y, test_size=0.10, stratify=y,\n",
    "                                                    random_state=42)\n",
    "X_train, X_val, y_train, y_val = train_test_split(X_train, y_train, test_size=0.15, stratify=y_train,\n",
    "                                                  random_state=42)\n",
    "X_train.shape, X_val.shape, X_test.shape, y_train.shape, y_val.shape, y_test.shape"
   ]
  },
  {
   "cell_type": "code",
   "execution_count": null,
   "id": "62eef11c",
   "metadata": {},
   "outputs": [],
   "source": [
    "# Vectorizing\n",
    "tfidf_vectorizer = TfidfVectorizer()\n",
    "\n",
    "X_train_vec = tfidf_vectorizer.fit_transform(X_train['clean_tweet2']).toarray()\n",
    "X_test_vec = tfidf_vectorizer.transform(X_test['clean_tweet2']).toarray()\n",
    "X_val_vec = tfidf_vectorizer.transform(X_val['clean_tweet2']).toarray()"
   ]
  },
  {
   "cell_type": "code",
   "execution_count": 35,
   "id": "6a536209",
   "metadata": {},
   "outputs": [
    {
     "data": {
      "text/html": [
       "<style>#sk-container-id-3 {color: black;}#sk-container-id-3 pre{padding: 0;}#sk-container-id-3 div.sk-toggleable {background-color: white;}#sk-container-id-3 label.sk-toggleable__label {cursor: pointer;display: block;width: 100%;margin-bottom: 0;padding: 0.3em;box-sizing: border-box;text-align: center;}#sk-container-id-3 label.sk-toggleable__label-arrow:before {content: \"▸\";float: left;margin-right: 0.25em;color: #696969;}#sk-container-id-3 label.sk-toggleable__label-arrow:hover:before {color: black;}#sk-container-id-3 div.sk-estimator:hover label.sk-toggleable__label-arrow:before {color: black;}#sk-container-id-3 div.sk-toggleable__content {max-height: 0;max-width: 0;overflow: hidden;text-align: left;background-color: #f0f8ff;}#sk-container-id-3 div.sk-toggleable__content pre {margin: 0.2em;color: black;border-radius: 0.25em;background-color: #f0f8ff;}#sk-container-id-3 input.sk-toggleable__control:checked~div.sk-toggleable__content {max-height: 200px;max-width: 100%;overflow: auto;}#sk-container-id-3 input.sk-toggleable__control:checked~label.sk-toggleable__label-arrow:before {content: \"▾\";}#sk-container-id-3 div.sk-estimator input.sk-toggleable__control:checked~label.sk-toggleable__label {background-color: #d4ebff;}#sk-container-id-3 div.sk-label input.sk-toggleable__control:checked~label.sk-toggleable__label {background-color: #d4ebff;}#sk-container-id-3 input.sk-hidden--visually {border: 0;clip: rect(1px 1px 1px 1px);clip: rect(1px, 1px, 1px, 1px);height: 1px;margin: -1px;overflow: hidden;padding: 0;position: absolute;width: 1px;}#sk-container-id-3 div.sk-estimator {font-family: monospace;background-color: #f0f8ff;border: 1px dotted black;border-radius: 0.25em;box-sizing: border-box;margin-bottom: 0.5em;}#sk-container-id-3 div.sk-estimator:hover {background-color: #d4ebff;}#sk-container-id-3 div.sk-parallel-item::after {content: \"\";width: 100%;border-bottom: 1px solid gray;flex-grow: 1;}#sk-container-id-3 div.sk-label:hover label.sk-toggleable__label {background-color: #d4ebff;}#sk-container-id-3 div.sk-serial::before {content: \"\";position: absolute;border-left: 1px solid gray;box-sizing: border-box;top: 0;bottom: 0;left: 50%;z-index: 0;}#sk-container-id-3 div.sk-serial {display: flex;flex-direction: column;align-items: center;background-color: white;padding-right: 0.2em;padding-left: 0.2em;position: relative;}#sk-container-id-3 div.sk-item {position: relative;z-index: 1;}#sk-container-id-3 div.sk-parallel {display: flex;align-items: stretch;justify-content: center;background-color: white;position: relative;}#sk-container-id-3 div.sk-item::before, #sk-container-id-3 div.sk-parallel-item::before {content: \"\";position: absolute;border-left: 1px solid gray;box-sizing: border-box;top: 0;bottom: 0;left: 50%;z-index: -1;}#sk-container-id-3 div.sk-parallel-item {display: flex;flex-direction: column;z-index: 1;position: relative;background-color: white;}#sk-container-id-3 div.sk-parallel-item:first-child::after {align-self: flex-end;width: 50%;}#sk-container-id-3 div.sk-parallel-item:last-child::after {align-self: flex-start;width: 50%;}#sk-container-id-3 div.sk-parallel-item:only-child::after {width: 0;}#sk-container-id-3 div.sk-dashed-wrapped {border: 1px dashed gray;margin: 0 0.4em 0.5em 0.4em;box-sizing: border-box;padding-bottom: 0.4em;background-color: white;}#sk-container-id-3 div.sk-label label {font-family: monospace;font-weight: bold;display: inline-block;line-height: 1.2em;}#sk-container-id-3 div.sk-label-container {text-align: center;}#sk-container-id-3 div.sk-container {/* jupyter's `normalize.less` sets `[hidden] { display: none; }` but bootstrap.min.css set `[hidden] { display: none !important; }` so we also need the `!important` here to be able to override the default hidden behavior on the sphinx rendered scikit-learn.org. See: https://github.com/scikit-learn/scikit-learn/issues/21755 */display: inline-block !important;position: relative;}#sk-container-id-3 div.sk-text-repr-fallback {display: none;}</style><div id=\"sk-container-id-3\" class=\"sk-top-container\"><div class=\"sk-text-repr-fallback\"><pre>MultinomialNB()</pre><b>In a Jupyter environment, please rerun this cell to show the HTML representation or trust the notebook. <br />On GitHub, the HTML representation is unable to render, please try loading this page with nbviewer.org.</b></div><div class=\"sk-container\" hidden><div class=\"sk-item\"><div class=\"sk-estimator sk-toggleable\"><input class=\"sk-toggleable__control sk-hidden--visually\" id=\"sk-estimator-id-3\" type=\"checkbox\" checked><label for=\"sk-estimator-id-3\" class=\"sk-toggleable__label sk-toggleable__label-arrow\">MultinomialNB</label><div class=\"sk-toggleable__content\"><pre>MultinomialNB()</pre></div></div></div></div></div>"
      ],
      "text/plain": [
       "MultinomialNB()"
      ]
     },
     "execution_count": 35,
     "metadata": {},
     "output_type": "execute_result"
    }
   ],
   "source": [
    "# Simple Naive Bayes classifer \n",
    "clf2_NB = MultinomialNB()\n",
    "clf2_NB.fit(X_train_vec, y_train)"
   ]
  },
  {
   "cell_type": "code",
   "execution_count": 36,
   "id": "e1a05f98",
   "metadata": {},
   "outputs": [
    {
     "name": "stdout",
     "output_type": "stream",
     "text": [
      "Training Prediction\n",
      "--------------------\n",
      "              precision    recall  f1-score   support\n",
      "\n",
      "    negative       1.00      0.03      0.05       436\n",
      "     neutral       0.72      0.99      0.83      4122\n",
      "    positive       0.91      0.47      0.62      2278\n",
      "\n",
      "    accuracy                           0.75      6836\n",
      "   macro avg       0.88      0.50      0.50      6836\n",
      "weighted avg       0.80      0.75      0.71      6836\n",
      "\n",
      "Test Prediction\n",
      "--------------------\n",
      "              precision    recall  f1-score   support\n",
      "\n",
      "    negative       0.75      0.04      0.07        77\n",
      "     neutral       0.64      0.96      0.77       728\n",
      "    positive       0.70      0.21      0.32       402\n",
      "\n",
      "    accuracy                           0.65      1207\n",
      "   macro avg       0.70      0.40      0.39      1207\n",
      "weighted avg       0.67      0.65      0.58      1207\n",
      "\n"
     ]
    }
   ],
   "source": [
    "_, _ = get_prediction(clf2_NB, X_train_vec, X_val_vec, y_train, y_val)"
   ]
  },
  {
   "cell_type": "code",
   "execution_count": 37,
   "id": "4d3d5d1b",
   "metadata": {},
   "outputs": [
    {
     "data": {
      "text/html": [
       "<style>#sk-container-id-4 {color: black;}#sk-container-id-4 pre{padding: 0;}#sk-container-id-4 div.sk-toggleable {background-color: white;}#sk-container-id-4 label.sk-toggleable__label {cursor: pointer;display: block;width: 100%;margin-bottom: 0;padding: 0.3em;box-sizing: border-box;text-align: center;}#sk-container-id-4 label.sk-toggleable__label-arrow:before {content: \"▸\";float: left;margin-right: 0.25em;color: #696969;}#sk-container-id-4 label.sk-toggleable__label-arrow:hover:before {color: black;}#sk-container-id-4 div.sk-estimator:hover label.sk-toggleable__label-arrow:before {color: black;}#sk-container-id-4 div.sk-toggleable__content {max-height: 0;max-width: 0;overflow: hidden;text-align: left;background-color: #f0f8ff;}#sk-container-id-4 div.sk-toggleable__content pre {margin: 0.2em;color: black;border-radius: 0.25em;background-color: #f0f8ff;}#sk-container-id-4 input.sk-toggleable__control:checked~div.sk-toggleable__content {max-height: 200px;max-width: 100%;overflow: auto;}#sk-container-id-4 input.sk-toggleable__control:checked~label.sk-toggleable__label-arrow:before {content: \"▾\";}#sk-container-id-4 div.sk-estimator input.sk-toggleable__control:checked~label.sk-toggleable__label {background-color: #d4ebff;}#sk-container-id-4 div.sk-label input.sk-toggleable__control:checked~label.sk-toggleable__label {background-color: #d4ebff;}#sk-container-id-4 input.sk-hidden--visually {border: 0;clip: rect(1px 1px 1px 1px);clip: rect(1px, 1px, 1px, 1px);height: 1px;margin: -1px;overflow: hidden;padding: 0;position: absolute;width: 1px;}#sk-container-id-4 div.sk-estimator {font-family: monospace;background-color: #f0f8ff;border: 1px dotted black;border-radius: 0.25em;box-sizing: border-box;margin-bottom: 0.5em;}#sk-container-id-4 div.sk-estimator:hover {background-color: #d4ebff;}#sk-container-id-4 div.sk-parallel-item::after {content: \"\";width: 100%;border-bottom: 1px solid gray;flex-grow: 1;}#sk-container-id-4 div.sk-label:hover label.sk-toggleable__label {background-color: #d4ebff;}#sk-container-id-4 div.sk-serial::before {content: \"\";position: absolute;border-left: 1px solid gray;box-sizing: border-box;top: 0;bottom: 0;left: 50%;z-index: 0;}#sk-container-id-4 div.sk-serial {display: flex;flex-direction: column;align-items: center;background-color: white;padding-right: 0.2em;padding-left: 0.2em;position: relative;}#sk-container-id-4 div.sk-item {position: relative;z-index: 1;}#sk-container-id-4 div.sk-parallel {display: flex;align-items: stretch;justify-content: center;background-color: white;position: relative;}#sk-container-id-4 div.sk-item::before, #sk-container-id-4 div.sk-parallel-item::before {content: \"\";position: absolute;border-left: 1px solid gray;box-sizing: border-box;top: 0;bottom: 0;left: 50%;z-index: -1;}#sk-container-id-4 div.sk-parallel-item {display: flex;flex-direction: column;z-index: 1;position: relative;background-color: white;}#sk-container-id-4 div.sk-parallel-item:first-child::after {align-self: flex-end;width: 50%;}#sk-container-id-4 div.sk-parallel-item:last-child::after {align-self: flex-start;width: 50%;}#sk-container-id-4 div.sk-parallel-item:only-child::after {width: 0;}#sk-container-id-4 div.sk-dashed-wrapped {border: 1px dashed gray;margin: 0 0.4em 0.5em 0.4em;box-sizing: border-box;padding-bottom: 0.4em;background-color: white;}#sk-container-id-4 div.sk-label label {font-family: monospace;font-weight: bold;display: inline-block;line-height: 1.2em;}#sk-container-id-4 div.sk-label-container {text-align: center;}#sk-container-id-4 div.sk-container {/* jupyter's `normalize.less` sets `[hidden] { display: none; }` but bootstrap.min.css set `[hidden] { display: none !important; }` so we also need the `!important` here to be able to override the default hidden behavior on the sphinx rendered scikit-learn.org. See: https://github.com/scikit-learn/scikit-learn/issues/21755 */display: inline-block !important;position: relative;}#sk-container-id-4 div.sk-text-repr-fallback {display: none;}</style><div id=\"sk-container-id-4\" class=\"sk-top-container\"><div class=\"sk-text-repr-fallback\"><pre>RandomForestClassifier(n_jobs=6, random_state=0)</pre><b>In a Jupyter environment, please rerun this cell to show the HTML representation or trust the notebook. <br />On GitHub, the HTML representation is unable to render, please try loading this page with nbviewer.org.</b></div><div class=\"sk-container\" hidden><div class=\"sk-item\"><div class=\"sk-estimator sk-toggleable\"><input class=\"sk-toggleable__control sk-hidden--visually\" id=\"sk-estimator-id-4\" type=\"checkbox\" checked><label for=\"sk-estimator-id-4\" class=\"sk-toggleable__label sk-toggleable__label-arrow\">RandomForestClassifier</label><div class=\"sk-toggleable__content\"><pre>RandomForestClassifier(n_jobs=6, random_state=0)</pre></div></div></div></div></div>"
      ],
      "text/plain": [
       "RandomForestClassifier(n_jobs=6, random_state=0)"
      ]
     },
     "execution_count": 37,
     "metadata": {},
     "output_type": "execute_result"
    }
   ],
   "source": [
    "# Instantiate a Random Forest Classifier\\\n",
    "\n",
    "clf_rf2 = RandomForestClassifier(n_estimators=100, random_state=0, n_jobs=6)\n",
    "\n",
    "clf_rf2.fit(X_train_vec, y_train)"
   ]
  },
  {
   "cell_type": "code",
   "execution_count": 38,
   "id": "d9274e2f",
   "metadata": {},
   "outputs": [
    {
     "name": "stdout",
     "output_type": "stream",
     "text": [
      "Training Prediction\n",
      "--------------------\n",
      "              precision    recall  f1-score   support\n",
      "\n",
      "    negative       1.00      0.99      0.99       436\n",
      "     neutral       0.99      1.00      0.99      4122\n",
      "    positive       1.00      0.98      0.99      2278\n",
      "\n",
      "    accuracy                           0.99      6836\n",
      "   macro avg       0.99      0.99      0.99      6836\n",
      "weighted avg       0.99      0.99      0.99      6836\n",
      "\n",
      "Test Prediction\n",
      "--------------------\n",
      "              precision    recall  f1-score   support\n",
      "\n",
      "    negative       0.75      0.16      0.26        77\n",
      "     neutral       0.68      0.90      0.78       728\n",
      "    positive       0.66      0.38      0.48       402\n",
      "\n",
      "    accuracy                           0.68      1207\n",
      "   macro avg       0.70      0.48      0.51      1207\n",
      "weighted avg       0.68      0.68      0.65      1207\n",
      "\n"
     ]
    }
   ],
   "source": [
    "_, _ = get_prediction(clf_rf2, X_train_vec, X_val_vec, y_train, y_val)"
   ]
  },
  {
   "cell_type": "markdown",
   "id": "09e66e70",
   "metadata": {},
   "source": [
    "The model demonstrates high performance on the training dataset, with high precision, recall, and F1-score for all classes, indicating excellent performance in classifying sentiments.\n",
    "On the test dataset, the model's performance is slightly lower but still reasonable. Precision, recall, and F1-score vary across classes, with neutral sentiments having the highest scores and negative sentiments having the lowest.\n",
    "The model's overall accuracy on the test set is 68%, indicating that it correctly predicts sentiments for nearly 68% of the instances in the test set.In summary, the model shows strong performance on both training and test datasets, but there may be room for improvement, especially in correctly identifying negative sentiments."
   ]
  },
  {
   "cell_type": "markdown",
   "id": "82b026ea",
   "metadata": {},
   "source": [
    "## **Neural Networks**"
   ]
  },
  {
   "cell_type": "markdown",
   "id": "235d79dc",
   "metadata": {},
   "source": [
    "**One-hot-encoding**\n"
   ]
  },
  {
   "cell_type": "markdown",
   "id": "883b93dc",
   "metadata": {},
   "source": [
    "One of the requirement for Tensorflow is that our output class label needs to be one-hot encoded."
   ]
  },
  {
   "cell_type": "code",
   "execution_count": 46,
   "id": "2c424903",
   "metadata": {},
   "outputs": [
    {
     "name": "stdout",
     "output_type": "stream",
     "text": [
      "0    G iPhone hrs tweeting RISEAustin dead need upg...\n",
      "1    Know Awesome iPadiPhone app youll likely appre...\n",
      "2                             wait iPad also sale SXSW\n",
      "Name: clean_tweet, dtype: object    negative  neutral  positive\n",
      "0      True    False     False\n",
      "1     False    False      True\n",
      "2     False    False      True\n"
     ]
    }
   ],
   "source": [
    "X = df2['clean_tweet']\n",
    "y_ohe = pd.get_dummies(df2['emotion'])\n",
    "print(X.iloc[:3], y_ohe.iloc[:3])"
   ]
  },
  {
   "cell_type": "code",
   "execution_count": 47,
   "id": "f4b64c0c",
   "metadata": {},
   "outputs": [
    {
     "data": {
      "text/plain": [
       "((6836,), (1207,), (894,), (6836, 3), (1207, 3), (894, 3))"
      ]
     },
     "execution_count": 47,
     "metadata": {},
     "output_type": "execute_result"
    }
   ],
   "source": [
    "X_train, X_test, y_train, y_test = train_test_split(X, y_ohe, test_size=0.10, stratify=y_ohe,\n",
    "                                                    random_state=42)\n",
    "X_train, X_val, y_train, y_val = train_test_split(X_train, y_train, test_size=0.15, stratify=y_train,\n",
    "                                                  random_state=42)\n",
    "X_train.shape, X_val.shape, X_test.shape, y_train.shape, y_val.shape, y_test.shape"
   ]
  },
  {
   "cell_type": "code",
   "execution_count": 60,
   "id": "389b95a6",
   "metadata": {},
   "outputs": [
    {
     "name": "stdout",
     "output_type": "stream",
     "text": [
      "Token count: 6836, Vocab size: 8874, Max lenth: 25, Original length: 131\n"
     ]
    }
   ],
   "source": [
    "X_train_seq, X_test_seq, X_val_seq, maxlen, vocab_size, tokenizer = create_tokens(X_train, X_val, X_test)"
   ]
  },
  {
   "cell_type": "code",
   "execution_count": null,
   "id": "f8e720cb",
   "metadata": {},
   "outputs": [],
   "source": []
  },
  {
   "cell_type": "code",
   "execution_count": null,
   "id": "18196156",
   "metadata": {},
   "outputs": [],
   "source": []
  },
  {
   "cell_type": "code",
   "execution_count": 39,
   "id": "80ac41d1",
   "metadata": {},
   "outputs": [],
   "source": [
    "# !pip install wordcloud"
   ]
  },
  {
   "cell_type": "code",
   "execution_count": 40,
   "id": "7b6d1c0d",
   "metadata": {},
   "outputs": [],
   "source": [
    "# all_words = \" \".join([sentence for sentence in df2['clean_tweet']])\n",
    "\n",
    "# wordcloud = WordCloud(width = 800, height = 500, random_state=42, max_font_size=100).generate(all_words)\n",
    "\n",
    "# #plot the graph\n",
    "# plt.figure(figsize =(10, 8))\n",
    "# plt.imshow(wordcloud, interpolation='bilinear')\n",
    "# plt.axis(\"off\")\n",
    "# plt.show() "
   ]
  },
  {
   "cell_type": "code",
   "execution_count": 41,
   "id": "d857a192",
   "metadata": {},
   "outputs": [],
   "source": [
    "# #Frequent words visualization for +ve feedback\n",
    "\n",
    "# all_words = \" \".join([sentence for sentence in df2['clean_tweet'][df2['emotion']=='positive']])\n",
    "\n",
    "# wordcloud = WordCloud(width = 800, height = 500, random_state=42, max_font_size=100).generate(all_words)\n",
    "\n",
    "# #plot the graph\n",
    "# plt.figure(figsize =(10, 8))\n",
    "# plt.imshow(wordcloud, interpolation='bilinear')\n",
    "# plt.axis(\"off\")\n",
    "# plt.show() "
   ]
  },
  {
   "cell_type": "code",
   "execution_count": 42,
   "id": "d0922471",
   "metadata": {},
   "outputs": [],
   "source": [
    "# # Frequent words visualization for -ve feedback\n",
    "\n",
    "# all_words = \" \".join([sentence for sentence in df2['clean_tweet'][df2['emotion']=='negative']])\n",
    "\n",
    "# wordcloud = WordCloud(width = 800, height = 500, random_state=42, max_font_size=100).generate(all_words)\n",
    "\n",
    "# #plot the graph\n",
    "# plt.figure(figsize =(10, 8))\n",
    "# plt.imshow(wordcloud, interpolation='bilinear')\n",
    "# plt.axis(\"off\")\n",
    "# plt.show() "
   ]
  },
  {
   "cell_type": "markdown",
   "id": "f4bcbe5f",
   "metadata": {},
   "source": [
    "## Feature extraction"
   ]
  },
  {
   "cell_type": "code",
   "execution_count": 43,
   "id": "80c8d4d6",
   "metadata": {},
   "outputs": [],
   "source": [
    "# from sklearn.feature_extraction.text import CountVectorizer\n",
    "# bow_vectorizer = CountVectorizer(max_df=0.90, min_df=2, max_features=1000, stop_words ='english')\n",
    "# bow = bow_vectorizer.fit_transform(df2['clean_tweet'])\n",
    "# bow[0].toarray()"
   ]
  },
  {
   "cell_type": "code",
   "execution_count": 44,
   "id": "efbb9950",
   "metadata": {},
   "outputs": [],
   "source": [
    "# X = df2[['clean_tweet']]\n",
    "# y = df2['emotion']"
   ]
  },
  {
   "cell_type": "code",
   "execution_count": 45,
   "id": "81ed7ffa",
   "metadata": {},
   "outputs": [],
   "source": [
    "# # #Data Split\n",
    "# from sklearn.model_selection import train_test_split\n",
    "# X_train, X_test, y_train, y_test = train_test_split(bow,df2['emotion'], random_state=42, test_size=0.25)\n"
   ]
  },
  {
   "cell_type": "code",
   "execution_count": null,
   "id": "e1bb14cf",
   "metadata": {},
   "outputs": [],
   "source": []
  },
  {
   "cell_type": "markdown",
   "id": "e78e5425",
   "metadata": {},
   "source": [
    "## Model Training"
   ]
  },
  {
   "cell_type": "code",
   "execution_count": null,
   "id": "e65e2937",
   "metadata": {},
   "outputs": [],
   "source": [
    "\n"
   ]
  },
  {
   "cell_type": "code",
   "execution_count": null,
   "id": "9b2b865d",
   "metadata": {},
   "outputs": [],
   "source": []
  },
  {
   "cell_type": "code",
   "execution_count": null,
   "id": "f68d5812",
   "metadata": {},
   "outputs": [],
   "source": []
  }
 ],
 "metadata": {
  "kernelspec": {
   "display_name": "Python (learn-env)",
   "language": "python",
   "name": "learn-env"
  },
  "language_info": {
   "codemirror_mode": {
    "name": "ipython",
    "version": 3
   },
   "file_extension": ".py",
   "mimetype": "text/x-python",
   "name": "python",
   "nbconvert_exporter": "python",
   "pygments_lexer": "ipython3",
   "version": "3.11.5"
  }
 },
 "nbformat": 4,
 "nbformat_minor": 5
}
